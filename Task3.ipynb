{
 "cells": [
  {
   "cell_type": "code",
   "execution_count": 2,
   "id": "119a05e1",
   "metadata": {},
   "outputs": [
    {
     "name": "stdout",
     "output_type": "stream",
     "text": [
      "Collecting plotly==5.18.0\n",
      "  Downloading plotly-5.18.0-py3-none-any.whl (15.6 MB)\n",
      "     ---------------------------------------- 15.6/15.6 MB 7.5 MB/s eta 0:00:00\n",
      "Requirement already satisfied: packaging in c:\\users\\user\\anaconda3\\lib\\site-packages (from plotly==5.18.0) (22.0)\n",
      "Requirement already satisfied: tenacity>=6.2.0 in c:\\users\\user\\anaconda3\\lib\\site-packages (from plotly==5.18.0) (8.0.1)\n",
      "Installing collected packages: plotly\n",
      "  Attempting uninstall: plotly\n",
      "    Found existing installation: plotly 5.9.0\n",
      "    Uninstalling plotly-5.9.0:\n",
      "      Successfully uninstalled plotly-5.9.0\n",
      "Successfully installed plotly-5.18.0\n"
     ]
    }
   ],
   "source": [
    "!pip install plotly==5.18.0"
   ]
  },
  {
   "cell_type": "markdown",
   "id": "f444dd4f",
   "metadata": {},
   "source": [
    "## Подготовка данных"
   ]
  },
  {
   "cell_type": "code",
   "execution_count": 126,
   "id": "9e00354b",
   "metadata": {},
   "outputs": [],
   "source": [
    "import pandas as pd\n",
    "import numpy as np\n",
    "import plotly.express as px\n",
    "import json\n",
    "import ast"
   ]
  },
  {
   "cell_type": "code",
   "execution_count": 127,
   "id": "e2ce2d8e",
   "metadata": {},
   "outputs": [],
   "source": [
    "orders = pd.read_csv('orders.csv', parse_dates=[1])\n",
    "sales = pd.read_csv('sales.csv', parse_dates=[1])\n",
    "user = pd.read_csv('user.csv', parse_dates=[5])\n",
    "store = pd.read_csv('store.csv', parse_dates=[4, 5])\n",
    "product = pd.read_csv('product.csv')"
   ]
  },
  {
   "cell_type": "code",
   "execution_count": 128,
   "id": "144b7577",
   "metadata": {},
   "outputs": [],
   "source": [
    "def parse_json_field(df: pd.DataFrame, colunm_name: str) -> pd.DataFrame:\n",
    "    # replacing trash\n",
    "    df[colunm_name] = df[colunm_name].str.replace('\\'', '\\\"')\n",
    "    df[colunm_name] = df[colunm_name].str.replace('False', '0')\n",
    "    df[colunm_name] = df[colunm_name].str.replace('True', '1')\n",
    "    # eploding list of jsons\n",
    "    df[colunm_name] = df[colunm_name].apply(ast.literal_eval)\n",
    "    df = df.explode(colunm_name, ignore_index = True)\n",
    "    # concat normalized dataframe\n",
    "    return pd.concat([df.drop(colunm_name, axis=1), pd.json_normalize(df[colunm_name])], axis=1)"
   ]
  },
  {
   "cell_type": "code",
   "execution_count": 129,
   "id": "dd74a156",
   "metadata": {},
   "outputs": [],
   "source": [
    "orders = parse_json_field(orders, 'product_info')"
   ]
  },
  {
   "cell_type": "code",
   "execution_count": 130,
   "id": "31bfbb4a",
   "metadata": {
    "scrolled": true
   },
   "outputs": [
    {
     "data": {
      "text/html": [
       "<div>\n",
       "<style scoped>\n",
       "    .dataframe tbody tr th:only-of-type {\n",
       "        vertical-align: middle;\n",
       "    }\n",
       "\n",
       "    .dataframe tbody tr th {\n",
       "        vertical-align: top;\n",
       "    }\n",
       "\n",
       "    .dataframe thead th {\n",
       "        text-align: right;\n",
       "    }\n",
       "</style>\n",
       "<table border=\"1\" class=\"dataframe\">\n",
       "  <thead>\n",
       "    <tr style=\"text-align: right;\">\n",
       "      <th></th>\n",
       "      <th>order_id</th>\n",
       "      <th>order_date</th>\n",
       "      <th>user_id</th>\n",
       "      <th>store_id</th>\n",
       "      <th>product_id</th>\n",
       "      <th>product_price</th>\n",
       "      <th>product_comission</th>\n",
       "      <th>comission_is_percent</th>\n",
       "      <th>count</th>\n",
       "      <th>user_birthdate</th>\n",
       "      <th>...</th>\n",
       "      <th>is_canceled</th>\n",
       "      <th>is_accepted</th>\n",
       "      <th>longtitude</th>\n",
       "      <th>latitude</th>\n",
       "      <th>store_name</th>\n",
       "      <th>store_open_date</th>\n",
       "      <th>store_close_date</th>\n",
       "      <th>full_price</th>\n",
       "      <th>month</th>\n",
       "      <th>full_revenue</th>\n",
       "    </tr>\n",
       "  </thead>\n",
       "  <tbody>\n",
       "    <tr>\n",
       "      <th>0</th>\n",
       "      <td>1</td>\n",
       "      <td>2022-01-11</td>\n",
       "      <td>13</td>\n",
       "      <td>6</td>\n",
       "      <td>3283</td>\n",
       "      <td>18245.907938</td>\n",
       "      <td>3000</td>\n",
       "      <td>0</td>\n",
       "      <td>1</td>\n",
       "      <td>1990-04-18</td>\n",
       "      <td>...</td>\n",
       "      <td>False</td>\n",
       "      <td>True</td>\n",
       "      <td>55.663782</td>\n",
       "      <td>37.511308</td>\n",
       "      <td>Rio Leninsky</td>\n",
       "      <td>2022-01-10</td>\n",
       "      <td>NaT</td>\n",
       "      <td>18245.907938</td>\n",
       "      <td>2022-01</td>\n",
       "      <td>3000.000000</td>\n",
       "    </tr>\n",
       "    <tr>\n",
       "      <th>1</th>\n",
       "      <td>234475</td>\n",
       "      <td>2023-04-29</td>\n",
       "      <td>1074</td>\n",
       "      <td>6</td>\n",
       "      <td>3283</td>\n",
       "      <td>18245.907938</td>\n",
       "      <td>75</td>\n",
       "      <td>1</td>\n",
       "      <td>1</td>\n",
       "      <td>1967-01-13</td>\n",
       "      <td>...</td>\n",
       "      <td>False</td>\n",
       "      <td>True</td>\n",
       "      <td>55.663782</td>\n",
       "      <td>37.511308</td>\n",
       "      <td>Rio Leninsky</td>\n",
       "      <td>2022-01-10</td>\n",
       "      <td>NaT</td>\n",
       "      <td>18245.907938</td>\n",
       "      <td>2023-05</td>\n",
       "      <td>13684.430953</td>\n",
       "    </tr>\n",
       "    <tr>\n",
       "      <th>2</th>\n",
       "      <td>128498</td>\n",
       "      <td>2023-01-16</td>\n",
       "      <td>4396</td>\n",
       "      <td>6</td>\n",
       "      <td>3283</td>\n",
       "      <td>18245.907938</td>\n",
       "      <td>4000</td>\n",
       "      <td>0</td>\n",
       "      <td>1</td>\n",
       "      <td>1984-01-03</td>\n",
       "      <td>...</td>\n",
       "      <td>True</td>\n",
       "      <td>True</td>\n",
       "      <td>55.663782</td>\n",
       "      <td>37.511308</td>\n",
       "      <td>Rio Leninsky</td>\n",
       "      <td>2022-01-10</td>\n",
       "      <td>NaT</td>\n",
       "      <td>18245.907938</td>\n",
       "      <td>2023-01</td>\n",
       "      <td>4000.000000</td>\n",
       "    </tr>\n",
       "    <tr>\n",
       "      <th>3</th>\n",
       "      <td>35555</td>\n",
       "      <td>2022-07-13</td>\n",
       "      <td>5334</td>\n",
       "      <td>6</td>\n",
       "      <td>3283</td>\n",
       "      <td>18245.907938</td>\n",
       "      <td>5</td>\n",
       "      <td>1</td>\n",
       "      <td>1</td>\n",
       "      <td>1972-11-20</td>\n",
       "      <td>...</td>\n",
       "      <td>False</td>\n",
       "      <td>True</td>\n",
       "      <td>55.663782</td>\n",
       "      <td>37.511308</td>\n",
       "      <td>Rio Leninsky</td>\n",
       "      <td>2022-01-10</td>\n",
       "      <td>NaT</td>\n",
       "      <td>18245.907938</td>\n",
       "      <td>2022-07</td>\n",
       "      <td>912.295397</td>\n",
       "    </tr>\n",
       "    <tr>\n",
       "      <th>4</th>\n",
       "      <td>95351</td>\n",
       "      <td>2022-11-24</td>\n",
       "      <td>41</td>\n",
       "      <td>6</td>\n",
       "      <td>3283</td>\n",
       "      <td>18245.907938</td>\n",
       "      <td>75</td>\n",
       "      <td>1</td>\n",
       "      <td>1</td>\n",
       "      <td>1971-09-27</td>\n",
       "      <td>...</td>\n",
       "      <td>False</td>\n",
       "      <td>True</td>\n",
       "      <td>55.663782</td>\n",
       "      <td>37.511308</td>\n",
       "      <td>Rio Leninsky</td>\n",
       "      <td>2022-01-10</td>\n",
       "      <td>NaT</td>\n",
       "      <td>18245.907938</td>\n",
       "      <td>2022-11</td>\n",
       "      <td>13684.430953</td>\n",
       "    </tr>\n",
       "  </tbody>\n",
       "</table>\n",
       "<p>5 rows × 22 columns</p>\n",
       "</div>"
      ],
      "text/plain": [
       "   order_id order_date  user_id  store_id  product_id  product_price  \\\n",
       "0         1 2022-01-11       13         6        3283   18245.907938   \n",
       "1    234475 2023-04-29     1074         6        3283   18245.907938   \n",
       "2    128498 2023-01-16     4396         6        3283   18245.907938   \n",
       "3     35555 2022-07-13     5334         6        3283   18245.907938   \n",
       "4     95351 2022-11-24       41         6        3283   18245.907938   \n",
       "\n",
       "   product_comission  comission_is_percent  count user_birthdate  ...  \\\n",
       "0               3000                     0      1     1990-04-18  ...   \n",
       "1                 75                     1      1     1967-01-13  ...   \n",
       "2               4000                     0      1     1984-01-03  ...   \n",
       "3                  5                     1      1     1972-11-20  ...   \n",
       "4                 75                     1      1     1971-09-27  ...   \n",
       "\n",
       "  is_canceled is_accepted  longtitude   latitude    store_name  \\\n",
       "0       False        True   55.663782  37.511308  Rio Leninsky   \n",
       "1       False        True   55.663782  37.511308  Rio Leninsky   \n",
       "2        True        True   55.663782  37.511308  Rio Leninsky   \n",
       "3       False        True   55.663782  37.511308  Rio Leninsky   \n",
       "4       False        True   55.663782  37.511308  Rio Leninsky   \n",
       "\n",
       "   store_open_date store_close_date    full_price    month  full_revenue  \n",
       "0       2022-01-10              NaT  18245.907938  2022-01   3000.000000  \n",
       "1       2022-01-10              NaT  18245.907938  2023-05  13684.430953  \n",
       "2       2022-01-10              NaT  18245.907938  2023-01   4000.000000  \n",
       "3       2022-01-10              NaT  18245.907938  2022-07    912.295397  \n",
       "4       2022-01-10              NaT  18245.907938  2022-11  13684.430953  \n",
       "\n",
       "[5 rows x 22 columns]"
      ]
     },
     "execution_count": 130,
     "metadata": {},
     "output_type": "execute_result"
    }
   ],
   "source": [
    "full_df = pd.merge(left=orders, right=user[['user_id', 'user_birthdate']], on='user_id')\n",
    "full_df = pd.merge(left=full_df, right=product[['product_id', 'product_name']], on='product_id')\n",
    "full_df = pd.merge(left=full_df, right=sales.drop(columns=['id']), on=['order_id', 'product_id'])\n",
    "full_df = pd.merge(left=full_df, right=store, on='store_id')\n",
    "\n",
    "full_df['full_price'] = full_df['product_price'] * full_df['count']\n",
    "full_df['month'] = full_df['purchase_date'].dt.to_period('M')\n",
    "full_df['full_revenue'] = np.where(full_df['comission_is_percent'] == True,\n",
    "         (full_df['product_comission'] / 100 * full_df['product_price']) * full_df['count'],\n",
    "         full_df['product_comission'] * full_df['count'])\n",
    "full_df.head()"
   ]
  },
  {
   "cell_type": "markdown",
   "id": "0dd1fc00",
   "metadata": {},
   "source": [
    "## Информация по пользователям"
   ]
  },
  {
   "cell_type": "markdown",
   "id": "57579ac9",
   "metadata": {},
   "source": [
    "#### Средний возраст покупателей"
   ]
  },
  {
   "cell_type": "code",
   "execution_count": 138,
   "id": "2629283f",
   "metadata": {},
   "outputs": [
    {
     "name": "stdout",
     "output_type": "stream",
     "text": [
      "Средний возраст покупателей = 46.8 лет\n"
     ]
    }
   ],
   "source": [
    "print(f'Средний возраст покупателей = {(pd.to_datetime(\"today\").normalize() - full_df.user_birthdate.mean()).days / 365} лет')"
   ]
  },
  {
   "cell_type": "markdown",
   "id": "ae0be4e7",
   "metadata": {},
   "source": [
    "### Сегментация по покупкам"
   ]
  },
  {
   "cell_type": "markdown",
   "id": "8e45930c",
   "metadata": {},
   "source": [
    "Пользователей которые ни разу не совершали покупку не оказалось."
   ]
  },
  {
   "cell_type": "code",
   "execution_count": 139,
   "id": "83c376f2",
   "metadata": {},
   "outputs": [
    {
     "data": {
      "text/plain": [
       "array([], dtype=int64)"
      ]
     },
     "execution_count": 139,
     "metadata": {},
     "output_type": "execute_result"
    }
   ],
   "source": [
    "np.setdiff1d(full_df.query('is_accepted == False').user_id.unique(), full_df.query('is_accepted == True').user_id.unique())"
   ]
  },
  {
   "cell_type": "markdown",
   "id": "a5b73674",
   "metadata": {},
   "source": [
    "## Конверсия в покупку и процент выкупа среди магазинов"
   ]
  },
  {
   "cell_type": "code",
   "execution_count": 134,
   "id": "c0481400",
   "metadata": {},
   "outputs": [
    {
     "data": {
      "text/html": [
       "<style type=\"text/css\">\n",
       "</style>\n",
       "<table id=\"T_525ca\">\n",
       "  <thead>\n",
       "    <tr>\n",
       "      <th class=\"blank level0\" >&nbsp;</th>\n",
       "      <th id=\"T_525ca_level0_col0\" class=\"col_heading level0 col0\" >Конверсия_в_покупку</th>\n",
       "      <th id=\"T_525ca_level0_col1\" class=\"col_heading level0 col1\" >Процент_выкупа</th>\n",
       "    </tr>\n",
       "    <tr>\n",
       "      <th class=\"index_name level0\" >store_name</th>\n",
       "      <th class=\"blank col0\" >&nbsp;</th>\n",
       "      <th class=\"blank col1\" >&nbsp;</th>\n",
       "    </tr>\n",
       "  </thead>\n",
       "  <tbody>\n",
       "    <tr>\n",
       "      <th id=\"T_525ca_level0_row0\" class=\"row_heading level0 row0\" >Afimoll</th>\n",
       "      <td id=\"T_525ca_row0_col0\" class=\"data row0 col0\" >2.56%</td>\n",
       "      <td id=\"T_525ca_row0_col1\" class=\"data row0 col1\" >22.51%</td>\n",
       "    </tr>\n",
       "    <tr>\n",
       "      <th id=\"T_525ca_level0_row1\" class=\"row_heading level0 row1\" >Aviapark</th>\n",
       "      <td id=\"T_525ca_row1_col0\" class=\"data row1 col0\" >10.28%</td>\n",
       "      <td id=\"T_525ca_row1_col1\" class=\"data row1 col1\" >68.60%</td>\n",
       "    </tr>\n",
       "    <tr>\n",
       "      <th id=\"T_525ca_level0_row2\" class=\"row_heading level0 row2\" >City Mall</th>\n",
       "      <td id=\"T_525ca_row2_col0\" class=\"data row2 col0\" >59.07%</td>\n",
       "      <td id=\"T_525ca_row2_col1\" class=\"data row2 col1\" >0.00%</td>\n",
       "    </tr>\n",
       "    <tr>\n",
       "      <th id=\"T_525ca_level0_row3\" class=\"row_heading level0 row3\" >Evropeisky</th>\n",
       "      <td id=\"T_525ca_row3_col0\" class=\"data row3 col0\" >12.28%</td>\n",
       "      <td id=\"T_525ca_row3_col1\" class=\"data row3 col1\" >63.68%</td>\n",
       "    </tr>\n",
       "    <tr>\n",
       "      <th id=\"T_525ca_level0_row4\" class=\"row_heading level0 row4\" >Evropolis</th>\n",
       "      <td id=\"T_525ca_row4_col0\" class=\"data row4 col0\" >5.53%</td>\n",
       "      <td id=\"T_525ca_row4_col1\" class=\"data row4 col1\" >67.88%</td>\n",
       "    </tr>\n",
       "    <tr>\n",
       "      <th id=\"T_525ca_level0_row5\" class=\"row_heading level0 row5\" >Galereia</th>\n",
       "      <td id=\"T_525ca_row5_col0\" class=\"data row5 col0\" >15.67%</td>\n",
       "      <td id=\"T_525ca_row5_col1\" class=\"data row5 col1\" >65.98%</td>\n",
       "    </tr>\n",
       "    <tr>\n",
       "      <th id=\"T_525ca_level0_row6\" class=\"row_heading level0 row6\" >Grinvich</th>\n",
       "      <td id=\"T_525ca_row6_col0\" class=\"data row6 col0\" >26.84%</td>\n",
       "      <td id=\"T_525ca_row6_col1\" class=\"data row6 col1\" >54.20%</td>\n",
       "    </tr>\n",
       "    <tr>\n",
       "      <th id=\"T_525ca_level0_row7\" class=\"row_heading level0 row7\" >Kapitoliy Vernadskogo</th>\n",
       "      <td id=\"T_525ca_row7_col0\" class=\"data row7 col0\" >40.93%</td>\n",
       "      <td id=\"T_525ca_row7_col1\" class=\"data row7 col1\" >40.18%</td>\n",
       "    </tr>\n",
       "    <tr>\n",
       "      <th id=\"T_525ca_level0_row8\" class=\"row_heading level0 row8\" >Kapitoly Belyaevo</th>\n",
       "      <td id=\"T_525ca_row8_col0\" class=\"data row8 col0\" >5.13%</td>\n",
       "      <td id=\"T_525ca_row8_col1\" class=\"data row8 col1\" >67.78%</td>\n",
       "    </tr>\n",
       "    <tr>\n",
       "      <th id=\"T_525ca_level0_row9\" class=\"row_heading level0 row9\" >Koltso</th>\n",
       "      <td id=\"T_525ca_row9_col0\" class=\"data row9 col0\" >6.80%</td>\n",
       "      <td id=\"T_525ca_row9_col1\" class=\"data row9 col1\" >68.27%</td>\n",
       "    </tr>\n",
       "    <tr>\n",
       "      <th id=\"T_525ca_level0_row10\" class=\"row_heading level0 row10\" >Muravei</th>\n",
       "      <td id=\"T_525ca_row10_col0\" class=\"data row10 col0\" >52.40%</td>\n",
       "      <td id=\"T_525ca_row10_col1\" class=\"data row10 col1\" >17.02%</td>\n",
       "    </tr>\n",
       "    <tr>\n",
       "      <th id=\"T_525ca_level0_row11\" class=\"row_heading level0 row11\" >Respublica</th>\n",
       "      <td id=\"T_525ca_row11_col0\" class=\"data row11 col0\" >37.23%</td>\n",
       "      <td id=\"T_525ca_row11_col1\" class=\"data row11 col1\" >0.00%</td>\n",
       "    </tr>\n",
       "    <tr>\n",
       "      <th id=\"T_525ca_level0_row12\" class=\"row_heading level0 row12\" >Rio Leninsky</th>\n",
       "      <td id=\"T_525ca_row12_col0\" class=\"data row12 col0\" >4.47%</td>\n",
       "      <td id=\"T_525ca_row12_col1\" class=\"data row12 col1\" >70.67%</td>\n",
       "    </tr>\n",
       "    <tr>\n",
       "      <th id=\"T_525ca_level0_row13\" class=\"row_heading level0 row13\" >Sedmoe Nebo</th>\n",
       "      <td id=\"T_525ca_row13_col0\" class=\"data row13 col0\" >10.21%</td>\n",
       "      <td id=\"T_525ca_row13_col1\" class=\"data row13 col1\" >64.13%</td>\n",
       "    </tr>\n",
       "    <tr>\n",
       "      <th id=\"T_525ca_level0_row14\" class=\"row_heading level0 row14\" >Tsvetnoy</th>\n",
       "      <td id=\"T_525ca_row14_col0\" class=\"data row14 col0\" >6.71%</td>\n",
       "      <td id=\"T_525ca_row14_col1\" class=\"data row14 col1\" >18.19%</td>\n",
       "    </tr>\n",
       "  </tbody>\n",
       "</table>\n"
      ],
      "text/plain": [
       "<pandas.io.formats.style.Styler at 0x1b6912fab30>"
      ]
     },
     "execution_count": 134,
     "metadata": {},
     "output_type": "execute_result"
    }
   ],
   "source": [
    "pd.concat([\n",
    "    np.round((1 - full_df.query('is_accepted == True').groupby('store_name').agg(\n",
    "        Конверсия_в_покупку=('order_id', 'count'),\n",
    "    ) / full_df.groupby('store_name').agg(\n",
    "        Конверсия_в_покупку=('order_id', 'count'),\n",
    "    ) ), 4), \n",
    "    np.round((1 - full_df.query('is_canceled == True and is_accepted == True').groupby('store_name').agg(\n",
    "        Процент_выкупа=('order_id', 'count'),\n",
    "    ) / full_df.query('is_accepted == True').groupby('store_name').agg(\n",
    "        Процент_выкупа=('order_id', 'count'),\n",
    "    ) ), 4)], axis=1).style.format({\n",
    "        'Конверсия_в_покупку': '{:,.2%}'.format,\n",
    "        'Процент_выкупа': '{:,.2%}'.format,\n",
    "    })"
   ]
  },
  {
   "cell_type": "markdown",
   "id": "01626a83",
   "metadata": {},
   "source": [
    "## Тенденции показателей магазинов во времени\n",
    "#### AOV"
   ]
  },
  {
   "cell_type": "code",
   "execution_count": 169,
   "id": "474efa2d",
   "metadata": {
    "scrolled": true
   },
   "outputs": [],
   "source": [
    "by_month = full_df.query(\n",
    "    'is_canceled == False and is_accepted == True').groupby([\n",
    "    'store_name', 'month'], as_index=False).agg(\n",
    "    total_orders_price=('full_price', np.sum),\n",
    "    total_orders_revenue=('full_revenue', np.sum),\n",
    "    orders_count=('order_id', pd.Series.nunique),\n",
    ")\n",
    "by_month['AOV'] = np.round(by_month['total_orders_revenue'] / by_month['orders_count'], 2)"
   ]
  },
  {
   "cell_type": "code",
   "execution_count": 167,
   "id": "b0dd5738",
   "metadata": {},
   "outputs": [
    {
     "data": {
      "application/vnd.plotly.v1+json": {
       "config": {
        "plotlyServerURL": "https://plot.ly"
       },
       "data": [
        {
         "customdata": [
          [
           40495453.27451934,
           14460097.75264535,
           987
          ],
          [
           74652948.04771125,
           25041627.582198363,
           1919
          ],
          [
           76541651.05785595,
           25796202.441825364,
           1954
          ],
          [
           74382831.32825424,
           24525743.292597413,
           1958
          ],
          [
           62308818.1423417,
           20639103.76230183,
           1765
          ],
          [
           73929056.3471301,
           24275253.369498428,
           1893
          ],
          [
           67833081.38986987,
           22031265.0928559,
           1940
          ],
          [
           73015717.70997931,
           24490684.83227122,
           1950
          ],
          [
           75924906.03524005,
           25892274.842800427,
           1857
          ],
          [
           65932053.6667954,
           21394280.071453586,
           1909
          ],
          [
           69011626.0370694,
           22134077.285814285,
           1916
          ],
          [
           71011945.6239286,
           23846962.066574097,
           1958
          ],
          [
           29487870.355819825,
           9381966.682522085,
           819
          ]
         ],
         "hovertemplate": "store_name=Afimoll<br>month=%{x}<br>AOV=%{y:,.2f}<br>total_orders_price=%{customdata[0]:,.2f}<br>total_orders_revenue=%{customdata[1]:,.2f}<br>orders_count=%{customdata[2]:,}<extra></extra>",
         "legendgroup": "Afimoll",
         "line": {
          "color": "#636efa",
          "dash": "solid"
         },
         "marker": {
          "symbol": "circle"
         },
         "mode": "lines",
         "name": "Afimoll",
         "orientation": "v",
         "showlegend": true,
         "type": "scatter",
         "x": [
          "2022-10-01T00:00:00",
          "2022-11-01T00:00:00",
          "2022-12-01T00:00:00",
          "2023-01-01T00:00:00",
          "2023-02-01T00:00:00",
          "2023-03-01T00:00:00",
          "2023-04-01T00:00:00",
          "2023-05-01T00:00:00",
          "2023-06-01T00:00:00",
          "2023-07-01T00:00:00",
          "2023-08-01T00:00:00",
          "2023-09-01T00:00:00",
          "2023-10-01T00:00:00"
         ],
         "xaxis": "x",
         "y": [
          14650.55,
          13049.31,
          13201.74,
          12525.92,
          11693.54,
          12823.69,
          11356.32,
          12559.33,
          13943.07,
          11207.06,
          11552.23,
          12179.25,
          11455.39
         ],
         "yaxis": "y"
        },
        {
         "customdata": [
          [
           105542439.24000275,
           35775795.07033415,
           2932
          ],
          [
           249575444.4320614,
           83376917.10435086,
           6578
          ],
          [
           257679832.6520927,
           86904196.55326195,
           7146
          ],
          [
           248231328.6942052,
           84187001.6195992,
           6837
          ],
          [
           262862461.3005931,
           87931025.41893935,
           7081
          ],
          [
           252217259.10369813,
           84157557.68488471,
           6919
          ],
          [
           266774554.29533818,
           90351322.69624646,
           7224
          ],
          [
           264770757.51907578,
           87603829.96538536,
           7285
          ],
          [
           254160520.46038926,
           85045834.98651871,
           7044
          ],
          [
           122775482.34224246,
           42472875.861251846,
           3158
          ]
         ],
         "hovertemplate": "store_name=Aviapark<br>month=%{x}<br>AOV=%{y:,.2f}<br>total_orders_price=%{customdata[0]:,.2f}<br>total_orders_revenue=%{customdata[1]:,.2f}<br>orders_count=%{customdata[2]:,}<extra></extra>",
         "legendgroup": "Aviapark",
         "line": {
          "color": "#EF553B",
          "dash": "solid"
         },
         "marker": {
          "symbol": "circle"
         },
         "mode": "lines",
         "name": "Aviapark",
         "orientation": "v",
         "showlegend": true,
         "type": "scatter",
         "x": [
          "2023-01-01T00:00:00",
          "2023-02-01T00:00:00",
          "2023-03-01T00:00:00",
          "2023-04-01T00:00:00",
          "2023-05-01T00:00:00",
          "2023-06-01T00:00:00",
          "2023-07-01T00:00:00",
          "2023-08-01T00:00:00",
          "2023-09-01T00:00:00",
          "2023-10-01T00:00:00"
         ],
         "xaxis": "x",
         "y": [
          12201.84,
          12675.12,
          12161.24,
          12313.44,
          12417.88,
          12163.25,
          12507.1,
          12025.23,
          12073.51,
          13449.3
         ],
         "yaxis": "y"
        },
        {
         "customdata": [
          [
           297737028.651215,
           100368554.68751858,
           7728
          ],
          [
           351796921.674974,
           117496928.7405991,
           9445
          ],
          [
           359833464.7118329,
           122923694.6664741,
           9167
          ],
          [
           368467483.3781216,
           123889225.4699631,
           9602
          ],
          [
           343616813.72211105,
           114180542.9039856,
           9416
          ],
          [
           347684686.53347874,
           112067963.79461923,
           9295
          ],
          [
           149984810.6451769,
           51449530.416133255,
           4111
          ]
         ],
         "hovertemplate": "store_name=Evropeisky<br>month=%{x}<br>AOV=%{y:,.2f}<br>total_orders_price=%{customdata[0]:,.2f}<br>total_orders_revenue=%{customdata[1]:,.2f}<br>orders_count=%{customdata[2]:,}<extra></extra>",
         "legendgroup": "Evropeisky",
         "line": {
          "color": "#00cc96",
          "dash": "solid"
         },
         "marker": {
          "symbol": "circle"
         },
         "mode": "lines",
         "name": "Evropeisky",
         "orientation": "v",
         "showlegend": true,
         "type": "scatter",
         "x": [
          "2023-04-01T00:00:00",
          "2023-05-01T00:00:00",
          "2023-06-01T00:00:00",
          "2023-07-01T00:00:00",
          "2023-08-01T00:00:00",
          "2023-09-01T00:00:00",
          "2023-10-01T00:00:00"
         ],
         "xaxis": "x",
         "y": [
          12987.65,
          12440.12,
          13409.37,
          12902.44,
          12126.23,
          12056.8,
          12515.09
         ],
         "yaxis": "y"
        },
        {
         "customdata": [
          [
           30662715.240862593,
           10171579.597018342,
           852
          ],
          [
           87307541.30204108,
           28227865.524137966,
           2516
          ],
          [
           91248616.87395312,
           29318657.825127956,
           2644
          ],
          [
           92623462.65751192,
           30974306.824018944,
           2569
          ],
          [
           87981863.72238216,
           30274205.728461742,
           2422
          ],
          [
           101861324.30794658,
           36105166.617842905,
           2712
          ],
          [
           87514912.71655339,
           30445110.867197245,
           2551
          ],
          [
           102109388.41220997,
           33102621.604826197,
           2549
          ],
          [
           93961036.31328663,
           31772855.985067714,
           2621
          ],
          [
           93415775.05150208,
           30659955.80721656,
           2416
          ],
          [
           92910776.87405345,
           30988918.416199133,
           2663
          ],
          [
           95653068.0807607,
           31839153.05052114,
           2567
          ],
          [
           99726389.00726676,
           34054827.150401086,
           2580
          ],
          [
           86325244.87394144,
           28839769.045519717,
           2431
          ],
          [
           98044634.55018224,
           32179978.855817735,
           2629
          ],
          [
           91933093.13999781,
           30629730.36359619,
           2612
          ],
          [
           79388264.39368817,
           26937362.633853573,
           2446
          ],
          [
           43709982.95127659,
           14750470.209702782,
           1061
          ]
         ],
         "hovertemplate": "store_name=Evropolis<br>month=%{x}<br>AOV=%{y:,.2f}<br>total_orders_price=%{customdata[0]:,.2f}<br>total_orders_revenue=%{customdata[1]:,.2f}<br>orders_count=%{customdata[2]:,}<extra></extra>",
         "legendgroup": "Evropolis",
         "line": {
          "color": "#ab63fa",
          "dash": "solid"
         },
         "marker": {
          "symbol": "circle"
         },
         "mode": "lines",
         "name": "Evropolis",
         "orientation": "v",
         "showlegend": true,
         "type": "scatter",
         "x": [
          "2022-05-01T00:00:00",
          "2022-06-01T00:00:00",
          "2022-07-01T00:00:00",
          "2022-08-01T00:00:00",
          "2022-09-01T00:00:00",
          "2022-10-01T00:00:00",
          "2022-11-01T00:00:00",
          "2022-12-01T00:00:00",
          "2023-01-01T00:00:00",
          "2023-02-01T00:00:00",
          "2023-03-01T00:00:00",
          "2023-04-01T00:00:00",
          "2023-05-01T00:00:00",
          "2023-06-01T00:00:00",
          "2023-07-01T00:00:00",
          "2023-08-01T00:00:00",
          "2023-09-01T00:00:00",
          "2023-10-01T00:00:00"
         ],
         "xaxis": "x",
         "y": [
          11938.47,
          11219.34,
          11088.75,
          12056.95,
          12499.67,
          13313.11,
          11934.58,
          12986.51,
          12122.42,
          12690.38,
          11636.85,
          12403.25,
          13199.55,
          11863.34,
          12240.39,
          11726.54,
          11012.82,
          13902.42
         ],
         "yaxis": "y"
        },
        {
         "customdata": [
          [
           215166053.76013368,
           71514114.13360538,
           5704
          ],
          [
           260677274.25812057,
           86001797.95190437,
           6722
          ],
          [
           244175456.67330694,
           80815685.58175026,
           6791
          ],
          [
           234540896.33010834,
           77628229.69390559,
           6789
          ],
          [
           242732328.77103546,
           84040919.75196317,
           6718
          ],
          [
           98438285.24572769,
           32312996.25744597,
           2811
          ]
         ],
         "hovertemplate": "store_name=Galereia<br>month=%{x}<br>AOV=%{y:,.2f}<br>total_orders_price=%{customdata[0]:,.2f}<br>total_orders_revenue=%{customdata[1]:,.2f}<br>orders_count=%{customdata[2]:,}<extra></extra>",
         "legendgroup": "Galereia",
         "line": {
          "color": "#FFA15A",
          "dash": "solid"
         },
         "marker": {
          "symbol": "circle"
         },
         "mode": "lines",
         "name": "Galereia",
         "orientation": "v",
         "showlegend": true,
         "type": "scatter",
         "x": [
          "2023-05-01T00:00:00",
          "2023-06-01T00:00:00",
          "2023-07-01T00:00:00",
          "2023-08-01T00:00:00",
          "2023-09-01T00:00:00",
          "2023-10-01T00:00:00"
         ],
         "xaxis": "x",
         "y": [
          12537.54,
          12794.08,
          11900.41,
          11434.41,
          12509.81,
          11495.2
         ],
         "yaxis": "y"
        },
        {
         "customdata": [
          [
           1340295235.6508744,
           445429146.45408046,
           35922
          ],
          [
           1752293644.308949,
           585992440.8661189,
           48493
          ],
          [
           739442300.4360099,
           246608102.11489096,
           20272
          ]
         ],
         "hovertemplate": "store_name=Grinvich<br>month=%{x}<br>AOV=%{y:,.2f}<br>total_orders_price=%{customdata[0]:,.2f}<br>total_orders_revenue=%{customdata[1]:,.2f}<br>orders_count=%{customdata[2]:,}<extra></extra>",
         "legendgroup": "Grinvich",
         "line": {
          "color": "#19d3f3",
          "dash": "solid"
         },
         "marker": {
          "symbol": "circle"
         },
         "mode": "lines",
         "name": "Grinvich",
         "orientation": "v",
         "showlegend": true,
         "type": "scatter",
         "x": [
          "2023-08-01T00:00:00",
          "2023-09-01T00:00:00",
          "2023-10-01T00:00:00"
         ],
         "xaxis": "x",
         "y": [
          12399.9,
          12084.06,
          12164.96
         ],
         "yaxis": "y"
        },
        {
         "customdata": [
          [
           451238194.7910986,
           149336927.9472481,
           12315
          ],
          [
           443372903.2721732,
           150321025.5825468,
           12516
          ]
         ],
         "hovertemplate": "store_name=Kapitoliy Vernadskogo<br>month=%{x}<br>AOV=%{y:,.2f}<br>total_orders_price=%{customdata[0]:,.2f}<br>total_orders_revenue=%{customdata[1]:,.2f}<br>orders_count=%{customdata[2]:,}<extra></extra>",
         "legendgroup": "Kapitoliy Vernadskogo",
         "line": {
          "color": "#FF6692",
          "dash": "solid"
         },
         "marker": {
          "symbol": "circle"
         },
         "mode": "lines",
         "name": "Kapitoliy Vernadskogo",
         "orientation": "v",
         "showlegend": true,
         "type": "scatter",
         "x": [
          "2023-09-01T00:00:00",
          "2023-10-01T00:00:00"
         ],
         "xaxis": "x",
         "y": [
          12126.43,
          12010.31
         ],
         "yaxis": "y"
        },
        {
         "customdata": [
          [
           79490823.19370349,
           26437424.046503164,
           2356
          ],
          [
           148083613.44985557,
           48480891.22419626,
           3894
          ],
          [
           140382189.279039,
           48563975.491399504,
           3820
          ],
          [
           147253949.3780735,
           49006719.8484273,
           3787
          ],
          [
           137832159.3182721,
           47070331.09104712,
           3855
          ],
          [
           133984527.18240389,
           44501367.26312409,
           3707
          ],
          [
           141130844.47353154,
           47044705.08403934,
           3810
          ],
          [
           138202356.28541926,
           46825442.69694054,
           3716
          ],
          [
           153513286.42817706,
           52731088.98758867,
           3967
          ],
          [
           139549672.07118517,
           46557629.78558081,
           3735
          ],
          [
           113491696.86352433,
           38160245.86892251,
           3391
          ],
          [
           135148240.5791103,
           44962651.01792846,
           3759
          ],
          [
           134926088.33064765,
           44803245.26672515,
           3677
          ],
          [
           143349432.93535593,
           49734613.72607543,
           3801
          ],
          [
           132996426.43005037,
           44546586.99515231,
           3737
          ],
          [
           141385986.2006513,
           46471388.804398276,
           3916
          ],
          [
           139980292.69743028,
           45426065.30859888,
           3905
          ],
          [
           131301138.53557679,
           44441564.54516353,
           3639
          ],
          [
           54034794.00734232,
           17923155.81741467,
           1524
          ]
         ],
         "hovertemplate": "store_name=Kapitoly Belyaevo<br>month=%{x}<br>AOV=%{y:,.2f}<br>total_orders_price=%{customdata[0]:,.2f}<br>total_orders_revenue=%{customdata[1]:,.2f}<br>orders_count=%{customdata[2]:,}<extra></extra>",
         "legendgroup": "Kapitoly Belyaevo",
         "line": {
          "color": "#B6E880",
          "dash": "solid"
         },
         "marker": {
          "symbol": "circle"
         },
         "mode": "lines",
         "name": "Kapitoly Belyaevo",
         "orientation": "v",
         "showlegend": true,
         "type": "scatter",
         "x": [
          "2022-04-01T00:00:00",
          "2022-05-01T00:00:00",
          "2022-06-01T00:00:00",
          "2022-07-01T00:00:00",
          "2022-08-01T00:00:00",
          "2022-09-01T00:00:00",
          "2022-10-01T00:00:00",
          "2022-11-01T00:00:00",
          "2022-12-01T00:00:00",
          "2023-01-01T00:00:00",
          "2023-02-01T00:00:00",
          "2023-03-01T00:00:00",
          "2023-04-01T00:00:00",
          "2023-05-01T00:00:00",
          "2023-06-01T00:00:00",
          "2023-07-01T00:00:00",
          "2023-08-01T00:00:00",
          "2023-09-01T00:00:00",
          "2023-10-01T00:00:00"
         ],
         "xaxis": "x",
         "y": [
          11221.32,
          12450.15,
          12713.08,
          12940.78,
          12210.2,
          12004.68,
          12347.69,
          12601.03,
          13292.43,
          12465.23,
          11253.39,
          11961.33,
          12184.73,
          13084.61,
          11920.41,
          11867.06,
          11632.8,
          12212.58,
          11760.6
         ],
         "yaxis": "y"
        },
        {
         "customdata": [
          [
           115553153.51430526,
           38394830.16882239,
           2877
          ],
          [
           161242887.78864264,
           54255186.919463046,
           4653
          ],
          [
           167111284.51859042,
           55652679.77108816,
           4358
          ],
          [
           161710339.14238855,
           54188465.84280042,
           4482
          ],
          [
           163451036.65481782,
           56135683.06005439,
           4483
          ],
          [
           154985296.57294336,
           53115259.18687742,
           4085
          ],
          [
           171449475.82218865,
           57670711.65318232,
           4518
          ],
          [
           154634585.92694804,
           51457622.70255547,
           4432
          ],
          [
           163532037.41569677,
           55430708.31067823,
           4585
          ],
          [
           149402441.1225721,
           50395402.71892472,
           4408
          ],
          [
           160770427.3788916,
           53657358.413797066,
           4608
          ],
          [
           169677457.26223284,
           57356535.665878385,
           4531
          ],
          [
           161284200.9521746,
           52941321.26954881,
           4488
          ],
          [
           58891695.937073834,
           19683515.2527866,
           1913
          ]
         ],
         "hovertemplate": "store_name=Koltso<br>month=%{x}<br>AOV=%{y:,.2f}<br>total_orders_price=%{customdata[0]:,.2f}<br>total_orders_revenue=%{customdata[1]:,.2f}<br>orders_count=%{customdata[2]:,}<extra></extra>",
         "legendgroup": "Koltso",
         "line": {
          "color": "#FF97FF",
          "dash": "solid"
         },
         "marker": {
          "symbol": "circle"
         },
         "mode": "lines",
         "name": "Koltso",
         "orientation": "v",
         "showlegend": true,
         "type": "scatter",
         "x": [
          "2022-09-01T00:00:00",
          "2022-10-01T00:00:00",
          "2022-11-01T00:00:00",
          "2022-12-01T00:00:00",
          "2023-01-01T00:00:00",
          "2023-02-01T00:00:00",
          "2023-03-01T00:00:00",
          "2023-04-01T00:00:00",
          "2023-05-01T00:00:00",
          "2023-06-01T00:00:00",
          "2023-07-01T00:00:00",
          "2023-08-01T00:00:00",
          "2023-09-01T00:00:00",
          "2023-10-01T00:00:00"
         ],
         "xaxis": "x",
         "y": [
          13345.44,
          11660.26,
          12770.23,
          12090.24,
          12521.9,
          13002.51,
          12764.66,
          11610.47,
          12089.58,
          11432.71,
          11644.39,
          12658.69,
          11796.19,
          10289.34
         ],
         "yaxis": "y"
        },
        {
         "customdata": [
          [
           151048993.58587623,
           50915092.78236892,
           3656
          ]
         ],
         "hovertemplate": "store_name=Muravei<br>month=%{x}<br>AOV=%{y:,.2f}<br>total_orders_price=%{customdata[0]:,.2f}<br>total_orders_revenue=%{customdata[1]:,.2f}<br>orders_count=%{customdata[2]:,}<extra></extra>",
         "legendgroup": "Muravei",
         "line": {
          "color": "#FECB52",
          "dash": "solid"
         },
         "marker": {
          "symbol": "circle"
         },
         "mode": "lines",
         "name": "Muravei",
         "orientation": "v",
         "showlegend": true,
         "type": "scatter",
         "x": [
          "2023-10-01T00:00:00"
         ],
         "xaxis": "x",
         "y": [
          13926.45
         ],
         "yaxis": "y"
        },
        {
         "customdata": [
          [
           69154577.90975322,
           22662264.038150422,
           1924
          ],
          [
           114994943.50465615,
           38876642.35959231,
           2976
          ],
          [
           130635510.767066,
           42989681.07743207,
           3320
          ],
          [
           121366962.56464179,
           41261435.38937864,
           3375
          ],
          [
           123674025.53203297,
           43657161.03974074,
           3347
          ],
          [
           128592563.0780739,
           40646271.65461814,
           3217
          ],
          [
           129401940.52836965,
           42776305.03695472,
           3373
          ],
          [
           122963458.46384871,
           43024882.157067575,
           3343
          ],
          [
           119813852.95218216,
           40419797.34876827,
           3227
          ],
          [
           139462485.7653355,
           45834838.742623664,
           3312
          ],
          [
           117029512.67282164,
           38412924.62616104,
           3169
          ],
          [
           114194615.36675106,
           37718015.58803298,
           3230
          ],
          [
           127943710.73158571,
           42440767.846024126,
           3339
          ],
          [
           109921293.32933693,
           36263014.28665379,
           3040
          ],
          [
           128925510.38314576,
           43354805.68883565,
           3331
          ],
          [
           127076566.5317763,
           43620683.80037616,
           3229
          ],
          [
           119827200.74367358,
           41005579.60527351,
           3340
          ],
          [
           112386405.07951602,
           38029123.14597889,
           3218
          ],
          [
           120104129.8388087,
           39614037.315450534,
           3392
          ],
          [
           119702173.11022681,
           39313568.29344038,
           3347
          ],
          [
           117309789.90008646,
           39607973.275723524,
           3332
          ],
          [
           49555642.287676476,
           16480492.757340418,
           1335
          ]
         ],
         "hovertemplate": "store_name=Rio Leninsky<br>month=%{x}<br>AOV=%{y:,.2f}<br>total_orders_price=%{customdata[0]:,.2f}<br>total_orders_revenue=%{customdata[1]:,.2f}<br>orders_count=%{customdata[2]:,}<extra></extra>",
         "legendgroup": "Rio Leninsky",
         "line": {
          "color": "#636efa",
          "dash": "solid"
         },
         "marker": {
          "symbol": "circle"
         },
         "mode": "lines",
         "name": "Rio Leninsky",
         "orientation": "v",
         "showlegend": true,
         "type": "scatter",
         "x": [
          "2022-01-01T00:00:00",
          "2022-02-01T00:00:00",
          "2022-03-01T00:00:00",
          "2022-04-01T00:00:00",
          "2022-05-01T00:00:00",
          "2022-06-01T00:00:00",
          "2022-07-01T00:00:00",
          "2022-08-01T00:00:00",
          "2022-09-01T00:00:00",
          "2022-10-01T00:00:00",
          "2022-11-01T00:00:00",
          "2022-12-01T00:00:00",
          "2023-01-01T00:00:00",
          "2023-02-01T00:00:00",
          "2023-03-01T00:00:00",
          "2023-04-01T00:00:00",
          "2023-05-01T00:00:00",
          "2023-06-01T00:00:00",
          "2023-07-01T00:00:00",
          "2023-08-01T00:00:00",
          "2023-09-01T00:00:00",
          "2023-10-01T00:00:00"
         ],
         "xaxis": "x",
         "y": [
          11778.72,
          13063.39,
          12948.7,
          12225.61,
          13043.67,
          12634.84,
          12681.98,
          12870.14,
          12525.5,
          13839.02,
          12121.47,
          11677.4,
          12710.62,
          11928.62,
          13015.55,
          13509.04,
          12277.12,
          11817.63,
          11678.67,
          11745.91,
          11887.15,
          12344.94
         ],
         "yaxis": "y"
        },
        {
         "customdata": [
          [
           119098923.52174918,
           41777595.52608351,
           2900
          ],
          [
           146975778.02309105,
           48835409.72018102,
           3836
          ],
          [
           130110835.52803904,
           43916658.68112952,
           3673
          ],
          [
           144137616.3801356,
           47156592.67198175,
           3913
          ],
          [
           126739754.30633667,
           41453066.43450242,
           3769
          ],
          [
           134635226.6416673,
           44895211.58870279,
           3764
          ],
          [
           147994859.7413342,
           48486880.79198846,
           3911
          ],
          [
           139413547.1635449,
           45849402.910751656,
           3826
          ],
          [
           53885702.35437357,
           17770144.741082046,
           1582
          ]
         ],
         "hovertemplate": "store_name=Sedmoe Nebo<br>month=%{x}<br>AOV=%{y:,.2f}<br>total_orders_price=%{customdata[0]:,.2f}<br>total_orders_revenue=%{customdata[1]:,.2f}<br>orders_count=%{customdata[2]:,}<extra></extra>",
         "legendgroup": "Sedmoe Nebo",
         "line": {
          "color": "#EF553B",
          "dash": "solid"
         },
         "marker": {
          "symbol": "circle"
         },
         "mode": "lines",
         "name": "Sedmoe Nebo",
         "orientation": "v",
         "showlegend": true,
         "type": "scatter",
         "x": [
          "2023-02-01T00:00:00",
          "2023-03-01T00:00:00",
          "2023-04-01T00:00:00",
          "2023-05-01T00:00:00",
          "2023-06-01T00:00:00",
          "2023-07-01T00:00:00",
          "2023-08-01T00:00:00",
          "2023-09-01T00:00:00",
          "2023-10-01T00:00:00"
         ],
         "xaxis": "x",
         "y": [
          14406.07,
          12730.82,
          11956.62,
          12051.26,
          10998.43,
          11927.53,
          12397.57,
          11983.64,
          11232.71
         ],
         "yaxis": "y"
        },
        {
         "customdata": [
          [
           26060253.649750624,
           8790768.034769876,
           930
          ],
          [
           187700168.65501156,
           61729707.86146892,
           5053
          ],
          [
           173474916.18017063,
           56917689.99677386,
           4906
          ],
          [
           177394513.3869797,
           58439406.28268942,
           4840
          ],
          [
           73284462.26107685,
           24822960.19784514,
           2006
          ]
         ],
         "hovertemplate": "store_name=Tsvetnoy<br>month=%{x}<br>AOV=%{y:,.2f}<br>total_orders_price=%{customdata[0]:,.2f}<br>total_orders_revenue=%{customdata[1]:,.2f}<br>orders_count=%{customdata[2]:,}<extra></extra>",
         "legendgroup": "Tsvetnoy",
         "line": {
          "color": "#00cc96",
          "dash": "solid"
         },
         "marker": {
          "symbol": "circle"
         },
         "mode": "lines",
         "name": "Tsvetnoy",
         "orientation": "v",
         "showlegend": true,
         "type": "scatter",
         "x": [
          "2023-06-01T00:00:00",
          "2023-07-01T00:00:00",
          "2023-08-01T00:00:00",
          "2023-09-01T00:00:00",
          "2023-10-01T00:00:00"
         ],
         "xaxis": "x",
         "y": [
          9452.44,
          12216.45,
          11601.65,
          12074.26,
          12374.36
         ],
         "yaxis": "y"
        }
       ],
       "layout": {
        "legend": {
         "title": {
          "text": "store_name"
         },
         "tracegroupgap": 0
        },
        "template": {
         "data": {
          "bar": [
           {
            "error_x": {
             "color": "#2a3f5f"
            },
            "error_y": {
             "color": "#2a3f5f"
            },
            "marker": {
             "line": {
              "color": "#E5ECF6",
              "width": 0.5
             },
             "pattern": {
              "fillmode": "overlay",
              "size": 10,
              "solidity": 0.2
             }
            },
            "type": "bar"
           }
          ],
          "barpolar": [
           {
            "marker": {
             "line": {
              "color": "#E5ECF6",
              "width": 0.5
             },
             "pattern": {
              "fillmode": "overlay",
              "size": 10,
              "solidity": 0.2
             }
            },
            "type": "barpolar"
           }
          ],
          "carpet": [
           {
            "aaxis": {
             "endlinecolor": "#2a3f5f",
             "gridcolor": "white",
             "linecolor": "white",
             "minorgridcolor": "white",
             "startlinecolor": "#2a3f5f"
            },
            "baxis": {
             "endlinecolor": "#2a3f5f",
             "gridcolor": "white",
             "linecolor": "white",
             "minorgridcolor": "white",
             "startlinecolor": "#2a3f5f"
            },
            "type": "carpet"
           }
          ],
          "choropleth": [
           {
            "colorbar": {
             "outlinewidth": 0,
             "ticks": ""
            },
            "type": "choropleth"
           }
          ],
          "contour": [
           {
            "colorbar": {
             "outlinewidth": 0,
             "ticks": ""
            },
            "colorscale": [
             [
              0,
              "#0d0887"
             ],
             [
              0.1111111111111111,
              "#46039f"
             ],
             [
              0.2222222222222222,
              "#7201a8"
             ],
             [
              0.3333333333333333,
              "#9c179e"
             ],
             [
              0.4444444444444444,
              "#bd3786"
             ],
             [
              0.5555555555555556,
              "#d8576b"
             ],
             [
              0.6666666666666666,
              "#ed7953"
             ],
             [
              0.7777777777777778,
              "#fb9f3a"
             ],
             [
              0.8888888888888888,
              "#fdca26"
             ],
             [
              1,
              "#f0f921"
             ]
            ],
            "type": "contour"
           }
          ],
          "contourcarpet": [
           {
            "colorbar": {
             "outlinewidth": 0,
             "ticks": ""
            },
            "type": "contourcarpet"
           }
          ],
          "heatmap": [
           {
            "colorbar": {
             "outlinewidth": 0,
             "ticks": ""
            },
            "colorscale": [
             [
              0,
              "#0d0887"
             ],
             [
              0.1111111111111111,
              "#46039f"
             ],
             [
              0.2222222222222222,
              "#7201a8"
             ],
             [
              0.3333333333333333,
              "#9c179e"
             ],
             [
              0.4444444444444444,
              "#bd3786"
             ],
             [
              0.5555555555555556,
              "#d8576b"
             ],
             [
              0.6666666666666666,
              "#ed7953"
             ],
             [
              0.7777777777777778,
              "#fb9f3a"
             ],
             [
              0.8888888888888888,
              "#fdca26"
             ],
             [
              1,
              "#f0f921"
             ]
            ],
            "type": "heatmap"
           }
          ],
          "heatmapgl": [
           {
            "colorbar": {
             "outlinewidth": 0,
             "ticks": ""
            },
            "colorscale": [
             [
              0,
              "#0d0887"
             ],
             [
              0.1111111111111111,
              "#46039f"
             ],
             [
              0.2222222222222222,
              "#7201a8"
             ],
             [
              0.3333333333333333,
              "#9c179e"
             ],
             [
              0.4444444444444444,
              "#bd3786"
             ],
             [
              0.5555555555555556,
              "#d8576b"
             ],
             [
              0.6666666666666666,
              "#ed7953"
             ],
             [
              0.7777777777777778,
              "#fb9f3a"
             ],
             [
              0.8888888888888888,
              "#fdca26"
             ],
             [
              1,
              "#f0f921"
             ]
            ],
            "type": "heatmapgl"
           }
          ],
          "histogram": [
           {
            "marker": {
             "pattern": {
              "fillmode": "overlay",
              "size": 10,
              "solidity": 0.2
             }
            },
            "type": "histogram"
           }
          ],
          "histogram2d": [
           {
            "colorbar": {
             "outlinewidth": 0,
             "ticks": ""
            },
            "colorscale": [
             [
              0,
              "#0d0887"
             ],
             [
              0.1111111111111111,
              "#46039f"
             ],
             [
              0.2222222222222222,
              "#7201a8"
             ],
             [
              0.3333333333333333,
              "#9c179e"
             ],
             [
              0.4444444444444444,
              "#bd3786"
             ],
             [
              0.5555555555555556,
              "#d8576b"
             ],
             [
              0.6666666666666666,
              "#ed7953"
             ],
             [
              0.7777777777777778,
              "#fb9f3a"
             ],
             [
              0.8888888888888888,
              "#fdca26"
             ],
             [
              1,
              "#f0f921"
             ]
            ],
            "type": "histogram2d"
           }
          ],
          "histogram2dcontour": [
           {
            "colorbar": {
             "outlinewidth": 0,
             "ticks": ""
            },
            "colorscale": [
             [
              0,
              "#0d0887"
             ],
             [
              0.1111111111111111,
              "#46039f"
             ],
             [
              0.2222222222222222,
              "#7201a8"
             ],
             [
              0.3333333333333333,
              "#9c179e"
             ],
             [
              0.4444444444444444,
              "#bd3786"
             ],
             [
              0.5555555555555556,
              "#d8576b"
             ],
             [
              0.6666666666666666,
              "#ed7953"
             ],
             [
              0.7777777777777778,
              "#fb9f3a"
             ],
             [
              0.8888888888888888,
              "#fdca26"
             ],
             [
              1,
              "#f0f921"
             ]
            ],
            "type": "histogram2dcontour"
           }
          ],
          "mesh3d": [
           {
            "colorbar": {
             "outlinewidth": 0,
             "ticks": ""
            },
            "type": "mesh3d"
           }
          ],
          "parcoords": [
           {
            "line": {
             "colorbar": {
              "outlinewidth": 0,
              "ticks": ""
             }
            },
            "type": "parcoords"
           }
          ],
          "pie": [
           {
            "automargin": true,
            "type": "pie"
           }
          ],
          "scatter": [
           {
            "fillpattern": {
             "fillmode": "overlay",
             "size": 10,
             "solidity": 0.2
            },
            "type": "scatter"
           }
          ],
          "scatter3d": [
           {
            "line": {
             "colorbar": {
              "outlinewidth": 0,
              "ticks": ""
             }
            },
            "marker": {
             "colorbar": {
              "outlinewidth": 0,
              "ticks": ""
             }
            },
            "type": "scatter3d"
           }
          ],
          "scattercarpet": [
           {
            "marker": {
             "colorbar": {
              "outlinewidth": 0,
              "ticks": ""
             }
            },
            "type": "scattercarpet"
           }
          ],
          "scattergeo": [
           {
            "marker": {
             "colorbar": {
              "outlinewidth": 0,
              "ticks": ""
             }
            },
            "type": "scattergeo"
           }
          ],
          "scattergl": [
           {
            "marker": {
             "colorbar": {
              "outlinewidth": 0,
              "ticks": ""
             }
            },
            "type": "scattergl"
           }
          ],
          "scattermapbox": [
           {
            "marker": {
             "colorbar": {
              "outlinewidth": 0,
              "ticks": ""
             }
            },
            "type": "scattermapbox"
           }
          ],
          "scatterpolar": [
           {
            "marker": {
             "colorbar": {
              "outlinewidth": 0,
              "ticks": ""
             }
            },
            "type": "scatterpolar"
           }
          ],
          "scatterpolargl": [
           {
            "marker": {
             "colorbar": {
              "outlinewidth": 0,
              "ticks": ""
             }
            },
            "type": "scatterpolargl"
           }
          ],
          "scatterternary": [
           {
            "marker": {
             "colorbar": {
              "outlinewidth": 0,
              "ticks": ""
             }
            },
            "type": "scatterternary"
           }
          ],
          "surface": [
           {
            "colorbar": {
             "outlinewidth": 0,
             "ticks": ""
            },
            "colorscale": [
             [
              0,
              "#0d0887"
             ],
             [
              0.1111111111111111,
              "#46039f"
             ],
             [
              0.2222222222222222,
              "#7201a8"
             ],
             [
              0.3333333333333333,
              "#9c179e"
             ],
             [
              0.4444444444444444,
              "#bd3786"
             ],
             [
              0.5555555555555556,
              "#d8576b"
             ],
             [
              0.6666666666666666,
              "#ed7953"
             ],
             [
              0.7777777777777778,
              "#fb9f3a"
             ],
             [
              0.8888888888888888,
              "#fdca26"
             ],
             [
              1,
              "#f0f921"
             ]
            ],
            "type": "surface"
           }
          ],
          "table": [
           {
            "cells": {
             "fill": {
              "color": "#EBF0F8"
             },
             "line": {
              "color": "white"
             }
            },
            "header": {
             "fill": {
              "color": "#C8D4E3"
             },
             "line": {
              "color": "white"
             }
            },
            "type": "table"
           }
          ]
         },
         "layout": {
          "annotationdefaults": {
           "arrowcolor": "#2a3f5f",
           "arrowhead": 0,
           "arrowwidth": 1
          },
          "autotypenumbers": "strict",
          "coloraxis": {
           "colorbar": {
            "outlinewidth": 0,
            "ticks": ""
           }
          },
          "colorscale": {
           "diverging": [
            [
             0,
             "#8e0152"
            ],
            [
             0.1,
             "#c51b7d"
            ],
            [
             0.2,
             "#de77ae"
            ],
            [
             0.3,
             "#f1b6da"
            ],
            [
             0.4,
             "#fde0ef"
            ],
            [
             0.5,
             "#f7f7f7"
            ],
            [
             0.6,
             "#e6f5d0"
            ],
            [
             0.7,
             "#b8e186"
            ],
            [
             0.8,
             "#7fbc41"
            ],
            [
             0.9,
             "#4d9221"
            ],
            [
             1,
             "#276419"
            ]
           ],
           "sequential": [
            [
             0,
             "#0d0887"
            ],
            [
             0.1111111111111111,
             "#46039f"
            ],
            [
             0.2222222222222222,
             "#7201a8"
            ],
            [
             0.3333333333333333,
             "#9c179e"
            ],
            [
             0.4444444444444444,
             "#bd3786"
            ],
            [
             0.5555555555555556,
             "#d8576b"
            ],
            [
             0.6666666666666666,
             "#ed7953"
            ],
            [
             0.7777777777777778,
             "#fb9f3a"
            ],
            [
             0.8888888888888888,
             "#fdca26"
            ],
            [
             1,
             "#f0f921"
            ]
           ],
           "sequentialminus": [
            [
             0,
             "#0d0887"
            ],
            [
             0.1111111111111111,
             "#46039f"
            ],
            [
             0.2222222222222222,
             "#7201a8"
            ],
            [
             0.3333333333333333,
             "#9c179e"
            ],
            [
             0.4444444444444444,
             "#bd3786"
            ],
            [
             0.5555555555555556,
             "#d8576b"
            ],
            [
             0.6666666666666666,
             "#ed7953"
            ],
            [
             0.7777777777777778,
             "#fb9f3a"
            ],
            [
             0.8888888888888888,
             "#fdca26"
            ],
            [
             1,
             "#f0f921"
            ]
           ]
          },
          "colorway": [
           "#636efa",
           "#EF553B",
           "#00cc96",
           "#ab63fa",
           "#FFA15A",
           "#19d3f3",
           "#FF6692",
           "#B6E880",
           "#FF97FF",
           "#FECB52"
          ],
          "font": {
           "color": "#2a3f5f"
          },
          "geo": {
           "bgcolor": "white",
           "lakecolor": "white",
           "landcolor": "#E5ECF6",
           "showlakes": true,
           "showland": true,
           "subunitcolor": "white"
          },
          "hoverlabel": {
           "align": "left"
          },
          "hovermode": "closest",
          "mapbox": {
           "style": "light"
          },
          "paper_bgcolor": "white",
          "plot_bgcolor": "#E5ECF6",
          "polar": {
           "angularaxis": {
            "gridcolor": "white",
            "linecolor": "white",
            "ticks": ""
           },
           "bgcolor": "#E5ECF6",
           "radialaxis": {
            "gridcolor": "white",
            "linecolor": "white",
            "ticks": ""
           }
          },
          "scene": {
           "xaxis": {
            "backgroundcolor": "#E5ECF6",
            "gridcolor": "white",
            "gridwidth": 2,
            "linecolor": "white",
            "showbackground": true,
            "ticks": "",
            "zerolinecolor": "white"
           },
           "yaxis": {
            "backgroundcolor": "#E5ECF6",
            "gridcolor": "white",
            "gridwidth": 2,
            "linecolor": "white",
            "showbackground": true,
            "ticks": "",
            "zerolinecolor": "white"
           },
           "zaxis": {
            "backgroundcolor": "#E5ECF6",
            "gridcolor": "white",
            "gridwidth": 2,
            "linecolor": "white",
            "showbackground": true,
            "ticks": "",
            "zerolinecolor": "white"
           }
          },
          "shapedefaults": {
           "line": {
            "color": "#2a3f5f"
           }
          },
          "ternary": {
           "aaxis": {
            "gridcolor": "white",
            "linecolor": "white",
            "ticks": ""
           },
           "baxis": {
            "gridcolor": "white",
            "linecolor": "white",
            "ticks": ""
           },
           "bgcolor": "#E5ECF6",
           "caxis": {
            "gridcolor": "white",
            "linecolor": "white",
            "ticks": ""
           }
          },
          "title": {
           "x": 0.05
          },
          "xaxis": {
           "automargin": true,
           "gridcolor": "white",
           "linecolor": "white",
           "ticks": "",
           "title": {
            "standoff": 15
           },
           "zerolinecolor": "white",
           "zerolinewidth": 2
          },
          "yaxis": {
           "automargin": true,
           "gridcolor": "white",
           "linecolor": "white",
           "ticks": "",
           "title": {
            "standoff": 15
           },
           "zerolinecolor": "white",
           "zerolinewidth": 2
          }
         }
        },
        "title": {
         "text": "Store's AOV by months"
        },
        "xaxis": {
         "anchor": "y",
         "domain": [
          0,
          1
         ],
         "title": {
          "text": "month"
         }
        },
        "yaxis": {
         "anchor": "x",
         "domain": [
          0,
          1
         ],
         "title": {
          "text": "AOV"
         }
        }
       }
      },
      "text/html": [
       "<div>                            <div id=\"0454ecb7-c557-4224-9ae0-3c136b50a562\" class=\"plotly-graph-div\" style=\"height:525px; width:100%;\"></div>            <script type=\"text/javascript\">                require([\"plotly\"], function(Plotly) {                    window.PLOTLYENV=window.PLOTLYENV || {};                                    if (document.getElementById(\"0454ecb7-c557-4224-9ae0-3c136b50a562\")) {                    Plotly.newPlot(                        \"0454ecb7-c557-4224-9ae0-3c136b50a562\",                        [{\"customdata\":[[40495453.27451934,14460097.75264535,987.0],[74652948.04771125,25041627.582198363,1919.0],[76541651.05785595,25796202.441825364,1954.0],[74382831.32825424,24525743.292597413,1958.0],[62308818.1423417,20639103.76230183,1765.0],[73929056.3471301,24275253.369498428,1893.0],[67833081.38986987,22031265.0928559,1940.0],[73015717.70997931,24490684.83227122,1950.0],[75924906.03524005,25892274.842800427,1857.0],[65932053.6667954,21394280.071453586,1909.0],[69011626.0370694,22134077.285814285,1916.0],[71011945.6239286,23846962.066574097,1958.0],[29487870.355819825,9381966.682522085,819.0]],\"hovertemplate\":\"store_name=Afimoll\\u003cbr\\u003emonth=%{x}\\u003cbr\\u003eAOV=%{y:,.2f}\\u003cbr\\u003etotal_orders_price=%{customdata[0]:,.2f}\\u003cbr\\u003etotal_orders_revenue=%{customdata[1]:,.2f}\\u003cbr\\u003eorders_count=%{customdata[2]:,}\\u003cextra\\u003e\\u003c\\u002fextra\\u003e\",\"legendgroup\":\"Afimoll\",\"line\":{\"color\":\"#636efa\",\"dash\":\"solid\"},\"marker\":{\"symbol\":\"circle\"},\"mode\":\"lines\",\"name\":\"Afimoll\",\"orientation\":\"v\",\"showlegend\":true,\"x\":[\"2022-10-01T00:00:00\",\"2022-11-01T00:00:00\",\"2022-12-01T00:00:00\",\"2023-01-01T00:00:00\",\"2023-02-01T00:00:00\",\"2023-03-01T00:00:00\",\"2023-04-01T00:00:00\",\"2023-05-01T00:00:00\",\"2023-06-01T00:00:00\",\"2023-07-01T00:00:00\",\"2023-08-01T00:00:00\",\"2023-09-01T00:00:00\",\"2023-10-01T00:00:00\"],\"xaxis\":\"x\",\"y\":[14650.55,13049.31,13201.74,12525.92,11693.54,12823.69,11356.32,12559.33,13943.07,11207.06,11552.23,12179.25,11455.39],\"yaxis\":\"y\",\"type\":\"scatter\"},{\"customdata\":[[105542439.24000275,35775795.07033415,2932.0],[249575444.4320614,83376917.10435086,6578.0],[257679832.6520927,86904196.55326195,7146.0],[248231328.6942052,84187001.6195992,6837.0],[262862461.3005931,87931025.41893935,7081.0],[252217259.10369813,84157557.68488471,6919.0],[266774554.29533818,90351322.69624646,7224.0],[264770757.51907578,87603829.96538536,7285.0],[254160520.46038926,85045834.98651871,7044.0],[122775482.34224246,42472875.861251846,3158.0]],\"hovertemplate\":\"store_name=Aviapark\\u003cbr\\u003emonth=%{x}\\u003cbr\\u003eAOV=%{y:,.2f}\\u003cbr\\u003etotal_orders_price=%{customdata[0]:,.2f}\\u003cbr\\u003etotal_orders_revenue=%{customdata[1]:,.2f}\\u003cbr\\u003eorders_count=%{customdata[2]:,}\\u003cextra\\u003e\\u003c\\u002fextra\\u003e\",\"legendgroup\":\"Aviapark\",\"line\":{\"color\":\"#EF553B\",\"dash\":\"solid\"},\"marker\":{\"symbol\":\"circle\"},\"mode\":\"lines\",\"name\":\"Aviapark\",\"orientation\":\"v\",\"showlegend\":true,\"x\":[\"2023-01-01T00:00:00\",\"2023-02-01T00:00:00\",\"2023-03-01T00:00:00\",\"2023-04-01T00:00:00\",\"2023-05-01T00:00:00\",\"2023-06-01T00:00:00\",\"2023-07-01T00:00:00\",\"2023-08-01T00:00:00\",\"2023-09-01T00:00:00\",\"2023-10-01T00:00:00\"],\"xaxis\":\"x\",\"y\":[12201.84,12675.12,12161.24,12313.44,12417.88,12163.25,12507.1,12025.23,12073.51,13449.3],\"yaxis\":\"y\",\"type\":\"scatter\"},{\"customdata\":[[297737028.651215,100368554.68751858,7728.0],[351796921.674974,117496928.7405991,9445.0],[359833464.7118329,122923694.6664741,9167.0],[368467483.3781216,123889225.4699631,9602.0],[343616813.72211105,114180542.9039856,9416.0],[347684686.53347874,112067963.79461923,9295.0],[149984810.6451769,51449530.416133255,4111.0]],\"hovertemplate\":\"store_name=Evropeisky\\u003cbr\\u003emonth=%{x}\\u003cbr\\u003eAOV=%{y:,.2f}\\u003cbr\\u003etotal_orders_price=%{customdata[0]:,.2f}\\u003cbr\\u003etotal_orders_revenue=%{customdata[1]:,.2f}\\u003cbr\\u003eorders_count=%{customdata[2]:,}\\u003cextra\\u003e\\u003c\\u002fextra\\u003e\",\"legendgroup\":\"Evropeisky\",\"line\":{\"color\":\"#00cc96\",\"dash\":\"solid\"},\"marker\":{\"symbol\":\"circle\"},\"mode\":\"lines\",\"name\":\"Evropeisky\",\"orientation\":\"v\",\"showlegend\":true,\"x\":[\"2023-04-01T00:00:00\",\"2023-05-01T00:00:00\",\"2023-06-01T00:00:00\",\"2023-07-01T00:00:00\",\"2023-08-01T00:00:00\",\"2023-09-01T00:00:00\",\"2023-10-01T00:00:00\"],\"xaxis\":\"x\",\"y\":[12987.65,12440.12,13409.37,12902.44,12126.23,12056.8,12515.09],\"yaxis\":\"y\",\"type\":\"scatter\"},{\"customdata\":[[30662715.240862593,10171579.597018342,852.0],[87307541.30204108,28227865.524137966,2516.0],[91248616.87395312,29318657.825127956,2644.0],[92623462.65751192,30974306.824018944,2569.0],[87981863.72238216,30274205.728461742,2422.0],[101861324.30794658,36105166.617842905,2712.0],[87514912.71655339,30445110.867197245,2551.0],[102109388.41220997,33102621.604826197,2549.0],[93961036.31328663,31772855.985067714,2621.0],[93415775.05150208,30659955.80721656,2416.0],[92910776.87405345,30988918.416199133,2663.0],[95653068.0807607,31839153.05052114,2567.0],[99726389.00726676,34054827.150401086,2580.0],[86325244.87394144,28839769.045519717,2431.0],[98044634.55018224,32179978.855817735,2629.0],[91933093.13999781,30629730.36359619,2612.0],[79388264.39368817,26937362.633853573,2446.0],[43709982.95127659,14750470.209702782,1061.0]],\"hovertemplate\":\"store_name=Evropolis\\u003cbr\\u003emonth=%{x}\\u003cbr\\u003eAOV=%{y:,.2f}\\u003cbr\\u003etotal_orders_price=%{customdata[0]:,.2f}\\u003cbr\\u003etotal_orders_revenue=%{customdata[1]:,.2f}\\u003cbr\\u003eorders_count=%{customdata[2]:,}\\u003cextra\\u003e\\u003c\\u002fextra\\u003e\",\"legendgroup\":\"Evropolis\",\"line\":{\"color\":\"#ab63fa\",\"dash\":\"solid\"},\"marker\":{\"symbol\":\"circle\"},\"mode\":\"lines\",\"name\":\"Evropolis\",\"orientation\":\"v\",\"showlegend\":true,\"x\":[\"2022-05-01T00:00:00\",\"2022-06-01T00:00:00\",\"2022-07-01T00:00:00\",\"2022-08-01T00:00:00\",\"2022-09-01T00:00:00\",\"2022-10-01T00:00:00\",\"2022-11-01T00:00:00\",\"2022-12-01T00:00:00\",\"2023-01-01T00:00:00\",\"2023-02-01T00:00:00\",\"2023-03-01T00:00:00\",\"2023-04-01T00:00:00\",\"2023-05-01T00:00:00\",\"2023-06-01T00:00:00\",\"2023-07-01T00:00:00\",\"2023-08-01T00:00:00\",\"2023-09-01T00:00:00\",\"2023-10-01T00:00:00\"],\"xaxis\":\"x\",\"y\":[11938.47,11219.34,11088.75,12056.95,12499.67,13313.11,11934.58,12986.51,12122.42,12690.38,11636.85,12403.25,13199.55,11863.34,12240.39,11726.54,11012.82,13902.42],\"yaxis\":\"y\",\"type\":\"scatter\"},{\"customdata\":[[215166053.76013368,71514114.13360538,5704.0],[260677274.25812057,86001797.95190437,6722.0],[244175456.67330694,80815685.58175026,6791.0],[234540896.33010834,77628229.69390559,6789.0],[242732328.77103546,84040919.75196317,6718.0],[98438285.24572769,32312996.25744597,2811.0]],\"hovertemplate\":\"store_name=Galereia\\u003cbr\\u003emonth=%{x}\\u003cbr\\u003eAOV=%{y:,.2f}\\u003cbr\\u003etotal_orders_price=%{customdata[0]:,.2f}\\u003cbr\\u003etotal_orders_revenue=%{customdata[1]:,.2f}\\u003cbr\\u003eorders_count=%{customdata[2]:,}\\u003cextra\\u003e\\u003c\\u002fextra\\u003e\",\"legendgroup\":\"Galereia\",\"line\":{\"color\":\"#FFA15A\",\"dash\":\"solid\"},\"marker\":{\"symbol\":\"circle\"},\"mode\":\"lines\",\"name\":\"Galereia\",\"orientation\":\"v\",\"showlegend\":true,\"x\":[\"2023-05-01T00:00:00\",\"2023-06-01T00:00:00\",\"2023-07-01T00:00:00\",\"2023-08-01T00:00:00\",\"2023-09-01T00:00:00\",\"2023-10-01T00:00:00\"],\"xaxis\":\"x\",\"y\":[12537.54,12794.08,11900.41,11434.41,12509.81,11495.2],\"yaxis\":\"y\",\"type\":\"scatter\"},{\"customdata\":[[1340295235.6508744,445429146.45408046,35922.0],[1752293644.308949,585992440.8661189,48493.0],[739442300.4360099,246608102.11489096,20272.0]],\"hovertemplate\":\"store_name=Grinvich\\u003cbr\\u003emonth=%{x}\\u003cbr\\u003eAOV=%{y:,.2f}\\u003cbr\\u003etotal_orders_price=%{customdata[0]:,.2f}\\u003cbr\\u003etotal_orders_revenue=%{customdata[1]:,.2f}\\u003cbr\\u003eorders_count=%{customdata[2]:,}\\u003cextra\\u003e\\u003c\\u002fextra\\u003e\",\"legendgroup\":\"Grinvich\",\"line\":{\"color\":\"#19d3f3\",\"dash\":\"solid\"},\"marker\":{\"symbol\":\"circle\"},\"mode\":\"lines\",\"name\":\"Grinvich\",\"orientation\":\"v\",\"showlegend\":true,\"x\":[\"2023-08-01T00:00:00\",\"2023-09-01T00:00:00\",\"2023-10-01T00:00:00\"],\"xaxis\":\"x\",\"y\":[12399.9,12084.06,12164.96],\"yaxis\":\"y\",\"type\":\"scatter\"},{\"customdata\":[[451238194.7910986,149336927.9472481,12315.0],[443372903.2721732,150321025.5825468,12516.0]],\"hovertemplate\":\"store_name=Kapitoliy Vernadskogo\\u003cbr\\u003emonth=%{x}\\u003cbr\\u003eAOV=%{y:,.2f}\\u003cbr\\u003etotal_orders_price=%{customdata[0]:,.2f}\\u003cbr\\u003etotal_orders_revenue=%{customdata[1]:,.2f}\\u003cbr\\u003eorders_count=%{customdata[2]:,}\\u003cextra\\u003e\\u003c\\u002fextra\\u003e\",\"legendgroup\":\"Kapitoliy Vernadskogo\",\"line\":{\"color\":\"#FF6692\",\"dash\":\"solid\"},\"marker\":{\"symbol\":\"circle\"},\"mode\":\"lines\",\"name\":\"Kapitoliy Vernadskogo\",\"orientation\":\"v\",\"showlegend\":true,\"x\":[\"2023-09-01T00:00:00\",\"2023-10-01T00:00:00\"],\"xaxis\":\"x\",\"y\":[12126.43,12010.31],\"yaxis\":\"y\",\"type\":\"scatter\"},{\"customdata\":[[79490823.19370349,26437424.046503164,2356.0],[148083613.44985557,48480891.22419626,3894.0],[140382189.279039,48563975.491399504,3820.0],[147253949.3780735,49006719.8484273,3787.0],[137832159.3182721,47070331.09104712,3855.0],[133984527.18240389,44501367.26312409,3707.0],[141130844.47353154,47044705.08403934,3810.0],[138202356.28541926,46825442.69694054,3716.0],[153513286.42817706,52731088.98758867,3967.0],[139549672.07118517,46557629.78558081,3735.0],[113491696.86352433,38160245.86892251,3391.0],[135148240.5791103,44962651.01792846,3759.0],[134926088.33064765,44803245.26672515,3677.0],[143349432.93535593,49734613.72607543,3801.0],[132996426.43005037,44546586.99515231,3737.0],[141385986.2006513,46471388.804398276,3916.0],[139980292.69743028,45426065.30859888,3905.0],[131301138.53557679,44441564.54516353,3639.0],[54034794.00734232,17923155.81741467,1524.0]],\"hovertemplate\":\"store_name=Kapitoly Belyaevo\\u003cbr\\u003emonth=%{x}\\u003cbr\\u003eAOV=%{y:,.2f}\\u003cbr\\u003etotal_orders_price=%{customdata[0]:,.2f}\\u003cbr\\u003etotal_orders_revenue=%{customdata[1]:,.2f}\\u003cbr\\u003eorders_count=%{customdata[2]:,}\\u003cextra\\u003e\\u003c\\u002fextra\\u003e\",\"legendgroup\":\"Kapitoly Belyaevo\",\"line\":{\"color\":\"#B6E880\",\"dash\":\"solid\"},\"marker\":{\"symbol\":\"circle\"},\"mode\":\"lines\",\"name\":\"Kapitoly Belyaevo\",\"orientation\":\"v\",\"showlegend\":true,\"x\":[\"2022-04-01T00:00:00\",\"2022-05-01T00:00:00\",\"2022-06-01T00:00:00\",\"2022-07-01T00:00:00\",\"2022-08-01T00:00:00\",\"2022-09-01T00:00:00\",\"2022-10-01T00:00:00\",\"2022-11-01T00:00:00\",\"2022-12-01T00:00:00\",\"2023-01-01T00:00:00\",\"2023-02-01T00:00:00\",\"2023-03-01T00:00:00\",\"2023-04-01T00:00:00\",\"2023-05-01T00:00:00\",\"2023-06-01T00:00:00\",\"2023-07-01T00:00:00\",\"2023-08-01T00:00:00\",\"2023-09-01T00:00:00\",\"2023-10-01T00:00:00\"],\"xaxis\":\"x\",\"y\":[11221.32,12450.15,12713.08,12940.78,12210.2,12004.68,12347.69,12601.03,13292.43,12465.23,11253.39,11961.33,12184.73,13084.61,11920.41,11867.06,11632.8,12212.58,11760.6],\"yaxis\":\"y\",\"type\":\"scatter\"},{\"customdata\":[[115553153.51430526,38394830.16882239,2877.0],[161242887.78864264,54255186.919463046,4653.0],[167111284.51859042,55652679.77108816,4358.0],[161710339.14238855,54188465.84280042,4482.0],[163451036.65481782,56135683.06005439,4483.0],[154985296.57294336,53115259.18687742,4085.0],[171449475.82218865,57670711.65318232,4518.0],[154634585.92694804,51457622.70255547,4432.0],[163532037.41569677,55430708.31067823,4585.0],[149402441.1225721,50395402.71892472,4408.0],[160770427.3788916,53657358.413797066,4608.0],[169677457.26223284,57356535.665878385,4531.0],[161284200.9521746,52941321.26954881,4488.0],[58891695.937073834,19683515.2527866,1913.0]],\"hovertemplate\":\"store_name=Koltso\\u003cbr\\u003emonth=%{x}\\u003cbr\\u003eAOV=%{y:,.2f}\\u003cbr\\u003etotal_orders_price=%{customdata[0]:,.2f}\\u003cbr\\u003etotal_orders_revenue=%{customdata[1]:,.2f}\\u003cbr\\u003eorders_count=%{customdata[2]:,}\\u003cextra\\u003e\\u003c\\u002fextra\\u003e\",\"legendgroup\":\"Koltso\",\"line\":{\"color\":\"#FF97FF\",\"dash\":\"solid\"},\"marker\":{\"symbol\":\"circle\"},\"mode\":\"lines\",\"name\":\"Koltso\",\"orientation\":\"v\",\"showlegend\":true,\"x\":[\"2022-09-01T00:00:00\",\"2022-10-01T00:00:00\",\"2022-11-01T00:00:00\",\"2022-12-01T00:00:00\",\"2023-01-01T00:00:00\",\"2023-02-01T00:00:00\",\"2023-03-01T00:00:00\",\"2023-04-01T00:00:00\",\"2023-05-01T00:00:00\",\"2023-06-01T00:00:00\",\"2023-07-01T00:00:00\",\"2023-08-01T00:00:00\",\"2023-09-01T00:00:00\",\"2023-10-01T00:00:00\"],\"xaxis\":\"x\",\"y\":[13345.44,11660.26,12770.23,12090.24,12521.9,13002.51,12764.66,11610.47,12089.58,11432.71,11644.39,12658.69,11796.19,10289.34],\"yaxis\":\"y\",\"type\":\"scatter\"},{\"customdata\":[[151048993.58587623,50915092.78236892,3656.0]],\"hovertemplate\":\"store_name=Muravei\\u003cbr\\u003emonth=%{x}\\u003cbr\\u003eAOV=%{y:,.2f}\\u003cbr\\u003etotal_orders_price=%{customdata[0]:,.2f}\\u003cbr\\u003etotal_orders_revenue=%{customdata[1]:,.2f}\\u003cbr\\u003eorders_count=%{customdata[2]:,}\\u003cextra\\u003e\\u003c\\u002fextra\\u003e\",\"legendgroup\":\"Muravei\",\"line\":{\"color\":\"#FECB52\",\"dash\":\"solid\"},\"marker\":{\"symbol\":\"circle\"},\"mode\":\"lines\",\"name\":\"Muravei\",\"orientation\":\"v\",\"showlegend\":true,\"x\":[\"2023-10-01T00:00:00\"],\"xaxis\":\"x\",\"y\":[13926.45],\"yaxis\":\"y\",\"type\":\"scatter\"},{\"customdata\":[[69154577.90975322,22662264.038150422,1924.0],[114994943.50465615,38876642.35959231,2976.0],[130635510.767066,42989681.07743207,3320.0],[121366962.56464179,41261435.38937864,3375.0],[123674025.53203297,43657161.03974074,3347.0],[128592563.0780739,40646271.65461814,3217.0],[129401940.52836965,42776305.03695472,3373.0],[122963458.46384871,43024882.157067575,3343.0],[119813852.95218216,40419797.34876827,3227.0],[139462485.7653355,45834838.742623664,3312.0],[117029512.67282164,38412924.62616104,3169.0],[114194615.36675106,37718015.58803298,3230.0],[127943710.73158571,42440767.846024126,3339.0],[109921293.32933693,36263014.28665379,3040.0],[128925510.38314576,43354805.68883565,3331.0],[127076566.5317763,43620683.80037616,3229.0],[119827200.74367358,41005579.60527351,3340.0],[112386405.07951602,38029123.14597889,3218.0],[120104129.8388087,39614037.315450534,3392.0],[119702173.11022681,39313568.29344038,3347.0],[117309789.90008646,39607973.275723524,3332.0],[49555642.287676476,16480492.757340418,1335.0]],\"hovertemplate\":\"store_name=Rio Leninsky\\u003cbr\\u003emonth=%{x}\\u003cbr\\u003eAOV=%{y:,.2f}\\u003cbr\\u003etotal_orders_price=%{customdata[0]:,.2f}\\u003cbr\\u003etotal_orders_revenue=%{customdata[1]:,.2f}\\u003cbr\\u003eorders_count=%{customdata[2]:,}\\u003cextra\\u003e\\u003c\\u002fextra\\u003e\",\"legendgroup\":\"Rio Leninsky\",\"line\":{\"color\":\"#636efa\",\"dash\":\"solid\"},\"marker\":{\"symbol\":\"circle\"},\"mode\":\"lines\",\"name\":\"Rio Leninsky\",\"orientation\":\"v\",\"showlegend\":true,\"x\":[\"2022-01-01T00:00:00\",\"2022-02-01T00:00:00\",\"2022-03-01T00:00:00\",\"2022-04-01T00:00:00\",\"2022-05-01T00:00:00\",\"2022-06-01T00:00:00\",\"2022-07-01T00:00:00\",\"2022-08-01T00:00:00\",\"2022-09-01T00:00:00\",\"2022-10-01T00:00:00\",\"2022-11-01T00:00:00\",\"2022-12-01T00:00:00\",\"2023-01-01T00:00:00\",\"2023-02-01T00:00:00\",\"2023-03-01T00:00:00\",\"2023-04-01T00:00:00\",\"2023-05-01T00:00:00\",\"2023-06-01T00:00:00\",\"2023-07-01T00:00:00\",\"2023-08-01T00:00:00\",\"2023-09-01T00:00:00\",\"2023-10-01T00:00:00\"],\"xaxis\":\"x\",\"y\":[11778.72,13063.39,12948.7,12225.61,13043.67,12634.84,12681.98,12870.14,12525.5,13839.02,12121.47,11677.4,12710.62,11928.62,13015.55,13509.04,12277.12,11817.63,11678.67,11745.91,11887.15,12344.94],\"yaxis\":\"y\",\"type\":\"scatter\"},{\"customdata\":[[119098923.52174918,41777595.52608351,2900.0],[146975778.02309105,48835409.72018102,3836.0],[130110835.52803904,43916658.68112952,3673.0],[144137616.3801356,47156592.67198175,3913.0],[126739754.30633667,41453066.43450242,3769.0],[134635226.6416673,44895211.58870279,3764.0],[147994859.7413342,48486880.79198846,3911.0],[139413547.1635449,45849402.910751656,3826.0],[53885702.35437357,17770144.741082046,1582.0]],\"hovertemplate\":\"store_name=Sedmoe Nebo\\u003cbr\\u003emonth=%{x}\\u003cbr\\u003eAOV=%{y:,.2f}\\u003cbr\\u003etotal_orders_price=%{customdata[0]:,.2f}\\u003cbr\\u003etotal_orders_revenue=%{customdata[1]:,.2f}\\u003cbr\\u003eorders_count=%{customdata[2]:,}\\u003cextra\\u003e\\u003c\\u002fextra\\u003e\",\"legendgroup\":\"Sedmoe Nebo\",\"line\":{\"color\":\"#EF553B\",\"dash\":\"solid\"},\"marker\":{\"symbol\":\"circle\"},\"mode\":\"lines\",\"name\":\"Sedmoe Nebo\",\"orientation\":\"v\",\"showlegend\":true,\"x\":[\"2023-02-01T00:00:00\",\"2023-03-01T00:00:00\",\"2023-04-01T00:00:00\",\"2023-05-01T00:00:00\",\"2023-06-01T00:00:00\",\"2023-07-01T00:00:00\",\"2023-08-01T00:00:00\",\"2023-09-01T00:00:00\",\"2023-10-01T00:00:00\"],\"xaxis\":\"x\",\"y\":[14406.07,12730.82,11956.62,12051.26,10998.43,11927.53,12397.57,11983.64,11232.71],\"yaxis\":\"y\",\"type\":\"scatter\"},{\"customdata\":[[26060253.649750624,8790768.034769876,930.0],[187700168.65501156,61729707.86146892,5053.0],[173474916.18017063,56917689.99677386,4906.0],[177394513.3869797,58439406.28268942,4840.0],[73284462.26107685,24822960.19784514,2006.0]],\"hovertemplate\":\"store_name=Tsvetnoy\\u003cbr\\u003emonth=%{x}\\u003cbr\\u003eAOV=%{y:,.2f}\\u003cbr\\u003etotal_orders_price=%{customdata[0]:,.2f}\\u003cbr\\u003etotal_orders_revenue=%{customdata[1]:,.2f}\\u003cbr\\u003eorders_count=%{customdata[2]:,}\\u003cextra\\u003e\\u003c\\u002fextra\\u003e\",\"legendgroup\":\"Tsvetnoy\",\"line\":{\"color\":\"#00cc96\",\"dash\":\"solid\"},\"marker\":{\"symbol\":\"circle\"},\"mode\":\"lines\",\"name\":\"Tsvetnoy\",\"orientation\":\"v\",\"showlegend\":true,\"x\":[\"2023-06-01T00:00:00\",\"2023-07-01T00:00:00\",\"2023-08-01T00:00:00\",\"2023-09-01T00:00:00\",\"2023-10-01T00:00:00\"],\"xaxis\":\"x\",\"y\":[9452.44,12216.45,11601.65,12074.26,12374.36],\"yaxis\":\"y\",\"type\":\"scatter\"}],                        {\"template\":{\"data\":{\"histogram2dcontour\":[{\"type\":\"histogram2dcontour\",\"colorbar\":{\"outlinewidth\":0,\"ticks\":\"\"},\"colorscale\":[[0.0,\"#0d0887\"],[0.1111111111111111,\"#46039f\"],[0.2222222222222222,\"#7201a8\"],[0.3333333333333333,\"#9c179e\"],[0.4444444444444444,\"#bd3786\"],[0.5555555555555556,\"#d8576b\"],[0.6666666666666666,\"#ed7953\"],[0.7777777777777778,\"#fb9f3a\"],[0.8888888888888888,\"#fdca26\"],[1.0,\"#f0f921\"]]}],\"choropleth\":[{\"type\":\"choropleth\",\"colorbar\":{\"outlinewidth\":0,\"ticks\":\"\"}}],\"histogram2d\":[{\"type\":\"histogram2d\",\"colorbar\":{\"outlinewidth\":0,\"ticks\":\"\"},\"colorscale\":[[0.0,\"#0d0887\"],[0.1111111111111111,\"#46039f\"],[0.2222222222222222,\"#7201a8\"],[0.3333333333333333,\"#9c179e\"],[0.4444444444444444,\"#bd3786\"],[0.5555555555555556,\"#d8576b\"],[0.6666666666666666,\"#ed7953\"],[0.7777777777777778,\"#fb9f3a\"],[0.8888888888888888,\"#fdca26\"],[1.0,\"#f0f921\"]]}],\"heatmap\":[{\"type\":\"heatmap\",\"colorbar\":{\"outlinewidth\":0,\"ticks\":\"\"},\"colorscale\":[[0.0,\"#0d0887\"],[0.1111111111111111,\"#46039f\"],[0.2222222222222222,\"#7201a8\"],[0.3333333333333333,\"#9c179e\"],[0.4444444444444444,\"#bd3786\"],[0.5555555555555556,\"#d8576b\"],[0.6666666666666666,\"#ed7953\"],[0.7777777777777778,\"#fb9f3a\"],[0.8888888888888888,\"#fdca26\"],[1.0,\"#f0f921\"]]}],\"heatmapgl\":[{\"type\":\"heatmapgl\",\"colorbar\":{\"outlinewidth\":0,\"ticks\":\"\"},\"colorscale\":[[0.0,\"#0d0887\"],[0.1111111111111111,\"#46039f\"],[0.2222222222222222,\"#7201a8\"],[0.3333333333333333,\"#9c179e\"],[0.4444444444444444,\"#bd3786\"],[0.5555555555555556,\"#d8576b\"],[0.6666666666666666,\"#ed7953\"],[0.7777777777777778,\"#fb9f3a\"],[0.8888888888888888,\"#fdca26\"],[1.0,\"#f0f921\"]]}],\"contourcarpet\":[{\"type\":\"contourcarpet\",\"colorbar\":{\"outlinewidth\":0,\"ticks\":\"\"}}],\"contour\":[{\"type\":\"contour\",\"colorbar\":{\"outlinewidth\":0,\"ticks\":\"\"},\"colorscale\":[[0.0,\"#0d0887\"],[0.1111111111111111,\"#46039f\"],[0.2222222222222222,\"#7201a8\"],[0.3333333333333333,\"#9c179e\"],[0.4444444444444444,\"#bd3786\"],[0.5555555555555556,\"#d8576b\"],[0.6666666666666666,\"#ed7953\"],[0.7777777777777778,\"#fb9f3a\"],[0.8888888888888888,\"#fdca26\"],[1.0,\"#f0f921\"]]}],\"surface\":[{\"type\":\"surface\",\"colorbar\":{\"outlinewidth\":0,\"ticks\":\"\"},\"colorscale\":[[0.0,\"#0d0887\"],[0.1111111111111111,\"#46039f\"],[0.2222222222222222,\"#7201a8\"],[0.3333333333333333,\"#9c179e\"],[0.4444444444444444,\"#bd3786\"],[0.5555555555555556,\"#d8576b\"],[0.6666666666666666,\"#ed7953\"],[0.7777777777777778,\"#fb9f3a\"],[0.8888888888888888,\"#fdca26\"],[1.0,\"#f0f921\"]]}],\"mesh3d\":[{\"type\":\"mesh3d\",\"colorbar\":{\"outlinewidth\":0,\"ticks\":\"\"}}],\"scatter\":[{\"fillpattern\":{\"fillmode\":\"overlay\",\"size\":10,\"solidity\":0.2},\"type\":\"scatter\"}],\"parcoords\":[{\"type\":\"parcoords\",\"line\":{\"colorbar\":{\"outlinewidth\":0,\"ticks\":\"\"}}}],\"scatterpolargl\":[{\"type\":\"scatterpolargl\",\"marker\":{\"colorbar\":{\"outlinewidth\":0,\"ticks\":\"\"}}}],\"bar\":[{\"error_x\":{\"color\":\"#2a3f5f\"},\"error_y\":{\"color\":\"#2a3f5f\"},\"marker\":{\"line\":{\"color\":\"#E5ECF6\",\"width\":0.5},\"pattern\":{\"fillmode\":\"overlay\",\"size\":10,\"solidity\":0.2}},\"type\":\"bar\"}],\"scattergeo\":[{\"type\":\"scattergeo\",\"marker\":{\"colorbar\":{\"outlinewidth\":0,\"ticks\":\"\"}}}],\"scatterpolar\":[{\"type\":\"scatterpolar\",\"marker\":{\"colorbar\":{\"outlinewidth\":0,\"ticks\":\"\"}}}],\"histogram\":[{\"marker\":{\"pattern\":{\"fillmode\":\"overlay\",\"size\":10,\"solidity\":0.2}},\"type\":\"histogram\"}],\"scattergl\":[{\"type\":\"scattergl\",\"marker\":{\"colorbar\":{\"outlinewidth\":0,\"ticks\":\"\"}}}],\"scatter3d\":[{\"type\":\"scatter3d\",\"line\":{\"colorbar\":{\"outlinewidth\":0,\"ticks\":\"\"}},\"marker\":{\"colorbar\":{\"outlinewidth\":0,\"ticks\":\"\"}}}],\"scattermapbox\":[{\"type\":\"scattermapbox\",\"marker\":{\"colorbar\":{\"outlinewidth\":0,\"ticks\":\"\"}}}],\"scatterternary\":[{\"type\":\"scatterternary\",\"marker\":{\"colorbar\":{\"outlinewidth\":0,\"ticks\":\"\"}}}],\"scattercarpet\":[{\"type\":\"scattercarpet\",\"marker\":{\"colorbar\":{\"outlinewidth\":0,\"ticks\":\"\"}}}],\"carpet\":[{\"aaxis\":{\"endlinecolor\":\"#2a3f5f\",\"gridcolor\":\"white\",\"linecolor\":\"white\",\"minorgridcolor\":\"white\",\"startlinecolor\":\"#2a3f5f\"},\"baxis\":{\"endlinecolor\":\"#2a3f5f\",\"gridcolor\":\"white\",\"linecolor\":\"white\",\"minorgridcolor\":\"white\",\"startlinecolor\":\"#2a3f5f\"},\"type\":\"carpet\"}],\"table\":[{\"cells\":{\"fill\":{\"color\":\"#EBF0F8\"},\"line\":{\"color\":\"white\"}},\"header\":{\"fill\":{\"color\":\"#C8D4E3\"},\"line\":{\"color\":\"white\"}},\"type\":\"table\"}],\"barpolar\":[{\"marker\":{\"line\":{\"color\":\"#E5ECF6\",\"width\":0.5},\"pattern\":{\"fillmode\":\"overlay\",\"size\":10,\"solidity\":0.2}},\"type\":\"barpolar\"}],\"pie\":[{\"automargin\":true,\"type\":\"pie\"}]},\"layout\":{\"autotypenumbers\":\"strict\",\"colorway\":[\"#636efa\",\"#EF553B\",\"#00cc96\",\"#ab63fa\",\"#FFA15A\",\"#19d3f3\",\"#FF6692\",\"#B6E880\",\"#FF97FF\",\"#FECB52\"],\"font\":{\"color\":\"#2a3f5f\"},\"hovermode\":\"closest\",\"hoverlabel\":{\"align\":\"left\"},\"paper_bgcolor\":\"white\",\"plot_bgcolor\":\"#E5ECF6\",\"polar\":{\"bgcolor\":\"#E5ECF6\",\"angularaxis\":{\"gridcolor\":\"white\",\"linecolor\":\"white\",\"ticks\":\"\"},\"radialaxis\":{\"gridcolor\":\"white\",\"linecolor\":\"white\",\"ticks\":\"\"}},\"ternary\":{\"bgcolor\":\"#E5ECF6\",\"aaxis\":{\"gridcolor\":\"white\",\"linecolor\":\"white\",\"ticks\":\"\"},\"baxis\":{\"gridcolor\":\"white\",\"linecolor\":\"white\",\"ticks\":\"\"},\"caxis\":{\"gridcolor\":\"white\",\"linecolor\":\"white\",\"ticks\":\"\"}},\"coloraxis\":{\"colorbar\":{\"outlinewidth\":0,\"ticks\":\"\"}},\"colorscale\":{\"sequential\":[[0.0,\"#0d0887\"],[0.1111111111111111,\"#46039f\"],[0.2222222222222222,\"#7201a8\"],[0.3333333333333333,\"#9c179e\"],[0.4444444444444444,\"#bd3786\"],[0.5555555555555556,\"#d8576b\"],[0.6666666666666666,\"#ed7953\"],[0.7777777777777778,\"#fb9f3a\"],[0.8888888888888888,\"#fdca26\"],[1.0,\"#f0f921\"]],\"sequentialminus\":[[0.0,\"#0d0887\"],[0.1111111111111111,\"#46039f\"],[0.2222222222222222,\"#7201a8\"],[0.3333333333333333,\"#9c179e\"],[0.4444444444444444,\"#bd3786\"],[0.5555555555555556,\"#d8576b\"],[0.6666666666666666,\"#ed7953\"],[0.7777777777777778,\"#fb9f3a\"],[0.8888888888888888,\"#fdca26\"],[1.0,\"#f0f921\"]],\"diverging\":[[0,\"#8e0152\"],[0.1,\"#c51b7d\"],[0.2,\"#de77ae\"],[0.3,\"#f1b6da\"],[0.4,\"#fde0ef\"],[0.5,\"#f7f7f7\"],[0.6,\"#e6f5d0\"],[0.7,\"#b8e186\"],[0.8,\"#7fbc41\"],[0.9,\"#4d9221\"],[1,\"#276419\"]]},\"xaxis\":{\"gridcolor\":\"white\",\"linecolor\":\"white\",\"ticks\":\"\",\"title\":{\"standoff\":15},\"zerolinecolor\":\"white\",\"automargin\":true,\"zerolinewidth\":2},\"yaxis\":{\"gridcolor\":\"white\",\"linecolor\":\"white\",\"ticks\":\"\",\"title\":{\"standoff\":15},\"zerolinecolor\":\"white\",\"automargin\":true,\"zerolinewidth\":2},\"scene\":{\"xaxis\":{\"backgroundcolor\":\"#E5ECF6\",\"gridcolor\":\"white\",\"linecolor\":\"white\",\"showbackground\":true,\"ticks\":\"\",\"zerolinecolor\":\"white\",\"gridwidth\":2},\"yaxis\":{\"backgroundcolor\":\"#E5ECF6\",\"gridcolor\":\"white\",\"linecolor\":\"white\",\"showbackground\":true,\"ticks\":\"\",\"zerolinecolor\":\"white\",\"gridwidth\":2},\"zaxis\":{\"backgroundcolor\":\"#E5ECF6\",\"gridcolor\":\"white\",\"linecolor\":\"white\",\"showbackground\":true,\"ticks\":\"\",\"zerolinecolor\":\"white\",\"gridwidth\":2}},\"shapedefaults\":{\"line\":{\"color\":\"#2a3f5f\"}},\"annotationdefaults\":{\"arrowcolor\":\"#2a3f5f\",\"arrowhead\":0,\"arrowwidth\":1},\"geo\":{\"bgcolor\":\"white\",\"landcolor\":\"#E5ECF6\",\"subunitcolor\":\"white\",\"showland\":true,\"showlakes\":true,\"lakecolor\":\"white\"},\"title\":{\"x\":0.05},\"mapbox\":{\"style\":\"light\"}}},\"xaxis\":{\"anchor\":\"y\",\"domain\":[0.0,1.0],\"title\":{\"text\":\"month\"}},\"yaxis\":{\"anchor\":\"x\",\"domain\":[0.0,1.0],\"title\":{\"text\":\"AOV\"}},\"legend\":{\"title\":{\"text\":\"store_name\"},\"tracegroupgap\":0},\"title\":{\"text\":\"Store's AOV by months\"}},                        {\"responsive\": true}                    ).then(function(){\n",
       "                            \n",
       "var gd = document.getElementById('0454ecb7-c557-4224-9ae0-3c136b50a562');\n",
       "var x = new MutationObserver(function (mutations, observer) {{\n",
       "        var display = window.getComputedStyle(gd).display;\n",
       "        if (!display || display === 'none') {{\n",
       "            console.log([gd, 'removed!']);\n",
       "            Plotly.purge(gd);\n",
       "            observer.disconnect();\n",
       "        }}\n",
       "}});\n",
       "\n",
       "// Listen for the removal of the full notebook cells\n",
       "var notebookContainer = gd.closest('#notebook-container');\n",
       "if (notebookContainer) {{\n",
       "    x.observe(notebookContainer, {childList: true});\n",
       "}}\n",
       "\n",
       "// Listen for the clearing of the current output cell\n",
       "var outputEl = gd.closest('.output');\n",
       "if (outputEl) {{\n",
       "    x.observe(outputEl, {childList: true});\n",
       "}}\n",
       "\n",
       "                        })                };                });            </script>        </div>"
      ]
     },
     "metadata": {},
     "output_type": "display_data"
    }
   ],
   "source": [
    "px.line(\n",
    "    by_month,\n",
    "    x=by_month['month'].dt.to_timestamp(),\n",
    "    y='AOV',\n",
    "    color='store_name',\n",
    "    title='Store\\'s AOV by months',\n",
    "    labels={'x': 'month'},\n",
    "    hover_data={\n",
    "        'total_orders_price': ':,.2f',\n",
    "        'total_orders_revenue': ':,.2f',\n",
    "        'orders_count': ':,',\n",
    "        'AOV': ':,.2f',\n",
    "    }\n",
    ")"
   ]
  },
  {
   "cell_type": "markdown",
   "id": "1370cb1d",
   "metadata": {},
   "source": [
    "### orders_count"
   ]
  },
  {
   "cell_type": "code",
   "execution_count": 168,
   "id": "c6903068",
   "metadata": {},
   "outputs": [
    {
     "data": {
      "application/vnd.plotly.v1+json": {
       "config": {
        "plotlyServerURL": "https://plot.ly"
       },
       "data": [
        {
         "customdata": [
          [
           40495453.27451934,
           14460097.75264535,
           14650.55
          ],
          [
           74652948.04771125,
           25041627.582198363,
           13049.31
          ],
          [
           76541651.05785595,
           25796202.441825364,
           13201.74
          ],
          [
           74382831.32825424,
           24525743.292597413,
           12525.92
          ],
          [
           62308818.1423417,
           20639103.76230183,
           11693.54
          ],
          [
           73929056.3471301,
           24275253.369498428,
           12823.69
          ],
          [
           67833081.38986987,
           22031265.0928559,
           11356.32
          ],
          [
           73015717.70997931,
           24490684.83227122,
           12559.33
          ],
          [
           75924906.03524005,
           25892274.842800427,
           13943.07
          ],
          [
           65932053.6667954,
           21394280.071453586,
           11207.06
          ],
          [
           69011626.0370694,
           22134077.285814285,
           11552.23
          ],
          [
           71011945.6239286,
           23846962.066574097,
           12179.25
          ],
          [
           29487870.355819825,
           9381966.682522085,
           11455.39
          ]
         ],
         "hovertemplate": "store_name=Afimoll<br>month=%{x}<br>orders_count=%{y:,}<br>total_orders_price=%{customdata[0]:,.2f}<br>total_orders_revenue=%{customdata[1]:,.2f}<br>AOV=%{customdata[2]:,}<extra></extra>",
         "legendgroup": "Afimoll",
         "line": {
          "color": "#636efa",
          "dash": "solid"
         },
         "marker": {
          "symbol": "circle"
         },
         "mode": "lines",
         "name": "Afimoll",
         "orientation": "v",
         "showlegend": true,
         "type": "scatter",
         "x": [
          "2022-10-01T00:00:00",
          "2022-11-01T00:00:00",
          "2022-12-01T00:00:00",
          "2023-01-01T00:00:00",
          "2023-02-01T00:00:00",
          "2023-03-01T00:00:00",
          "2023-04-01T00:00:00",
          "2023-05-01T00:00:00",
          "2023-06-01T00:00:00",
          "2023-07-01T00:00:00",
          "2023-08-01T00:00:00",
          "2023-09-01T00:00:00",
          "2023-10-01T00:00:00"
         ],
         "xaxis": "x",
         "y": [
          987,
          1919,
          1954,
          1958,
          1765,
          1893,
          1940,
          1950,
          1857,
          1909,
          1916,
          1958,
          819
         ],
         "yaxis": "y"
        },
        {
         "customdata": [
          [
           105542439.24000275,
           35775795.07033415,
           12201.84
          ],
          [
           249575444.4320614,
           83376917.10435086,
           12675.12
          ],
          [
           257679832.6520927,
           86904196.55326195,
           12161.24
          ],
          [
           248231328.6942052,
           84187001.6195992,
           12313.44
          ],
          [
           262862461.3005931,
           87931025.41893935,
           12417.88
          ],
          [
           252217259.10369813,
           84157557.68488471,
           12163.25
          ],
          [
           266774554.29533818,
           90351322.69624646,
           12507.1
          ],
          [
           264770757.51907578,
           87603829.96538536,
           12025.23
          ],
          [
           254160520.46038926,
           85045834.98651871,
           12073.51
          ],
          [
           122775482.34224246,
           42472875.861251846,
           13449.3
          ]
         ],
         "hovertemplate": "store_name=Aviapark<br>month=%{x}<br>orders_count=%{y:,}<br>total_orders_price=%{customdata[0]:,.2f}<br>total_orders_revenue=%{customdata[1]:,.2f}<br>AOV=%{customdata[2]:,}<extra></extra>",
         "legendgroup": "Aviapark",
         "line": {
          "color": "#EF553B",
          "dash": "solid"
         },
         "marker": {
          "symbol": "circle"
         },
         "mode": "lines",
         "name": "Aviapark",
         "orientation": "v",
         "showlegend": true,
         "type": "scatter",
         "x": [
          "2023-01-01T00:00:00",
          "2023-02-01T00:00:00",
          "2023-03-01T00:00:00",
          "2023-04-01T00:00:00",
          "2023-05-01T00:00:00",
          "2023-06-01T00:00:00",
          "2023-07-01T00:00:00",
          "2023-08-01T00:00:00",
          "2023-09-01T00:00:00",
          "2023-10-01T00:00:00"
         ],
         "xaxis": "x",
         "y": [
          2932,
          6578,
          7146,
          6837,
          7081,
          6919,
          7224,
          7285,
          7044,
          3158
         ],
         "yaxis": "y"
        },
        {
         "customdata": [
          [
           297737028.651215,
           100368554.68751858,
           12987.65
          ],
          [
           351796921.674974,
           117496928.7405991,
           12440.12
          ],
          [
           359833464.7118329,
           122923694.6664741,
           13409.37
          ],
          [
           368467483.3781216,
           123889225.4699631,
           12902.44
          ],
          [
           343616813.72211105,
           114180542.9039856,
           12126.23
          ],
          [
           347684686.53347874,
           112067963.79461923,
           12056.8
          ],
          [
           149984810.6451769,
           51449530.416133255,
           12515.09
          ]
         ],
         "hovertemplate": "store_name=Evropeisky<br>month=%{x}<br>orders_count=%{y:,}<br>total_orders_price=%{customdata[0]:,.2f}<br>total_orders_revenue=%{customdata[1]:,.2f}<br>AOV=%{customdata[2]:,}<extra></extra>",
         "legendgroup": "Evropeisky",
         "line": {
          "color": "#00cc96",
          "dash": "solid"
         },
         "marker": {
          "symbol": "circle"
         },
         "mode": "lines",
         "name": "Evropeisky",
         "orientation": "v",
         "showlegend": true,
         "type": "scatter",
         "x": [
          "2023-04-01T00:00:00",
          "2023-05-01T00:00:00",
          "2023-06-01T00:00:00",
          "2023-07-01T00:00:00",
          "2023-08-01T00:00:00",
          "2023-09-01T00:00:00",
          "2023-10-01T00:00:00"
         ],
         "xaxis": "x",
         "y": [
          7728,
          9445,
          9167,
          9602,
          9416,
          9295,
          4111
         ],
         "yaxis": "y"
        },
        {
         "customdata": [
          [
           30662715.240862593,
           10171579.597018342,
           11938.47
          ],
          [
           87307541.30204108,
           28227865.524137966,
           11219.34
          ],
          [
           91248616.87395312,
           29318657.825127956,
           11088.75
          ],
          [
           92623462.65751192,
           30974306.824018944,
           12056.95
          ],
          [
           87981863.72238216,
           30274205.728461742,
           12499.67
          ],
          [
           101861324.30794658,
           36105166.617842905,
           13313.11
          ],
          [
           87514912.71655339,
           30445110.867197245,
           11934.58
          ],
          [
           102109388.41220997,
           33102621.604826197,
           12986.51
          ],
          [
           93961036.31328663,
           31772855.985067714,
           12122.42
          ],
          [
           93415775.05150208,
           30659955.80721656,
           12690.38
          ],
          [
           92910776.87405345,
           30988918.416199133,
           11636.85
          ],
          [
           95653068.0807607,
           31839153.05052114,
           12403.25
          ],
          [
           99726389.00726676,
           34054827.150401086,
           13199.55
          ],
          [
           86325244.87394144,
           28839769.045519717,
           11863.34
          ],
          [
           98044634.55018224,
           32179978.855817735,
           12240.39
          ],
          [
           91933093.13999781,
           30629730.36359619,
           11726.54
          ],
          [
           79388264.39368817,
           26937362.633853573,
           11012.82
          ],
          [
           43709982.95127659,
           14750470.209702782,
           13902.42
          ]
         ],
         "hovertemplate": "store_name=Evropolis<br>month=%{x}<br>orders_count=%{y:,}<br>total_orders_price=%{customdata[0]:,.2f}<br>total_orders_revenue=%{customdata[1]:,.2f}<br>AOV=%{customdata[2]:,}<extra></extra>",
         "legendgroup": "Evropolis",
         "line": {
          "color": "#ab63fa",
          "dash": "solid"
         },
         "marker": {
          "symbol": "circle"
         },
         "mode": "lines",
         "name": "Evropolis",
         "orientation": "v",
         "showlegend": true,
         "type": "scatter",
         "x": [
          "2022-05-01T00:00:00",
          "2022-06-01T00:00:00",
          "2022-07-01T00:00:00",
          "2022-08-01T00:00:00",
          "2022-09-01T00:00:00",
          "2022-10-01T00:00:00",
          "2022-11-01T00:00:00",
          "2022-12-01T00:00:00",
          "2023-01-01T00:00:00",
          "2023-02-01T00:00:00",
          "2023-03-01T00:00:00",
          "2023-04-01T00:00:00",
          "2023-05-01T00:00:00",
          "2023-06-01T00:00:00",
          "2023-07-01T00:00:00",
          "2023-08-01T00:00:00",
          "2023-09-01T00:00:00",
          "2023-10-01T00:00:00"
         ],
         "xaxis": "x",
         "y": [
          852,
          2516,
          2644,
          2569,
          2422,
          2712,
          2551,
          2549,
          2621,
          2416,
          2663,
          2567,
          2580,
          2431,
          2629,
          2612,
          2446,
          1061
         ],
         "yaxis": "y"
        },
        {
         "customdata": [
          [
           215166053.76013368,
           71514114.13360538,
           12537.54
          ],
          [
           260677274.25812057,
           86001797.95190437,
           12794.08
          ],
          [
           244175456.67330694,
           80815685.58175026,
           11900.41
          ],
          [
           234540896.33010834,
           77628229.69390559,
           11434.41
          ],
          [
           242732328.77103546,
           84040919.75196317,
           12509.81
          ],
          [
           98438285.24572769,
           32312996.25744597,
           11495.2
          ]
         ],
         "hovertemplate": "store_name=Galereia<br>month=%{x}<br>orders_count=%{y:,}<br>total_orders_price=%{customdata[0]:,.2f}<br>total_orders_revenue=%{customdata[1]:,.2f}<br>AOV=%{customdata[2]:,}<extra></extra>",
         "legendgroup": "Galereia",
         "line": {
          "color": "#FFA15A",
          "dash": "solid"
         },
         "marker": {
          "symbol": "circle"
         },
         "mode": "lines",
         "name": "Galereia",
         "orientation": "v",
         "showlegend": true,
         "type": "scatter",
         "x": [
          "2023-05-01T00:00:00",
          "2023-06-01T00:00:00",
          "2023-07-01T00:00:00",
          "2023-08-01T00:00:00",
          "2023-09-01T00:00:00",
          "2023-10-01T00:00:00"
         ],
         "xaxis": "x",
         "y": [
          5704,
          6722,
          6791,
          6789,
          6718,
          2811
         ],
         "yaxis": "y"
        },
        {
         "customdata": [
          [
           1340295235.6508744,
           445429146.45408046,
           12399.9
          ],
          [
           1752293644.308949,
           585992440.8661189,
           12084.06
          ],
          [
           739442300.4360099,
           246608102.11489096,
           12164.96
          ]
         ],
         "hovertemplate": "store_name=Grinvich<br>month=%{x}<br>orders_count=%{y:,}<br>total_orders_price=%{customdata[0]:,.2f}<br>total_orders_revenue=%{customdata[1]:,.2f}<br>AOV=%{customdata[2]:,}<extra></extra>",
         "legendgroup": "Grinvich",
         "line": {
          "color": "#19d3f3",
          "dash": "solid"
         },
         "marker": {
          "symbol": "circle"
         },
         "mode": "lines",
         "name": "Grinvich",
         "orientation": "v",
         "showlegend": true,
         "type": "scatter",
         "x": [
          "2023-08-01T00:00:00",
          "2023-09-01T00:00:00",
          "2023-10-01T00:00:00"
         ],
         "xaxis": "x",
         "y": [
          35922,
          48493,
          20272
         ],
         "yaxis": "y"
        },
        {
         "customdata": [
          [
           451238194.7910986,
           149336927.9472481,
           12126.43
          ],
          [
           443372903.2721732,
           150321025.5825468,
           12010.31
          ]
         ],
         "hovertemplate": "store_name=Kapitoliy Vernadskogo<br>month=%{x}<br>orders_count=%{y:,}<br>total_orders_price=%{customdata[0]:,.2f}<br>total_orders_revenue=%{customdata[1]:,.2f}<br>AOV=%{customdata[2]:,}<extra></extra>",
         "legendgroup": "Kapitoliy Vernadskogo",
         "line": {
          "color": "#FF6692",
          "dash": "solid"
         },
         "marker": {
          "symbol": "circle"
         },
         "mode": "lines",
         "name": "Kapitoliy Vernadskogo",
         "orientation": "v",
         "showlegend": true,
         "type": "scatter",
         "x": [
          "2023-09-01T00:00:00",
          "2023-10-01T00:00:00"
         ],
         "xaxis": "x",
         "y": [
          12315,
          12516
         ],
         "yaxis": "y"
        },
        {
         "customdata": [
          [
           79490823.19370349,
           26437424.046503164,
           11221.32
          ],
          [
           148083613.44985557,
           48480891.22419626,
           12450.15
          ],
          [
           140382189.279039,
           48563975.491399504,
           12713.08
          ],
          [
           147253949.3780735,
           49006719.8484273,
           12940.78
          ],
          [
           137832159.3182721,
           47070331.09104712,
           12210.2
          ],
          [
           133984527.18240389,
           44501367.26312409,
           12004.68
          ],
          [
           141130844.47353154,
           47044705.08403934,
           12347.69
          ],
          [
           138202356.28541926,
           46825442.69694054,
           12601.03
          ],
          [
           153513286.42817706,
           52731088.98758867,
           13292.43
          ],
          [
           139549672.07118517,
           46557629.78558081,
           12465.23
          ],
          [
           113491696.86352433,
           38160245.86892251,
           11253.39
          ],
          [
           135148240.5791103,
           44962651.01792846,
           11961.33
          ],
          [
           134926088.33064765,
           44803245.26672515,
           12184.73
          ],
          [
           143349432.93535593,
           49734613.72607543,
           13084.61
          ],
          [
           132996426.43005037,
           44546586.99515231,
           11920.41
          ],
          [
           141385986.2006513,
           46471388.804398276,
           11867.06
          ],
          [
           139980292.69743028,
           45426065.30859888,
           11632.8
          ],
          [
           131301138.53557679,
           44441564.54516353,
           12212.58
          ],
          [
           54034794.00734232,
           17923155.81741467,
           11760.6
          ]
         ],
         "hovertemplate": "store_name=Kapitoly Belyaevo<br>month=%{x}<br>orders_count=%{y:,}<br>total_orders_price=%{customdata[0]:,.2f}<br>total_orders_revenue=%{customdata[1]:,.2f}<br>AOV=%{customdata[2]:,}<extra></extra>",
         "legendgroup": "Kapitoly Belyaevo",
         "line": {
          "color": "#B6E880",
          "dash": "solid"
         },
         "marker": {
          "symbol": "circle"
         },
         "mode": "lines",
         "name": "Kapitoly Belyaevo",
         "orientation": "v",
         "showlegend": true,
         "type": "scatter",
         "x": [
          "2022-04-01T00:00:00",
          "2022-05-01T00:00:00",
          "2022-06-01T00:00:00",
          "2022-07-01T00:00:00",
          "2022-08-01T00:00:00",
          "2022-09-01T00:00:00",
          "2022-10-01T00:00:00",
          "2022-11-01T00:00:00",
          "2022-12-01T00:00:00",
          "2023-01-01T00:00:00",
          "2023-02-01T00:00:00",
          "2023-03-01T00:00:00",
          "2023-04-01T00:00:00",
          "2023-05-01T00:00:00",
          "2023-06-01T00:00:00",
          "2023-07-01T00:00:00",
          "2023-08-01T00:00:00",
          "2023-09-01T00:00:00",
          "2023-10-01T00:00:00"
         ],
         "xaxis": "x",
         "y": [
          2356,
          3894,
          3820,
          3787,
          3855,
          3707,
          3810,
          3716,
          3967,
          3735,
          3391,
          3759,
          3677,
          3801,
          3737,
          3916,
          3905,
          3639,
          1524
         ],
         "yaxis": "y"
        },
        {
         "customdata": [
          [
           115553153.51430526,
           38394830.16882239,
           13345.44
          ],
          [
           161242887.78864264,
           54255186.919463046,
           11660.26
          ],
          [
           167111284.51859042,
           55652679.77108816,
           12770.23
          ],
          [
           161710339.14238855,
           54188465.84280042,
           12090.24
          ],
          [
           163451036.65481782,
           56135683.06005439,
           12521.9
          ],
          [
           154985296.57294336,
           53115259.18687742,
           13002.51
          ],
          [
           171449475.82218865,
           57670711.65318232,
           12764.66
          ],
          [
           154634585.92694804,
           51457622.70255547,
           11610.47
          ],
          [
           163532037.41569677,
           55430708.31067823,
           12089.58
          ],
          [
           149402441.1225721,
           50395402.71892472,
           11432.71
          ],
          [
           160770427.3788916,
           53657358.413797066,
           11644.39
          ],
          [
           169677457.26223284,
           57356535.665878385,
           12658.69
          ],
          [
           161284200.9521746,
           52941321.26954881,
           11796.19
          ],
          [
           58891695.937073834,
           19683515.2527866,
           10289.34
          ]
         ],
         "hovertemplate": "store_name=Koltso<br>month=%{x}<br>orders_count=%{y:,}<br>total_orders_price=%{customdata[0]:,.2f}<br>total_orders_revenue=%{customdata[1]:,.2f}<br>AOV=%{customdata[2]:,}<extra></extra>",
         "legendgroup": "Koltso",
         "line": {
          "color": "#FF97FF",
          "dash": "solid"
         },
         "marker": {
          "symbol": "circle"
         },
         "mode": "lines",
         "name": "Koltso",
         "orientation": "v",
         "showlegend": true,
         "type": "scatter",
         "x": [
          "2022-09-01T00:00:00",
          "2022-10-01T00:00:00",
          "2022-11-01T00:00:00",
          "2022-12-01T00:00:00",
          "2023-01-01T00:00:00",
          "2023-02-01T00:00:00",
          "2023-03-01T00:00:00",
          "2023-04-01T00:00:00",
          "2023-05-01T00:00:00",
          "2023-06-01T00:00:00",
          "2023-07-01T00:00:00",
          "2023-08-01T00:00:00",
          "2023-09-01T00:00:00",
          "2023-10-01T00:00:00"
         ],
         "xaxis": "x",
         "y": [
          2877,
          4653,
          4358,
          4482,
          4483,
          4085,
          4518,
          4432,
          4585,
          4408,
          4608,
          4531,
          4488,
          1913
         ],
         "yaxis": "y"
        },
        {
         "customdata": [
          [
           151048993.58587623,
           50915092.78236892,
           13926.45
          ]
         ],
         "hovertemplate": "store_name=Muravei<br>month=%{x}<br>orders_count=%{y:,}<br>total_orders_price=%{customdata[0]:,.2f}<br>total_orders_revenue=%{customdata[1]:,.2f}<br>AOV=%{customdata[2]:,}<extra></extra>",
         "legendgroup": "Muravei",
         "line": {
          "color": "#FECB52",
          "dash": "solid"
         },
         "marker": {
          "symbol": "circle"
         },
         "mode": "lines",
         "name": "Muravei",
         "orientation": "v",
         "showlegend": true,
         "type": "scatter",
         "x": [
          "2023-10-01T00:00:00"
         ],
         "xaxis": "x",
         "y": [
          3656
         ],
         "yaxis": "y"
        },
        {
         "customdata": [
          [
           69154577.90975322,
           22662264.038150422,
           11778.72
          ],
          [
           114994943.50465615,
           38876642.35959231,
           13063.39
          ],
          [
           130635510.767066,
           42989681.07743207,
           12948.7
          ],
          [
           121366962.56464179,
           41261435.38937864,
           12225.61
          ],
          [
           123674025.53203297,
           43657161.03974074,
           13043.67
          ],
          [
           128592563.0780739,
           40646271.65461814,
           12634.84
          ],
          [
           129401940.52836965,
           42776305.03695472,
           12681.98
          ],
          [
           122963458.46384871,
           43024882.157067575,
           12870.14
          ],
          [
           119813852.95218216,
           40419797.34876827,
           12525.5
          ],
          [
           139462485.7653355,
           45834838.742623664,
           13839.02
          ],
          [
           117029512.67282164,
           38412924.62616104,
           12121.47
          ],
          [
           114194615.36675106,
           37718015.58803298,
           11677.4
          ],
          [
           127943710.73158571,
           42440767.846024126,
           12710.62
          ],
          [
           109921293.32933693,
           36263014.28665379,
           11928.62
          ],
          [
           128925510.38314576,
           43354805.68883565,
           13015.55
          ],
          [
           127076566.5317763,
           43620683.80037616,
           13509.04
          ],
          [
           119827200.74367358,
           41005579.60527351,
           12277.12
          ],
          [
           112386405.07951602,
           38029123.14597889,
           11817.63
          ],
          [
           120104129.8388087,
           39614037.315450534,
           11678.67
          ],
          [
           119702173.11022681,
           39313568.29344038,
           11745.91
          ],
          [
           117309789.90008646,
           39607973.275723524,
           11887.15
          ],
          [
           49555642.287676476,
           16480492.757340418,
           12344.94
          ]
         ],
         "hovertemplate": "store_name=Rio Leninsky<br>month=%{x}<br>orders_count=%{y:,}<br>total_orders_price=%{customdata[0]:,.2f}<br>total_orders_revenue=%{customdata[1]:,.2f}<br>AOV=%{customdata[2]:,}<extra></extra>",
         "legendgroup": "Rio Leninsky",
         "line": {
          "color": "#636efa",
          "dash": "solid"
         },
         "marker": {
          "symbol": "circle"
         },
         "mode": "lines",
         "name": "Rio Leninsky",
         "orientation": "v",
         "showlegend": true,
         "type": "scatter",
         "x": [
          "2022-01-01T00:00:00",
          "2022-02-01T00:00:00",
          "2022-03-01T00:00:00",
          "2022-04-01T00:00:00",
          "2022-05-01T00:00:00",
          "2022-06-01T00:00:00",
          "2022-07-01T00:00:00",
          "2022-08-01T00:00:00",
          "2022-09-01T00:00:00",
          "2022-10-01T00:00:00",
          "2022-11-01T00:00:00",
          "2022-12-01T00:00:00",
          "2023-01-01T00:00:00",
          "2023-02-01T00:00:00",
          "2023-03-01T00:00:00",
          "2023-04-01T00:00:00",
          "2023-05-01T00:00:00",
          "2023-06-01T00:00:00",
          "2023-07-01T00:00:00",
          "2023-08-01T00:00:00",
          "2023-09-01T00:00:00",
          "2023-10-01T00:00:00"
         ],
         "xaxis": "x",
         "y": [
          1924,
          2976,
          3320,
          3375,
          3347,
          3217,
          3373,
          3343,
          3227,
          3312,
          3169,
          3230,
          3339,
          3040,
          3331,
          3229,
          3340,
          3218,
          3392,
          3347,
          3332,
          1335
         ],
         "yaxis": "y"
        },
        {
         "customdata": [
          [
           119098923.52174918,
           41777595.52608351,
           14406.07
          ],
          [
           146975778.02309105,
           48835409.72018102,
           12730.82
          ],
          [
           130110835.52803904,
           43916658.68112952,
           11956.62
          ],
          [
           144137616.3801356,
           47156592.67198175,
           12051.26
          ],
          [
           126739754.30633667,
           41453066.43450242,
           10998.43
          ],
          [
           134635226.6416673,
           44895211.58870279,
           11927.53
          ],
          [
           147994859.7413342,
           48486880.79198846,
           12397.57
          ],
          [
           139413547.1635449,
           45849402.910751656,
           11983.64
          ],
          [
           53885702.35437357,
           17770144.741082046,
           11232.71
          ]
         ],
         "hovertemplate": "store_name=Sedmoe Nebo<br>month=%{x}<br>orders_count=%{y:,}<br>total_orders_price=%{customdata[0]:,.2f}<br>total_orders_revenue=%{customdata[1]:,.2f}<br>AOV=%{customdata[2]:,}<extra></extra>",
         "legendgroup": "Sedmoe Nebo",
         "line": {
          "color": "#EF553B",
          "dash": "solid"
         },
         "marker": {
          "symbol": "circle"
         },
         "mode": "lines",
         "name": "Sedmoe Nebo",
         "orientation": "v",
         "showlegend": true,
         "type": "scatter",
         "x": [
          "2023-02-01T00:00:00",
          "2023-03-01T00:00:00",
          "2023-04-01T00:00:00",
          "2023-05-01T00:00:00",
          "2023-06-01T00:00:00",
          "2023-07-01T00:00:00",
          "2023-08-01T00:00:00",
          "2023-09-01T00:00:00",
          "2023-10-01T00:00:00"
         ],
         "xaxis": "x",
         "y": [
          2900,
          3836,
          3673,
          3913,
          3769,
          3764,
          3911,
          3826,
          1582
         ],
         "yaxis": "y"
        },
        {
         "customdata": [
          [
           26060253.649750624,
           8790768.034769876,
           9452.44
          ],
          [
           187700168.65501156,
           61729707.86146892,
           12216.45
          ],
          [
           173474916.18017063,
           56917689.99677386,
           11601.65
          ],
          [
           177394513.3869797,
           58439406.28268942,
           12074.26
          ],
          [
           73284462.26107685,
           24822960.19784514,
           12374.36
          ]
         ],
         "hovertemplate": "store_name=Tsvetnoy<br>month=%{x}<br>orders_count=%{y:,}<br>total_orders_price=%{customdata[0]:,.2f}<br>total_orders_revenue=%{customdata[1]:,.2f}<br>AOV=%{customdata[2]:,}<extra></extra>",
         "legendgroup": "Tsvetnoy",
         "line": {
          "color": "#00cc96",
          "dash": "solid"
         },
         "marker": {
          "symbol": "circle"
         },
         "mode": "lines",
         "name": "Tsvetnoy",
         "orientation": "v",
         "showlegend": true,
         "type": "scatter",
         "x": [
          "2023-06-01T00:00:00",
          "2023-07-01T00:00:00",
          "2023-08-01T00:00:00",
          "2023-09-01T00:00:00",
          "2023-10-01T00:00:00"
         ],
         "xaxis": "x",
         "y": [
          930,
          5053,
          4906,
          4840,
          2006
         ],
         "yaxis": "y"
        }
       ],
       "layout": {
        "legend": {
         "title": {
          "text": "store_name"
         },
         "tracegroupgap": 0
        },
        "template": {
         "data": {
          "bar": [
           {
            "error_x": {
             "color": "#2a3f5f"
            },
            "error_y": {
             "color": "#2a3f5f"
            },
            "marker": {
             "line": {
              "color": "#E5ECF6",
              "width": 0.5
             },
             "pattern": {
              "fillmode": "overlay",
              "size": 10,
              "solidity": 0.2
             }
            },
            "type": "bar"
           }
          ],
          "barpolar": [
           {
            "marker": {
             "line": {
              "color": "#E5ECF6",
              "width": 0.5
             },
             "pattern": {
              "fillmode": "overlay",
              "size": 10,
              "solidity": 0.2
             }
            },
            "type": "barpolar"
           }
          ],
          "carpet": [
           {
            "aaxis": {
             "endlinecolor": "#2a3f5f",
             "gridcolor": "white",
             "linecolor": "white",
             "minorgridcolor": "white",
             "startlinecolor": "#2a3f5f"
            },
            "baxis": {
             "endlinecolor": "#2a3f5f",
             "gridcolor": "white",
             "linecolor": "white",
             "minorgridcolor": "white",
             "startlinecolor": "#2a3f5f"
            },
            "type": "carpet"
           }
          ],
          "choropleth": [
           {
            "colorbar": {
             "outlinewidth": 0,
             "ticks": ""
            },
            "type": "choropleth"
           }
          ],
          "contour": [
           {
            "colorbar": {
             "outlinewidth": 0,
             "ticks": ""
            },
            "colorscale": [
             [
              0,
              "#0d0887"
             ],
             [
              0.1111111111111111,
              "#46039f"
             ],
             [
              0.2222222222222222,
              "#7201a8"
             ],
             [
              0.3333333333333333,
              "#9c179e"
             ],
             [
              0.4444444444444444,
              "#bd3786"
             ],
             [
              0.5555555555555556,
              "#d8576b"
             ],
             [
              0.6666666666666666,
              "#ed7953"
             ],
             [
              0.7777777777777778,
              "#fb9f3a"
             ],
             [
              0.8888888888888888,
              "#fdca26"
             ],
             [
              1,
              "#f0f921"
             ]
            ],
            "type": "contour"
           }
          ],
          "contourcarpet": [
           {
            "colorbar": {
             "outlinewidth": 0,
             "ticks": ""
            },
            "type": "contourcarpet"
           }
          ],
          "heatmap": [
           {
            "colorbar": {
             "outlinewidth": 0,
             "ticks": ""
            },
            "colorscale": [
             [
              0,
              "#0d0887"
             ],
             [
              0.1111111111111111,
              "#46039f"
             ],
             [
              0.2222222222222222,
              "#7201a8"
             ],
             [
              0.3333333333333333,
              "#9c179e"
             ],
             [
              0.4444444444444444,
              "#bd3786"
             ],
             [
              0.5555555555555556,
              "#d8576b"
             ],
             [
              0.6666666666666666,
              "#ed7953"
             ],
             [
              0.7777777777777778,
              "#fb9f3a"
             ],
             [
              0.8888888888888888,
              "#fdca26"
             ],
             [
              1,
              "#f0f921"
             ]
            ],
            "type": "heatmap"
           }
          ],
          "heatmapgl": [
           {
            "colorbar": {
             "outlinewidth": 0,
             "ticks": ""
            },
            "colorscale": [
             [
              0,
              "#0d0887"
             ],
             [
              0.1111111111111111,
              "#46039f"
             ],
             [
              0.2222222222222222,
              "#7201a8"
             ],
             [
              0.3333333333333333,
              "#9c179e"
             ],
             [
              0.4444444444444444,
              "#bd3786"
             ],
             [
              0.5555555555555556,
              "#d8576b"
             ],
             [
              0.6666666666666666,
              "#ed7953"
             ],
             [
              0.7777777777777778,
              "#fb9f3a"
             ],
             [
              0.8888888888888888,
              "#fdca26"
             ],
             [
              1,
              "#f0f921"
             ]
            ],
            "type": "heatmapgl"
           }
          ],
          "histogram": [
           {
            "marker": {
             "pattern": {
              "fillmode": "overlay",
              "size": 10,
              "solidity": 0.2
             }
            },
            "type": "histogram"
           }
          ],
          "histogram2d": [
           {
            "colorbar": {
             "outlinewidth": 0,
             "ticks": ""
            },
            "colorscale": [
             [
              0,
              "#0d0887"
             ],
             [
              0.1111111111111111,
              "#46039f"
             ],
             [
              0.2222222222222222,
              "#7201a8"
             ],
             [
              0.3333333333333333,
              "#9c179e"
             ],
             [
              0.4444444444444444,
              "#bd3786"
             ],
             [
              0.5555555555555556,
              "#d8576b"
             ],
             [
              0.6666666666666666,
              "#ed7953"
             ],
             [
              0.7777777777777778,
              "#fb9f3a"
             ],
             [
              0.8888888888888888,
              "#fdca26"
             ],
             [
              1,
              "#f0f921"
             ]
            ],
            "type": "histogram2d"
           }
          ],
          "histogram2dcontour": [
           {
            "colorbar": {
             "outlinewidth": 0,
             "ticks": ""
            },
            "colorscale": [
             [
              0,
              "#0d0887"
             ],
             [
              0.1111111111111111,
              "#46039f"
             ],
             [
              0.2222222222222222,
              "#7201a8"
             ],
             [
              0.3333333333333333,
              "#9c179e"
             ],
             [
              0.4444444444444444,
              "#bd3786"
             ],
             [
              0.5555555555555556,
              "#d8576b"
             ],
             [
              0.6666666666666666,
              "#ed7953"
             ],
             [
              0.7777777777777778,
              "#fb9f3a"
             ],
             [
              0.8888888888888888,
              "#fdca26"
             ],
             [
              1,
              "#f0f921"
             ]
            ],
            "type": "histogram2dcontour"
           }
          ],
          "mesh3d": [
           {
            "colorbar": {
             "outlinewidth": 0,
             "ticks": ""
            },
            "type": "mesh3d"
           }
          ],
          "parcoords": [
           {
            "line": {
             "colorbar": {
              "outlinewidth": 0,
              "ticks": ""
             }
            },
            "type": "parcoords"
           }
          ],
          "pie": [
           {
            "automargin": true,
            "type": "pie"
           }
          ],
          "scatter": [
           {
            "fillpattern": {
             "fillmode": "overlay",
             "size": 10,
             "solidity": 0.2
            },
            "type": "scatter"
           }
          ],
          "scatter3d": [
           {
            "line": {
             "colorbar": {
              "outlinewidth": 0,
              "ticks": ""
             }
            },
            "marker": {
             "colorbar": {
              "outlinewidth": 0,
              "ticks": ""
             }
            },
            "type": "scatter3d"
           }
          ],
          "scattercarpet": [
           {
            "marker": {
             "colorbar": {
              "outlinewidth": 0,
              "ticks": ""
             }
            },
            "type": "scattercarpet"
           }
          ],
          "scattergeo": [
           {
            "marker": {
             "colorbar": {
              "outlinewidth": 0,
              "ticks": ""
             }
            },
            "type": "scattergeo"
           }
          ],
          "scattergl": [
           {
            "marker": {
             "colorbar": {
              "outlinewidth": 0,
              "ticks": ""
             }
            },
            "type": "scattergl"
           }
          ],
          "scattermapbox": [
           {
            "marker": {
             "colorbar": {
              "outlinewidth": 0,
              "ticks": ""
             }
            },
            "type": "scattermapbox"
           }
          ],
          "scatterpolar": [
           {
            "marker": {
             "colorbar": {
              "outlinewidth": 0,
              "ticks": ""
             }
            },
            "type": "scatterpolar"
           }
          ],
          "scatterpolargl": [
           {
            "marker": {
             "colorbar": {
              "outlinewidth": 0,
              "ticks": ""
             }
            },
            "type": "scatterpolargl"
           }
          ],
          "scatterternary": [
           {
            "marker": {
             "colorbar": {
              "outlinewidth": 0,
              "ticks": ""
             }
            },
            "type": "scatterternary"
           }
          ],
          "surface": [
           {
            "colorbar": {
             "outlinewidth": 0,
             "ticks": ""
            },
            "colorscale": [
             [
              0,
              "#0d0887"
             ],
             [
              0.1111111111111111,
              "#46039f"
             ],
             [
              0.2222222222222222,
              "#7201a8"
             ],
             [
              0.3333333333333333,
              "#9c179e"
             ],
             [
              0.4444444444444444,
              "#bd3786"
             ],
             [
              0.5555555555555556,
              "#d8576b"
             ],
             [
              0.6666666666666666,
              "#ed7953"
             ],
             [
              0.7777777777777778,
              "#fb9f3a"
             ],
             [
              0.8888888888888888,
              "#fdca26"
             ],
             [
              1,
              "#f0f921"
             ]
            ],
            "type": "surface"
           }
          ],
          "table": [
           {
            "cells": {
             "fill": {
              "color": "#EBF0F8"
             },
             "line": {
              "color": "white"
             }
            },
            "header": {
             "fill": {
              "color": "#C8D4E3"
             },
             "line": {
              "color": "white"
             }
            },
            "type": "table"
           }
          ]
         },
         "layout": {
          "annotationdefaults": {
           "arrowcolor": "#2a3f5f",
           "arrowhead": 0,
           "arrowwidth": 1
          },
          "autotypenumbers": "strict",
          "coloraxis": {
           "colorbar": {
            "outlinewidth": 0,
            "ticks": ""
           }
          },
          "colorscale": {
           "diverging": [
            [
             0,
             "#8e0152"
            ],
            [
             0.1,
             "#c51b7d"
            ],
            [
             0.2,
             "#de77ae"
            ],
            [
             0.3,
             "#f1b6da"
            ],
            [
             0.4,
             "#fde0ef"
            ],
            [
             0.5,
             "#f7f7f7"
            ],
            [
             0.6,
             "#e6f5d0"
            ],
            [
             0.7,
             "#b8e186"
            ],
            [
             0.8,
             "#7fbc41"
            ],
            [
             0.9,
             "#4d9221"
            ],
            [
             1,
             "#276419"
            ]
           ],
           "sequential": [
            [
             0,
             "#0d0887"
            ],
            [
             0.1111111111111111,
             "#46039f"
            ],
            [
             0.2222222222222222,
             "#7201a8"
            ],
            [
             0.3333333333333333,
             "#9c179e"
            ],
            [
             0.4444444444444444,
             "#bd3786"
            ],
            [
             0.5555555555555556,
             "#d8576b"
            ],
            [
             0.6666666666666666,
             "#ed7953"
            ],
            [
             0.7777777777777778,
             "#fb9f3a"
            ],
            [
             0.8888888888888888,
             "#fdca26"
            ],
            [
             1,
             "#f0f921"
            ]
           ],
           "sequentialminus": [
            [
             0,
             "#0d0887"
            ],
            [
             0.1111111111111111,
             "#46039f"
            ],
            [
             0.2222222222222222,
             "#7201a8"
            ],
            [
             0.3333333333333333,
             "#9c179e"
            ],
            [
             0.4444444444444444,
             "#bd3786"
            ],
            [
             0.5555555555555556,
             "#d8576b"
            ],
            [
             0.6666666666666666,
             "#ed7953"
            ],
            [
             0.7777777777777778,
             "#fb9f3a"
            ],
            [
             0.8888888888888888,
             "#fdca26"
            ],
            [
             1,
             "#f0f921"
            ]
           ]
          },
          "colorway": [
           "#636efa",
           "#EF553B",
           "#00cc96",
           "#ab63fa",
           "#FFA15A",
           "#19d3f3",
           "#FF6692",
           "#B6E880",
           "#FF97FF",
           "#FECB52"
          ],
          "font": {
           "color": "#2a3f5f"
          },
          "geo": {
           "bgcolor": "white",
           "lakecolor": "white",
           "landcolor": "#E5ECF6",
           "showlakes": true,
           "showland": true,
           "subunitcolor": "white"
          },
          "hoverlabel": {
           "align": "left"
          },
          "hovermode": "closest",
          "mapbox": {
           "style": "light"
          },
          "paper_bgcolor": "white",
          "plot_bgcolor": "#E5ECF6",
          "polar": {
           "angularaxis": {
            "gridcolor": "white",
            "linecolor": "white",
            "ticks": ""
           },
           "bgcolor": "#E5ECF6",
           "radialaxis": {
            "gridcolor": "white",
            "linecolor": "white",
            "ticks": ""
           }
          },
          "scene": {
           "xaxis": {
            "backgroundcolor": "#E5ECF6",
            "gridcolor": "white",
            "gridwidth": 2,
            "linecolor": "white",
            "showbackground": true,
            "ticks": "",
            "zerolinecolor": "white"
           },
           "yaxis": {
            "backgroundcolor": "#E5ECF6",
            "gridcolor": "white",
            "gridwidth": 2,
            "linecolor": "white",
            "showbackground": true,
            "ticks": "",
            "zerolinecolor": "white"
           },
           "zaxis": {
            "backgroundcolor": "#E5ECF6",
            "gridcolor": "white",
            "gridwidth": 2,
            "linecolor": "white",
            "showbackground": true,
            "ticks": "",
            "zerolinecolor": "white"
           }
          },
          "shapedefaults": {
           "line": {
            "color": "#2a3f5f"
           }
          },
          "ternary": {
           "aaxis": {
            "gridcolor": "white",
            "linecolor": "white",
            "ticks": ""
           },
           "baxis": {
            "gridcolor": "white",
            "linecolor": "white",
            "ticks": ""
           },
           "bgcolor": "#E5ECF6",
           "caxis": {
            "gridcolor": "white",
            "linecolor": "white",
            "ticks": ""
           }
          },
          "title": {
           "x": 0.05
          },
          "xaxis": {
           "automargin": true,
           "gridcolor": "white",
           "linecolor": "white",
           "ticks": "",
           "title": {
            "standoff": 15
           },
           "zerolinecolor": "white",
           "zerolinewidth": 2
          },
          "yaxis": {
           "automargin": true,
           "gridcolor": "white",
           "linecolor": "white",
           "ticks": "",
           "title": {
            "standoff": 15
           },
           "zerolinecolor": "white",
           "zerolinewidth": 2
          }
         }
        },
        "title": {
         "text": "Store's orders count by months"
        },
        "xaxis": {
         "anchor": "y",
         "domain": [
          0,
          1
         ],
         "title": {
          "text": "month"
         }
        },
        "yaxis": {
         "anchor": "x",
         "domain": [
          0,
          1
         ],
         "title": {
          "text": "orders_count"
         }
        }
       }
      },
      "text/html": [
       "<div>                            <div id=\"7a3bd339-752d-489a-84a7-18be9b4f6e35\" class=\"plotly-graph-div\" style=\"height:525px; width:100%;\"></div>            <script type=\"text/javascript\">                require([\"plotly\"], function(Plotly) {                    window.PLOTLYENV=window.PLOTLYENV || {};                                    if (document.getElementById(\"7a3bd339-752d-489a-84a7-18be9b4f6e35\")) {                    Plotly.newPlot(                        \"7a3bd339-752d-489a-84a7-18be9b4f6e35\",                        [{\"customdata\":[[40495453.27451934,14460097.75264535,14650.55],[74652948.04771125,25041627.582198363,13049.31],[76541651.05785595,25796202.441825364,13201.74],[74382831.32825424,24525743.292597413,12525.92],[62308818.1423417,20639103.76230183,11693.54],[73929056.3471301,24275253.369498428,12823.69],[67833081.38986987,22031265.0928559,11356.32],[73015717.70997931,24490684.83227122,12559.33],[75924906.03524005,25892274.842800427,13943.07],[65932053.6667954,21394280.071453586,11207.06],[69011626.0370694,22134077.285814285,11552.23],[71011945.6239286,23846962.066574097,12179.25],[29487870.355819825,9381966.682522085,11455.39]],\"hovertemplate\":\"store_name=Afimoll\\u003cbr\\u003emonth=%{x}\\u003cbr\\u003eorders_count=%{y:,}\\u003cbr\\u003etotal_orders_price=%{customdata[0]:,.2f}\\u003cbr\\u003etotal_orders_revenue=%{customdata[1]:,.2f}\\u003cbr\\u003eAOV=%{customdata[2]:,}\\u003cextra\\u003e\\u003c\\u002fextra\\u003e\",\"legendgroup\":\"Afimoll\",\"line\":{\"color\":\"#636efa\",\"dash\":\"solid\"},\"marker\":{\"symbol\":\"circle\"},\"mode\":\"lines\",\"name\":\"Afimoll\",\"orientation\":\"v\",\"showlegend\":true,\"x\":[\"2022-10-01T00:00:00\",\"2022-11-01T00:00:00\",\"2022-12-01T00:00:00\",\"2023-01-01T00:00:00\",\"2023-02-01T00:00:00\",\"2023-03-01T00:00:00\",\"2023-04-01T00:00:00\",\"2023-05-01T00:00:00\",\"2023-06-01T00:00:00\",\"2023-07-01T00:00:00\",\"2023-08-01T00:00:00\",\"2023-09-01T00:00:00\",\"2023-10-01T00:00:00\"],\"xaxis\":\"x\",\"y\":[987,1919,1954,1958,1765,1893,1940,1950,1857,1909,1916,1958,819],\"yaxis\":\"y\",\"type\":\"scatter\"},{\"customdata\":[[105542439.24000275,35775795.07033415,12201.84],[249575444.4320614,83376917.10435086,12675.12],[257679832.6520927,86904196.55326195,12161.24],[248231328.6942052,84187001.6195992,12313.44],[262862461.3005931,87931025.41893935,12417.88],[252217259.10369813,84157557.68488471,12163.25],[266774554.29533818,90351322.69624646,12507.1],[264770757.51907578,87603829.96538536,12025.23],[254160520.46038926,85045834.98651871,12073.51],[122775482.34224246,42472875.861251846,13449.3]],\"hovertemplate\":\"store_name=Aviapark\\u003cbr\\u003emonth=%{x}\\u003cbr\\u003eorders_count=%{y:,}\\u003cbr\\u003etotal_orders_price=%{customdata[0]:,.2f}\\u003cbr\\u003etotal_orders_revenue=%{customdata[1]:,.2f}\\u003cbr\\u003eAOV=%{customdata[2]:,}\\u003cextra\\u003e\\u003c\\u002fextra\\u003e\",\"legendgroup\":\"Aviapark\",\"line\":{\"color\":\"#EF553B\",\"dash\":\"solid\"},\"marker\":{\"symbol\":\"circle\"},\"mode\":\"lines\",\"name\":\"Aviapark\",\"orientation\":\"v\",\"showlegend\":true,\"x\":[\"2023-01-01T00:00:00\",\"2023-02-01T00:00:00\",\"2023-03-01T00:00:00\",\"2023-04-01T00:00:00\",\"2023-05-01T00:00:00\",\"2023-06-01T00:00:00\",\"2023-07-01T00:00:00\",\"2023-08-01T00:00:00\",\"2023-09-01T00:00:00\",\"2023-10-01T00:00:00\"],\"xaxis\":\"x\",\"y\":[2932,6578,7146,6837,7081,6919,7224,7285,7044,3158],\"yaxis\":\"y\",\"type\":\"scatter\"},{\"customdata\":[[297737028.651215,100368554.68751858,12987.65],[351796921.674974,117496928.7405991,12440.12],[359833464.7118329,122923694.6664741,13409.37],[368467483.3781216,123889225.4699631,12902.44],[343616813.72211105,114180542.9039856,12126.23],[347684686.53347874,112067963.79461923,12056.8],[149984810.6451769,51449530.416133255,12515.09]],\"hovertemplate\":\"store_name=Evropeisky\\u003cbr\\u003emonth=%{x}\\u003cbr\\u003eorders_count=%{y:,}\\u003cbr\\u003etotal_orders_price=%{customdata[0]:,.2f}\\u003cbr\\u003etotal_orders_revenue=%{customdata[1]:,.2f}\\u003cbr\\u003eAOV=%{customdata[2]:,}\\u003cextra\\u003e\\u003c\\u002fextra\\u003e\",\"legendgroup\":\"Evropeisky\",\"line\":{\"color\":\"#00cc96\",\"dash\":\"solid\"},\"marker\":{\"symbol\":\"circle\"},\"mode\":\"lines\",\"name\":\"Evropeisky\",\"orientation\":\"v\",\"showlegend\":true,\"x\":[\"2023-04-01T00:00:00\",\"2023-05-01T00:00:00\",\"2023-06-01T00:00:00\",\"2023-07-01T00:00:00\",\"2023-08-01T00:00:00\",\"2023-09-01T00:00:00\",\"2023-10-01T00:00:00\"],\"xaxis\":\"x\",\"y\":[7728,9445,9167,9602,9416,9295,4111],\"yaxis\":\"y\",\"type\":\"scatter\"},{\"customdata\":[[30662715.240862593,10171579.597018342,11938.47],[87307541.30204108,28227865.524137966,11219.34],[91248616.87395312,29318657.825127956,11088.75],[92623462.65751192,30974306.824018944,12056.95],[87981863.72238216,30274205.728461742,12499.67],[101861324.30794658,36105166.617842905,13313.11],[87514912.71655339,30445110.867197245,11934.58],[102109388.41220997,33102621.604826197,12986.51],[93961036.31328663,31772855.985067714,12122.42],[93415775.05150208,30659955.80721656,12690.38],[92910776.87405345,30988918.416199133,11636.85],[95653068.0807607,31839153.05052114,12403.25],[99726389.00726676,34054827.150401086,13199.55],[86325244.87394144,28839769.045519717,11863.34],[98044634.55018224,32179978.855817735,12240.39],[91933093.13999781,30629730.36359619,11726.54],[79388264.39368817,26937362.633853573,11012.82],[43709982.95127659,14750470.209702782,13902.42]],\"hovertemplate\":\"store_name=Evropolis\\u003cbr\\u003emonth=%{x}\\u003cbr\\u003eorders_count=%{y:,}\\u003cbr\\u003etotal_orders_price=%{customdata[0]:,.2f}\\u003cbr\\u003etotal_orders_revenue=%{customdata[1]:,.2f}\\u003cbr\\u003eAOV=%{customdata[2]:,}\\u003cextra\\u003e\\u003c\\u002fextra\\u003e\",\"legendgroup\":\"Evropolis\",\"line\":{\"color\":\"#ab63fa\",\"dash\":\"solid\"},\"marker\":{\"symbol\":\"circle\"},\"mode\":\"lines\",\"name\":\"Evropolis\",\"orientation\":\"v\",\"showlegend\":true,\"x\":[\"2022-05-01T00:00:00\",\"2022-06-01T00:00:00\",\"2022-07-01T00:00:00\",\"2022-08-01T00:00:00\",\"2022-09-01T00:00:00\",\"2022-10-01T00:00:00\",\"2022-11-01T00:00:00\",\"2022-12-01T00:00:00\",\"2023-01-01T00:00:00\",\"2023-02-01T00:00:00\",\"2023-03-01T00:00:00\",\"2023-04-01T00:00:00\",\"2023-05-01T00:00:00\",\"2023-06-01T00:00:00\",\"2023-07-01T00:00:00\",\"2023-08-01T00:00:00\",\"2023-09-01T00:00:00\",\"2023-10-01T00:00:00\"],\"xaxis\":\"x\",\"y\":[852,2516,2644,2569,2422,2712,2551,2549,2621,2416,2663,2567,2580,2431,2629,2612,2446,1061],\"yaxis\":\"y\",\"type\":\"scatter\"},{\"customdata\":[[215166053.76013368,71514114.13360538,12537.54],[260677274.25812057,86001797.95190437,12794.08],[244175456.67330694,80815685.58175026,11900.41],[234540896.33010834,77628229.69390559,11434.41],[242732328.77103546,84040919.75196317,12509.81],[98438285.24572769,32312996.25744597,11495.2]],\"hovertemplate\":\"store_name=Galereia\\u003cbr\\u003emonth=%{x}\\u003cbr\\u003eorders_count=%{y:,}\\u003cbr\\u003etotal_orders_price=%{customdata[0]:,.2f}\\u003cbr\\u003etotal_orders_revenue=%{customdata[1]:,.2f}\\u003cbr\\u003eAOV=%{customdata[2]:,}\\u003cextra\\u003e\\u003c\\u002fextra\\u003e\",\"legendgroup\":\"Galereia\",\"line\":{\"color\":\"#FFA15A\",\"dash\":\"solid\"},\"marker\":{\"symbol\":\"circle\"},\"mode\":\"lines\",\"name\":\"Galereia\",\"orientation\":\"v\",\"showlegend\":true,\"x\":[\"2023-05-01T00:00:00\",\"2023-06-01T00:00:00\",\"2023-07-01T00:00:00\",\"2023-08-01T00:00:00\",\"2023-09-01T00:00:00\",\"2023-10-01T00:00:00\"],\"xaxis\":\"x\",\"y\":[5704,6722,6791,6789,6718,2811],\"yaxis\":\"y\",\"type\":\"scatter\"},{\"customdata\":[[1340295235.6508744,445429146.45408046,12399.9],[1752293644.308949,585992440.8661189,12084.06],[739442300.4360099,246608102.11489096,12164.96]],\"hovertemplate\":\"store_name=Grinvich\\u003cbr\\u003emonth=%{x}\\u003cbr\\u003eorders_count=%{y:,}\\u003cbr\\u003etotal_orders_price=%{customdata[0]:,.2f}\\u003cbr\\u003etotal_orders_revenue=%{customdata[1]:,.2f}\\u003cbr\\u003eAOV=%{customdata[2]:,}\\u003cextra\\u003e\\u003c\\u002fextra\\u003e\",\"legendgroup\":\"Grinvich\",\"line\":{\"color\":\"#19d3f3\",\"dash\":\"solid\"},\"marker\":{\"symbol\":\"circle\"},\"mode\":\"lines\",\"name\":\"Grinvich\",\"orientation\":\"v\",\"showlegend\":true,\"x\":[\"2023-08-01T00:00:00\",\"2023-09-01T00:00:00\",\"2023-10-01T00:00:00\"],\"xaxis\":\"x\",\"y\":[35922,48493,20272],\"yaxis\":\"y\",\"type\":\"scatter\"},{\"customdata\":[[451238194.7910986,149336927.9472481,12126.43],[443372903.2721732,150321025.5825468,12010.31]],\"hovertemplate\":\"store_name=Kapitoliy Vernadskogo\\u003cbr\\u003emonth=%{x}\\u003cbr\\u003eorders_count=%{y:,}\\u003cbr\\u003etotal_orders_price=%{customdata[0]:,.2f}\\u003cbr\\u003etotal_orders_revenue=%{customdata[1]:,.2f}\\u003cbr\\u003eAOV=%{customdata[2]:,}\\u003cextra\\u003e\\u003c\\u002fextra\\u003e\",\"legendgroup\":\"Kapitoliy Vernadskogo\",\"line\":{\"color\":\"#FF6692\",\"dash\":\"solid\"},\"marker\":{\"symbol\":\"circle\"},\"mode\":\"lines\",\"name\":\"Kapitoliy Vernadskogo\",\"orientation\":\"v\",\"showlegend\":true,\"x\":[\"2023-09-01T00:00:00\",\"2023-10-01T00:00:00\"],\"xaxis\":\"x\",\"y\":[12315,12516],\"yaxis\":\"y\",\"type\":\"scatter\"},{\"customdata\":[[79490823.19370349,26437424.046503164,11221.32],[148083613.44985557,48480891.22419626,12450.15],[140382189.279039,48563975.491399504,12713.08],[147253949.3780735,49006719.8484273,12940.78],[137832159.3182721,47070331.09104712,12210.2],[133984527.18240389,44501367.26312409,12004.68],[141130844.47353154,47044705.08403934,12347.69],[138202356.28541926,46825442.69694054,12601.03],[153513286.42817706,52731088.98758867,13292.43],[139549672.07118517,46557629.78558081,12465.23],[113491696.86352433,38160245.86892251,11253.39],[135148240.5791103,44962651.01792846,11961.33],[134926088.33064765,44803245.26672515,12184.73],[143349432.93535593,49734613.72607543,13084.61],[132996426.43005037,44546586.99515231,11920.41],[141385986.2006513,46471388.804398276,11867.06],[139980292.69743028,45426065.30859888,11632.8],[131301138.53557679,44441564.54516353,12212.58],[54034794.00734232,17923155.81741467,11760.6]],\"hovertemplate\":\"store_name=Kapitoly Belyaevo\\u003cbr\\u003emonth=%{x}\\u003cbr\\u003eorders_count=%{y:,}\\u003cbr\\u003etotal_orders_price=%{customdata[0]:,.2f}\\u003cbr\\u003etotal_orders_revenue=%{customdata[1]:,.2f}\\u003cbr\\u003eAOV=%{customdata[2]:,}\\u003cextra\\u003e\\u003c\\u002fextra\\u003e\",\"legendgroup\":\"Kapitoly Belyaevo\",\"line\":{\"color\":\"#B6E880\",\"dash\":\"solid\"},\"marker\":{\"symbol\":\"circle\"},\"mode\":\"lines\",\"name\":\"Kapitoly Belyaevo\",\"orientation\":\"v\",\"showlegend\":true,\"x\":[\"2022-04-01T00:00:00\",\"2022-05-01T00:00:00\",\"2022-06-01T00:00:00\",\"2022-07-01T00:00:00\",\"2022-08-01T00:00:00\",\"2022-09-01T00:00:00\",\"2022-10-01T00:00:00\",\"2022-11-01T00:00:00\",\"2022-12-01T00:00:00\",\"2023-01-01T00:00:00\",\"2023-02-01T00:00:00\",\"2023-03-01T00:00:00\",\"2023-04-01T00:00:00\",\"2023-05-01T00:00:00\",\"2023-06-01T00:00:00\",\"2023-07-01T00:00:00\",\"2023-08-01T00:00:00\",\"2023-09-01T00:00:00\",\"2023-10-01T00:00:00\"],\"xaxis\":\"x\",\"y\":[2356,3894,3820,3787,3855,3707,3810,3716,3967,3735,3391,3759,3677,3801,3737,3916,3905,3639,1524],\"yaxis\":\"y\",\"type\":\"scatter\"},{\"customdata\":[[115553153.51430526,38394830.16882239,13345.44],[161242887.78864264,54255186.919463046,11660.26],[167111284.51859042,55652679.77108816,12770.23],[161710339.14238855,54188465.84280042,12090.24],[163451036.65481782,56135683.06005439,12521.9],[154985296.57294336,53115259.18687742,13002.51],[171449475.82218865,57670711.65318232,12764.66],[154634585.92694804,51457622.70255547,11610.47],[163532037.41569677,55430708.31067823,12089.58],[149402441.1225721,50395402.71892472,11432.71],[160770427.3788916,53657358.413797066,11644.39],[169677457.26223284,57356535.665878385,12658.69],[161284200.9521746,52941321.26954881,11796.19],[58891695.937073834,19683515.2527866,10289.34]],\"hovertemplate\":\"store_name=Koltso\\u003cbr\\u003emonth=%{x}\\u003cbr\\u003eorders_count=%{y:,}\\u003cbr\\u003etotal_orders_price=%{customdata[0]:,.2f}\\u003cbr\\u003etotal_orders_revenue=%{customdata[1]:,.2f}\\u003cbr\\u003eAOV=%{customdata[2]:,}\\u003cextra\\u003e\\u003c\\u002fextra\\u003e\",\"legendgroup\":\"Koltso\",\"line\":{\"color\":\"#FF97FF\",\"dash\":\"solid\"},\"marker\":{\"symbol\":\"circle\"},\"mode\":\"lines\",\"name\":\"Koltso\",\"orientation\":\"v\",\"showlegend\":true,\"x\":[\"2022-09-01T00:00:00\",\"2022-10-01T00:00:00\",\"2022-11-01T00:00:00\",\"2022-12-01T00:00:00\",\"2023-01-01T00:00:00\",\"2023-02-01T00:00:00\",\"2023-03-01T00:00:00\",\"2023-04-01T00:00:00\",\"2023-05-01T00:00:00\",\"2023-06-01T00:00:00\",\"2023-07-01T00:00:00\",\"2023-08-01T00:00:00\",\"2023-09-01T00:00:00\",\"2023-10-01T00:00:00\"],\"xaxis\":\"x\",\"y\":[2877,4653,4358,4482,4483,4085,4518,4432,4585,4408,4608,4531,4488,1913],\"yaxis\":\"y\",\"type\":\"scatter\"},{\"customdata\":[[151048993.58587623,50915092.78236892,13926.45]],\"hovertemplate\":\"store_name=Muravei\\u003cbr\\u003emonth=%{x}\\u003cbr\\u003eorders_count=%{y:,}\\u003cbr\\u003etotal_orders_price=%{customdata[0]:,.2f}\\u003cbr\\u003etotal_orders_revenue=%{customdata[1]:,.2f}\\u003cbr\\u003eAOV=%{customdata[2]:,}\\u003cextra\\u003e\\u003c\\u002fextra\\u003e\",\"legendgroup\":\"Muravei\",\"line\":{\"color\":\"#FECB52\",\"dash\":\"solid\"},\"marker\":{\"symbol\":\"circle\"},\"mode\":\"lines\",\"name\":\"Muravei\",\"orientation\":\"v\",\"showlegend\":true,\"x\":[\"2023-10-01T00:00:00\"],\"xaxis\":\"x\",\"y\":[3656],\"yaxis\":\"y\",\"type\":\"scatter\"},{\"customdata\":[[69154577.90975322,22662264.038150422,11778.72],[114994943.50465615,38876642.35959231,13063.39],[130635510.767066,42989681.07743207,12948.7],[121366962.56464179,41261435.38937864,12225.61],[123674025.53203297,43657161.03974074,13043.67],[128592563.0780739,40646271.65461814,12634.84],[129401940.52836965,42776305.03695472,12681.98],[122963458.46384871,43024882.157067575,12870.14],[119813852.95218216,40419797.34876827,12525.5],[139462485.7653355,45834838.742623664,13839.02],[117029512.67282164,38412924.62616104,12121.47],[114194615.36675106,37718015.58803298,11677.4],[127943710.73158571,42440767.846024126,12710.62],[109921293.32933693,36263014.28665379,11928.62],[128925510.38314576,43354805.68883565,13015.55],[127076566.5317763,43620683.80037616,13509.04],[119827200.74367358,41005579.60527351,12277.12],[112386405.07951602,38029123.14597889,11817.63],[120104129.8388087,39614037.315450534,11678.67],[119702173.11022681,39313568.29344038,11745.91],[117309789.90008646,39607973.275723524,11887.15],[49555642.287676476,16480492.757340418,12344.94]],\"hovertemplate\":\"store_name=Rio Leninsky\\u003cbr\\u003emonth=%{x}\\u003cbr\\u003eorders_count=%{y:,}\\u003cbr\\u003etotal_orders_price=%{customdata[0]:,.2f}\\u003cbr\\u003etotal_orders_revenue=%{customdata[1]:,.2f}\\u003cbr\\u003eAOV=%{customdata[2]:,}\\u003cextra\\u003e\\u003c\\u002fextra\\u003e\",\"legendgroup\":\"Rio Leninsky\",\"line\":{\"color\":\"#636efa\",\"dash\":\"solid\"},\"marker\":{\"symbol\":\"circle\"},\"mode\":\"lines\",\"name\":\"Rio Leninsky\",\"orientation\":\"v\",\"showlegend\":true,\"x\":[\"2022-01-01T00:00:00\",\"2022-02-01T00:00:00\",\"2022-03-01T00:00:00\",\"2022-04-01T00:00:00\",\"2022-05-01T00:00:00\",\"2022-06-01T00:00:00\",\"2022-07-01T00:00:00\",\"2022-08-01T00:00:00\",\"2022-09-01T00:00:00\",\"2022-10-01T00:00:00\",\"2022-11-01T00:00:00\",\"2022-12-01T00:00:00\",\"2023-01-01T00:00:00\",\"2023-02-01T00:00:00\",\"2023-03-01T00:00:00\",\"2023-04-01T00:00:00\",\"2023-05-01T00:00:00\",\"2023-06-01T00:00:00\",\"2023-07-01T00:00:00\",\"2023-08-01T00:00:00\",\"2023-09-01T00:00:00\",\"2023-10-01T00:00:00\"],\"xaxis\":\"x\",\"y\":[1924,2976,3320,3375,3347,3217,3373,3343,3227,3312,3169,3230,3339,3040,3331,3229,3340,3218,3392,3347,3332,1335],\"yaxis\":\"y\",\"type\":\"scatter\"},{\"customdata\":[[119098923.52174918,41777595.52608351,14406.07],[146975778.02309105,48835409.72018102,12730.82],[130110835.52803904,43916658.68112952,11956.62],[144137616.3801356,47156592.67198175,12051.26],[126739754.30633667,41453066.43450242,10998.43],[134635226.6416673,44895211.58870279,11927.53],[147994859.7413342,48486880.79198846,12397.57],[139413547.1635449,45849402.910751656,11983.64],[53885702.35437357,17770144.741082046,11232.71]],\"hovertemplate\":\"store_name=Sedmoe Nebo\\u003cbr\\u003emonth=%{x}\\u003cbr\\u003eorders_count=%{y:,}\\u003cbr\\u003etotal_orders_price=%{customdata[0]:,.2f}\\u003cbr\\u003etotal_orders_revenue=%{customdata[1]:,.2f}\\u003cbr\\u003eAOV=%{customdata[2]:,}\\u003cextra\\u003e\\u003c\\u002fextra\\u003e\",\"legendgroup\":\"Sedmoe Nebo\",\"line\":{\"color\":\"#EF553B\",\"dash\":\"solid\"},\"marker\":{\"symbol\":\"circle\"},\"mode\":\"lines\",\"name\":\"Sedmoe Nebo\",\"orientation\":\"v\",\"showlegend\":true,\"x\":[\"2023-02-01T00:00:00\",\"2023-03-01T00:00:00\",\"2023-04-01T00:00:00\",\"2023-05-01T00:00:00\",\"2023-06-01T00:00:00\",\"2023-07-01T00:00:00\",\"2023-08-01T00:00:00\",\"2023-09-01T00:00:00\",\"2023-10-01T00:00:00\"],\"xaxis\":\"x\",\"y\":[2900,3836,3673,3913,3769,3764,3911,3826,1582],\"yaxis\":\"y\",\"type\":\"scatter\"},{\"customdata\":[[26060253.649750624,8790768.034769876,9452.44],[187700168.65501156,61729707.86146892,12216.45],[173474916.18017063,56917689.99677386,11601.65],[177394513.3869797,58439406.28268942,12074.26],[73284462.26107685,24822960.19784514,12374.36]],\"hovertemplate\":\"store_name=Tsvetnoy\\u003cbr\\u003emonth=%{x}\\u003cbr\\u003eorders_count=%{y:,}\\u003cbr\\u003etotal_orders_price=%{customdata[0]:,.2f}\\u003cbr\\u003etotal_orders_revenue=%{customdata[1]:,.2f}\\u003cbr\\u003eAOV=%{customdata[2]:,}\\u003cextra\\u003e\\u003c\\u002fextra\\u003e\",\"legendgroup\":\"Tsvetnoy\",\"line\":{\"color\":\"#00cc96\",\"dash\":\"solid\"},\"marker\":{\"symbol\":\"circle\"},\"mode\":\"lines\",\"name\":\"Tsvetnoy\",\"orientation\":\"v\",\"showlegend\":true,\"x\":[\"2023-06-01T00:00:00\",\"2023-07-01T00:00:00\",\"2023-08-01T00:00:00\",\"2023-09-01T00:00:00\",\"2023-10-01T00:00:00\"],\"xaxis\":\"x\",\"y\":[930,5053,4906,4840,2006],\"yaxis\":\"y\",\"type\":\"scatter\"}],                        {\"template\":{\"data\":{\"histogram2dcontour\":[{\"type\":\"histogram2dcontour\",\"colorbar\":{\"outlinewidth\":0,\"ticks\":\"\"},\"colorscale\":[[0.0,\"#0d0887\"],[0.1111111111111111,\"#46039f\"],[0.2222222222222222,\"#7201a8\"],[0.3333333333333333,\"#9c179e\"],[0.4444444444444444,\"#bd3786\"],[0.5555555555555556,\"#d8576b\"],[0.6666666666666666,\"#ed7953\"],[0.7777777777777778,\"#fb9f3a\"],[0.8888888888888888,\"#fdca26\"],[1.0,\"#f0f921\"]]}],\"choropleth\":[{\"type\":\"choropleth\",\"colorbar\":{\"outlinewidth\":0,\"ticks\":\"\"}}],\"histogram2d\":[{\"type\":\"histogram2d\",\"colorbar\":{\"outlinewidth\":0,\"ticks\":\"\"},\"colorscale\":[[0.0,\"#0d0887\"],[0.1111111111111111,\"#46039f\"],[0.2222222222222222,\"#7201a8\"],[0.3333333333333333,\"#9c179e\"],[0.4444444444444444,\"#bd3786\"],[0.5555555555555556,\"#d8576b\"],[0.6666666666666666,\"#ed7953\"],[0.7777777777777778,\"#fb9f3a\"],[0.8888888888888888,\"#fdca26\"],[1.0,\"#f0f921\"]]}],\"heatmap\":[{\"type\":\"heatmap\",\"colorbar\":{\"outlinewidth\":0,\"ticks\":\"\"},\"colorscale\":[[0.0,\"#0d0887\"],[0.1111111111111111,\"#46039f\"],[0.2222222222222222,\"#7201a8\"],[0.3333333333333333,\"#9c179e\"],[0.4444444444444444,\"#bd3786\"],[0.5555555555555556,\"#d8576b\"],[0.6666666666666666,\"#ed7953\"],[0.7777777777777778,\"#fb9f3a\"],[0.8888888888888888,\"#fdca26\"],[1.0,\"#f0f921\"]]}],\"heatmapgl\":[{\"type\":\"heatmapgl\",\"colorbar\":{\"outlinewidth\":0,\"ticks\":\"\"},\"colorscale\":[[0.0,\"#0d0887\"],[0.1111111111111111,\"#46039f\"],[0.2222222222222222,\"#7201a8\"],[0.3333333333333333,\"#9c179e\"],[0.4444444444444444,\"#bd3786\"],[0.5555555555555556,\"#d8576b\"],[0.6666666666666666,\"#ed7953\"],[0.7777777777777778,\"#fb9f3a\"],[0.8888888888888888,\"#fdca26\"],[1.0,\"#f0f921\"]]}],\"contourcarpet\":[{\"type\":\"contourcarpet\",\"colorbar\":{\"outlinewidth\":0,\"ticks\":\"\"}}],\"contour\":[{\"type\":\"contour\",\"colorbar\":{\"outlinewidth\":0,\"ticks\":\"\"},\"colorscale\":[[0.0,\"#0d0887\"],[0.1111111111111111,\"#46039f\"],[0.2222222222222222,\"#7201a8\"],[0.3333333333333333,\"#9c179e\"],[0.4444444444444444,\"#bd3786\"],[0.5555555555555556,\"#d8576b\"],[0.6666666666666666,\"#ed7953\"],[0.7777777777777778,\"#fb9f3a\"],[0.8888888888888888,\"#fdca26\"],[1.0,\"#f0f921\"]]}],\"surface\":[{\"type\":\"surface\",\"colorbar\":{\"outlinewidth\":0,\"ticks\":\"\"},\"colorscale\":[[0.0,\"#0d0887\"],[0.1111111111111111,\"#46039f\"],[0.2222222222222222,\"#7201a8\"],[0.3333333333333333,\"#9c179e\"],[0.4444444444444444,\"#bd3786\"],[0.5555555555555556,\"#d8576b\"],[0.6666666666666666,\"#ed7953\"],[0.7777777777777778,\"#fb9f3a\"],[0.8888888888888888,\"#fdca26\"],[1.0,\"#f0f921\"]]}],\"mesh3d\":[{\"type\":\"mesh3d\",\"colorbar\":{\"outlinewidth\":0,\"ticks\":\"\"}}],\"scatter\":[{\"fillpattern\":{\"fillmode\":\"overlay\",\"size\":10,\"solidity\":0.2},\"type\":\"scatter\"}],\"parcoords\":[{\"type\":\"parcoords\",\"line\":{\"colorbar\":{\"outlinewidth\":0,\"ticks\":\"\"}}}],\"scatterpolargl\":[{\"type\":\"scatterpolargl\",\"marker\":{\"colorbar\":{\"outlinewidth\":0,\"ticks\":\"\"}}}],\"bar\":[{\"error_x\":{\"color\":\"#2a3f5f\"},\"error_y\":{\"color\":\"#2a3f5f\"},\"marker\":{\"line\":{\"color\":\"#E5ECF6\",\"width\":0.5},\"pattern\":{\"fillmode\":\"overlay\",\"size\":10,\"solidity\":0.2}},\"type\":\"bar\"}],\"scattergeo\":[{\"type\":\"scattergeo\",\"marker\":{\"colorbar\":{\"outlinewidth\":0,\"ticks\":\"\"}}}],\"scatterpolar\":[{\"type\":\"scatterpolar\",\"marker\":{\"colorbar\":{\"outlinewidth\":0,\"ticks\":\"\"}}}],\"histogram\":[{\"marker\":{\"pattern\":{\"fillmode\":\"overlay\",\"size\":10,\"solidity\":0.2}},\"type\":\"histogram\"}],\"scattergl\":[{\"type\":\"scattergl\",\"marker\":{\"colorbar\":{\"outlinewidth\":0,\"ticks\":\"\"}}}],\"scatter3d\":[{\"type\":\"scatter3d\",\"line\":{\"colorbar\":{\"outlinewidth\":0,\"ticks\":\"\"}},\"marker\":{\"colorbar\":{\"outlinewidth\":0,\"ticks\":\"\"}}}],\"scattermapbox\":[{\"type\":\"scattermapbox\",\"marker\":{\"colorbar\":{\"outlinewidth\":0,\"ticks\":\"\"}}}],\"scatterternary\":[{\"type\":\"scatterternary\",\"marker\":{\"colorbar\":{\"outlinewidth\":0,\"ticks\":\"\"}}}],\"scattercarpet\":[{\"type\":\"scattercarpet\",\"marker\":{\"colorbar\":{\"outlinewidth\":0,\"ticks\":\"\"}}}],\"carpet\":[{\"aaxis\":{\"endlinecolor\":\"#2a3f5f\",\"gridcolor\":\"white\",\"linecolor\":\"white\",\"minorgridcolor\":\"white\",\"startlinecolor\":\"#2a3f5f\"},\"baxis\":{\"endlinecolor\":\"#2a3f5f\",\"gridcolor\":\"white\",\"linecolor\":\"white\",\"minorgridcolor\":\"white\",\"startlinecolor\":\"#2a3f5f\"},\"type\":\"carpet\"}],\"table\":[{\"cells\":{\"fill\":{\"color\":\"#EBF0F8\"},\"line\":{\"color\":\"white\"}},\"header\":{\"fill\":{\"color\":\"#C8D4E3\"},\"line\":{\"color\":\"white\"}},\"type\":\"table\"}],\"barpolar\":[{\"marker\":{\"line\":{\"color\":\"#E5ECF6\",\"width\":0.5},\"pattern\":{\"fillmode\":\"overlay\",\"size\":10,\"solidity\":0.2}},\"type\":\"barpolar\"}],\"pie\":[{\"automargin\":true,\"type\":\"pie\"}]},\"layout\":{\"autotypenumbers\":\"strict\",\"colorway\":[\"#636efa\",\"#EF553B\",\"#00cc96\",\"#ab63fa\",\"#FFA15A\",\"#19d3f3\",\"#FF6692\",\"#B6E880\",\"#FF97FF\",\"#FECB52\"],\"font\":{\"color\":\"#2a3f5f\"},\"hovermode\":\"closest\",\"hoverlabel\":{\"align\":\"left\"},\"paper_bgcolor\":\"white\",\"plot_bgcolor\":\"#E5ECF6\",\"polar\":{\"bgcolor\":\"#E5ECF6\",\"angularaxis\":{\"gridcolor\":\"white\",\"linecolor\":\"white\",\"ticks\":\"\"},\"radialaxis\":{\"gridcolor\":\"white\",\"linecolor\":\"white\",\"ticks\":\"\"}},\"ternary\":{\"bgcolor\":\"#E5ECF6\",\"aaxis\":{\"gridcolor\":\"white\",\"linecolor\":\"white\",\"ticks\":\"\"},\"baxis\":{\"gridcolor\":\"white\",\"linecolor\":\"white\",\"ticks\":\"\"},\"caxis\":{\"gridcolor\":\"white\",\"linecolor\":\"white\",\"ticks\":\"\"}},\"coloraxis\":{\"colorbar\":{\"outlinewidth\":0,\"ticks\":\"\"}},\"colorscale\":{\"sequential\":[[0.0,\"#0d0887\"],[0.1111111111111111,\"#46039f\"],[0.2222222222222222,\"#7201a8\"],[0.3333333333333333,\"#9c179e\"],[0.4444444444444444,\"#bd3786\"],[0.5555555555555556,\"#d8576b\"],[0.6666666666666666,\"#ed7953\"],[0.7777777777777778,\"#fb9f3a\"],[0.8888888888888888,\"#fdca26\"],[1.0,\"#f0f921\"]],\"sequentialminus\":[[0.0,\"#0d0887\"],[0.1111111111111111,\"#46039f\"],[0.2222222222222222,\"#7201a8\"],[0.3333333333333333,\"#9c179e\"],[0.4444444444444444,\"#bd3786\"],[0.5555555555555556,\"#d8576b\"],[0.6666666666666666,\"#ed7953\"],[0.7777777777777778,\"#fb9f3a\"],[0.8888888888888888,\"#fdca26\"],[1.0,\"#f0f921\"]],\"diverging\":[[0,\"#8e0152\"],[0.1,\"#c51b7d\"],[0.2,\"#de77ae\"],[0.3,\"#f1b6da\"],[0.4,\"#fde0ef\"],[0.5,\"#f7f7f7\"],[0.6,\"#e6f5d0\"],[0.7,\"#b8e186\"],[0.8,\"#7fbc41\"],[0.9,\"#4d9221\"],[1,\"#276419\"]]},\"xaxis\":{\"gridcolor\":\"white\",\"linecolor\":\"white\",\"ticks\":\"\",\"title\":{\"standoff\":15},\"zerolinecolor\":\"white\",\"automargin\":true,\"zerolinewidth\":2},\"yaxis\":{\"gridcolor\":\"white\",\"linecolor\":\"white\",\"ticks\":\"\",\"title\":{\"standoff\":15},\"zerolinecolor\":\"white\",\"automargin\":true,\"zerolinewidth\":2},\"scene\":{\"xaxis\":{\"backgroundcolor\":\"#E5ECF6\",\"gridcolor\":\"white\",\"linecolor\":\"white\",\"showbackground\":true,\"ticks\":\"\",\"zerolinecolor\":\"white\",\"gridwidth\":2},\"yaxis\":{\"backgroundcolor\":\"#E5ECF6\",\"gridcolor\":\"white\",\"linecolor\":\"white\",\"showbackground\":true,\"ticks\":\"\",\"zerolinecolor\":\"white\",\"gridwidth\":2},\"zaxis\":{\"backgroundcolor\":\"#E5ECF6\",\"gridcolor\":\"white\",\"linecolor\":\"white\",\"showbackground\":true,\"ticks\":\"\",\"zerolinecolor\":\"white\",\"gridwidth\":2}},\"shapedefaults\":{\"line\":{\"color\":\"#2a3f5f\"}},\"annotationdefaults\":{\"arrowcolor\":\"#2a3f5f\",\"arrowhead\":0,\"arrowwidth\":1},\"geo\":{\"bgcolor\":\"white\",\"landcolor\":\"#E5ECF6\",\"subunitcolor\":\"white\",\"showland\":true,\"showlakes\":true,\"lakecolor\":\"white\"},\"title\":{\"x\":0.05},\"mapbox\":{\"style\":\"light\"}}},\"xaxis\":{\"anchor\":\"y\",\"domain\":[0.0,1.0],\"title\":{\"text\":\"month\"}},\"yaxis\":{\"anchor\":\"x\",\"domain\":[0.0,1.0],\"title\":{\"text\":\"orders_count\"}},\"legend\":{\"title\":{\"text\":\"store_name\"},\"tracegroupgap\":0},\"title\":{\"text\":\"Store's orders count by months\"}},                        {\"responsive\": true}                    ).then(function(){\n",
       "                            \n",
       "var gd = document.getElementById('7a3bd339-752d-489a-84a7-18be9b4f6e35');\n",
       "var x = new MutationObserver(function (mutations, observer) {{\n",
       "        var display = window.getComputedStyle(gd).display;\n",
       "        if (!display || display === 'none') {{\n",
       "            console.log([gd, 'removed!']);\n",
       "            Plotly.purge(gd);\n",
       "            observer.disconnect();\n",
       "        }}\n",
       "}});\n",
       "\n",
       "// Listen for the removal of the full notebook cells\n",
       "var notebookContainer = gd.closest('#notebook-container');\n",
       "if (notebookContainer) {{\n",
       "    x.observe(notebookContainer, {childList: true});\n",
       "}}\n",
       "\n",
       "// Listen for the clearing of the current output cell\n",
       "var outputEl = gd.closest('.output');\n",
       "if (outputEl) {{\n",
       "    x.observe(outputEl, {childList: true});\n",
       "}}\n",
       "\n",
       "                        })                };                });            </script>        </div>"
      ]
     },
     "metadata": {},
     "output_type": "display_data"
    }
   ],
   "source": [
    "px.line(\n",
    "    by_month,\n",
    "    x=by_month['month'].dt.to_timestamp(),\n",
    "    y='orders_count',\n",
    "    color='store_name',\n",
    "    title='Store\\'s orders count by months',\n",
    "    labels={'x': 'month'},\n",
    "    hover_data={\n",
    "        'total_orders_price': ':,.2f',\n",
    "        'total_orders_revenue': ':,.2f',\n",
    "        'orders_count': ':,',\n",
    "        'AOV': ':,',\n",
    "    }\n",
    ")"
   ]
  },
  {
   "cell_type": "markdown",
   "id": "61600dec",
   "metadata": {},
   "source": [
    "## Метрики магазинов"
   ]
  },
  {
   "cell_type": "code",
   "execution_count": 220,
   "id": "6f6f1aa3",
   "metadata": {},
   "outputs": [],
   "source": [
    "by_store = full_df.query(\n",
    "    'is_canceled == False and is_accepted == True').groupby(\n",
    "    'store_name', as_index=False).agg(\n",
    "    total_price=('full_price', np.sum),\n",
    "    total_revenue=('full_revenue', np.sum),\n",
    "    products_count=('count', np.sum),\n",
    "    orders_count=('order_id', pd.Series.nunique),\n",
    "    longtitude=('longtitude', np.max),\n",
    "    latitude=('latitude', np.max)\n",
    ")\n",
    "\n",
    "by_store['avg_price'] = np.round(by_store['total_price'] / by_store['orders_count'], 2)\n",
    "by_store['avg_revenue'] = np.round(by_store['total_revenue'] / by_store['orders_count'], 2)\n",
    "by_store['avg_products_count'] = np.round(by_store['products_count'] / by_store['orders_count'], 2)"
   ]
  },
  {
   "cell_type": "code",
   "execution_count": 219,
   "id": "a256d206",
   "metadata": {},
   "outputs": [
    {
     "data": {
      "application/vnd.plotly.v1+json": {
       "config": {
        "plotlyServerURL": "https://plot.ly"
       },
       "data": [
        {
         "customdata": [
          [
           "Afimoll",
           55.748963,
           37.539035,
           854527959.016515,
           283909539.07535833,
           62070,
           21363,
           40000.37,
           2.91
          ],
          [
           "Aviapark",
           55.790491,
           37.531373,
           2284590080.039699,
           767806356.9607726,
           166293,
           58167,
           39276.4,
           2.86
          ],
          [
           "Evropeisky",
           55.744263,
           37.565527,
           2219121209.3169103,
           742376440.6792929,
           160906,
           55142,
           40243.76,
           2.92
          ],
          [
           "Evropolis",
           59.987513,
           30.353777,
           1556378090.4694166,
           521272536.1065269,
           113152,
           39988,
           38921.13,
           2.83
          ],
          [
           "Galereia",
           59.927848,
           30.360482,
           1295730295.0384326,
           432313743.3705747,
           94519,
           33325,
           38881.63,
           2.84
          ],
          [
           "Grinvich",
           56.829106,
           60.599493,
           3832031180.3958335,
           1278029689.4350903,
           277872,
           98438,
           38928.37,
           2.82
          ],
          [
           "Kapitoliy Vernadskogo",
           55.692065,
           37.527865,
           894611098.0632719,
           299657953.5297949,
           65293,
           22916,
           39038.71,
           2.85
          ],
          [
           "Kapitoly Belyaevo",
           55.641048,
           37.530496,
           2486037517.63935,
           833689092.869226,
           180468,
           63742,
           39001.56,
           2.83
          ],
          [
           "Koltso",
           55.786574,
           49.124078,
           2113696320.0094664,
           710335280.9364574,
           153657,
           54706,
           38637.38,
           2.81
          ],
          [
           "Muravei",
           56.287358,
           43.928319,
           151048993.58587623,
           50915092.78236892,
           11062,
           3656,
           41315.37,
           3.03
          ],
          [
           "Rio Leninsky",
           55.663782,
           37.511308,
           2564036871.0413656,
           858010265.0736176,
           186208,
           64216,
           39928.32,
           2.9
          ],
          [
           "Sedmoe Nebo",
           56.339241,
           43.956672,
           1142992243.6602714,
           380140963.06640315,
           83414,
           29191,
           39155.64,
           2.86
          ],
          [
           "Tsvetnoy",
           55.771158,
           37.62065,
           637914314.1329894,
           210700532.37354723,
           46670,
           16467,
           38738.95,
           2.83
          ]
         ],
         "hovertemplate": "orders_count=%{marker.color:,}<br>store_name=%{customdata[0]}<br>total_price=%{customdata[3]:,.2f}<br>total_revenue=%{customdata[4]:,.2f}<br>products_count=%{customdata[5]:,}<br>avg_price=%{customdata[7]:,.2f}<br>avg_products_count=%{customdata[8]:,.2f}<extra></extra>",
         "lat": [
          55.748963,
          55.790491,
          55.744263,
          59.987513,
          59.927848,
          56.829106,
          55.692065,
          55.641048,
          55.786574,
          56.287358,
          55.663782,
          56.339241,
          55.771158
         ],
         "legendgroup": "",
         "lon": [
          37.539035,
          37.531373,
          37.565527,
          30.353777,
          30.360482,
          60.599493,
          37.527865,
          37.530496,
          49.124078,
          43.928319,
          37.511308,
          43.956672,
          37.62065
         ],
         "marker": {
          "color": [
           21363,
           58167,
           55142,
           39988,
           33325,
           98438,
           22916,
           63742,
           54706,
           3656,
           64216,
           29191,
           16467
          ],
          "coloraxis": "coloraxis",
          "opacity": 0.9,
          "size": [
           21363,
           58167,
           55142,
           39988,
           33325,
           98438,
           22916,
           63742,
           54706,
           3656,
           64216,
           29191,
           16467
          ],
          "sizemode": "area",
          "sizeref": 246.095
         },
         "mode": "markers",
         "name": "",
         "showlegend": false,
         "subplot": "mapbox",
         "type": "scattermapbox"
        }
       ],
       "layout": {
        "coloraxis": {
         "colorbar": {
          "title": {
           "text": "orders_count"
          }
         },
         "colorscale": [
          [
           0,
           "rgb(211, 242, 163)"
          ],
          [
           0.16666666666666666,
           "rgb(151, 225, 150)"
          ],
          [
           0.3333333333333333,
           "rgb(108, 192, 139)"
          ],
          [
           0.5,
           "rgb(76, 155, 130)"
          ],
          [
           0.6666666666666666,
           "rgb(33, 122, 121)"
          ],
          [
           0.8333333333333334,
           "rgb(16, 89, 101)"
          ],
          [
           1,
           "rgb(7, 64, 80)"
          ]
         ]
        },
        "legend": {
         "itemsizing": "constant",
         "tracegroupgap": 0
        },
        "mapbox": {
         "center": {
          "lat": 56.554570000000005,
          "lon": 40.08839038461538
         },
         "domain": {
          "x": [
           0,
           1
          ],
          "y": [
           0,
           1
          ]
         },
         "style": "carto-positron",
         "zoom": 3.5
        },
        "template": {
         "data": {
          "bar": [
           {
            "error_x": {
             "color": "#2a3f5f"
            },
            "error_y": {
             "color": "#2a3f5f"
            },
            "marker": {
             "line": {
              "color": "#E5ECF6",
              "width": 0.5
             },
             "pattern": {
              "fillmode": "overlay",
              "size": 10,
              "solidity": 0.2
             }
            },
            "type": "bar"
           }
          ],
          "barpolar": [
           {
            "marker": {
             "line": {
              "color": "#E5ECF6",
              "width": 0.5
             },
             "pattern": {
              "fillmode": "overlay",
              "size": 10,
              "solidity": 0.2
             }
            },
            "type": "barpolar"
           }
          ],
          "carpet": [
           {
            "aaxis": {
             "endlinecolor": "#2a3f5f",
             "gridcolor": "white",
             "linecolor": "white",
             "minorgridcolor": "white",
             "startlinecolor": "#2a3f5f"
            },
            "baxis": {
             "endlinecolor": "#2a3f5f",
             "gridcolor": "white",
             "linecolor": "white",
             "minorgridcolor": "white",
             "startlinecolor": "#2a3f5f"
            },
            "type": "carpet"
           }
          ],
          "choropleth": [
           {
            "colorbar": {
             "outlinewidth": 0,
             "ticks": ""
            },
            "type": "choropleth"
           }
          ],
          "contour": [
           {
            "colorbar": {
             "outlinewidth": 0,
             "ticks": ""
            },
            "colorscale": [
             [
              0,
              "#0d0887"
             ],
             [
              0.1111111111111111,
              "#46039f"
             ],
             [
              0.2222222222222222,
              "#7201a8"
             ],
             [
              0.3333333333333333,
              "#9c179e"
             ],
             [
              0.4444444444444444,
              "#bd3786"
             ],
             [
              0.5555555555555556,
              "#d8576b"
             ],
             [
              0.6666666666666666,
              "#ed7953"
             ],
             [
              0.7777777777777778,
              "#fb9f3a"
             ],
             [
              0.8888888888888888,
              "#fdca26"
             ],
             [
              1,
              "#f0f921"
             ]
            ],
            "type": "contour"
           }
          ],
          "contourcarpet": [
           {
            "colorbar": {
             "outlinewidth": 0,
             "ticks": ""
            },
            "type": "contourcarpet"
           }
          ],
          "heatmap": [
           {
            "colorbar": {
             "outlinewidth": 0,
             "ticks": ""
            },
            "colorscale": [
             [
              0,
              "#0d0887"
             ],
             [
              0.1111111111111111,
              "#46039f"
             ],
             [
              0.2222222222222222,
              "#7201a8"
             ],
             [
              0.3333333333333333,
              "#9c179e"
             ],
             [
              0.4444444444444444,
              "#bd3786"
             ],
             [
              0.5555555555555556,
              "#d8576b"
             ],
             [
              0.6666666666666666,
              "#ed7953"
             ],
             [
              0.7777777777777778,
              "#fb9f3a"
             ],
             [
              0.8888888888888888,
              "#fdca26"
             ],
             [
              1,
              "#f0f921"
             ]
            ],
            "type": "heatmap"
           }
          ],
          "heatmapgl": [
           {
            "colorbar": {
             "outlinewidth": 0,
             "ticks": ""
            },
            "colorscale": [
             [
              0,
              "#0d0887"
             ],
             [
              0.1111111111111111,
              "#46039f"
             ],
             [
              0.2222222222222222,
              "#7201a8"
             ],
             [
              0.3333333333333333,
              "#9c179e"
             ],
             [
              0.4444444444444444,
              "#bd3786"
             ],
             [
              0.5555555555555556,
              "#d8576b"
             ],
             [
              0.6666666666666666,
              "#ed7953"
             ],
             [
              0.7777777777777778,
              "#fb9f3a"
             ],
             [
              0.8888888888888888,
              "#fdca26"
             ],
             [
              1,
              "#f0f921"
             ]
            ],
            "type": "heatmapgl"
           }
          ],
          "histogram": [
           {
            "marker": {
             "pattern": {
              "fillmode": "overlay",
              "size": 10,
              "solidity": 0.2
             }
            },
            "type": "histogram"
           }
          ],
          "histogram2d": [
           {
            "colorbar": {
             "outlinewidth": 0,
             "ticks": ""
            },
            "colorscale": [
             [
              0,
              "#0d0887"
             ],
             [
              0.1111111111111111,
              "#46039f"
             ],
             [
              0.2222222222222222,
              "#7201a8"
             ],
             [
              0.3333333333333333,
              "#9c179e"
             ],
             [
              0.4444444444444444,
              "#bd3786"
             ],
             [
              0.5555555555555556,
              "#d8576b"
             ],
             [
              0.6666666666666666,
              "#ed7953"
             ],
             [
              0.7777777777777778,
              "#fb9f3a"
             ],
             [
              0.8888888888888888,
              "#fdca26"
             ],
             [
              1,
              "#f0f921"
             ]
            ],
            "type": "histogram2d"
           }
          ],
          "histogram2dcontour": [
           {
            "colorbar": {
             "outlinewidth": 0,
             "ticks": ""
            },
            "colorscale": [
             [
              0,
              "#0d0887"
             ],
             [
              0.1111111111111111,
              "#46039f"
             ],
             [
              0.2222222222222222,
              "#7201a8"
             ],
             [
              0.3333333333333333,
              "#9c179e"
             ],
             [
              0.4444444444444444,
              "#bd3786"
             ],
             [
              0.5555555555555556,
              "#d8576b"
             ],
             [
              0.6666666666666666,
              "#ed7953"
             ],
             [
              0.7777777777777778,
              "#fb9f3a"
             ],
             [
              0.8888888888888888,
              "#fdca26"
             ],
             [
              1,
              "#f0f921"
             ]
            ],
            "type": "histogram2dcontour"
           }
          ],
          "mesh3d": [
           {
            "colorbar": {
             "outlinewidth": 0,
             "ticks": ""
            },
            "type": "mesh3d"
           }
          ],
          "parcoords": [
           {
            "line": {
             "colorbar": {
              "outlinewidth": 0,
              "ticks": ""
             }
            },
            "type": "parcoords"
           }
          ],
          "pie": [
           {
            "automargin": true,
            "type": "pie"
           }
          ],
          "scatter": [
           {
            "fillpattern": {
             "fillmode": "overlay",
             "size": 10,
             "solidity": 0.2
            },
            "type": "scatter"
           }
          ],
          "scatter3d": [
           {
            "line": {
             "colorbar": {
              "outlinewidth": 0,
              "ticks": ""
             }
            },
            "marker": {
             "colorbar": {
              "outlinewidth": 0,
              "ticks": ""
             }
            },
            "type": "scatter3d"
           }
          ],
          "scattercarpet": [
           {
            "marker": {
             "colorbar": {
              "outlinewidth": 0,
              "ticks": ""
             }
            },
            "type": "scattercarpet"
           }
          ],
          "scattergeo": [
           {
            "marker": {
             "colorbar": {
              "outlinewidth": 0,
              "ticks": ""
             }
            },
            "type": "scattergeo"
           }
          ],
          "scattergl": [
           {
            "marker": {
             "colorbar": {
              "outlinewidth": 0,
              "ticks": ""
             }
            },
            "type": "scattergl"
           }
          ],
          "scattermapbox": [
           {
            "marker": {
             "colorbar": {
              "outlinewidth": 0,
              "ticks": ""
             }
            },
            "type": "scattermapbox"
           }
          ],
          "scatterpolar": [
           {
            "marker": {
             "colorbar": {
              "outlinewidth": 0,
              "ticks": ""
             }
            },
            "type": "scatterpolar"
           }
          ],
          "scatterpolargl": [
           {
            "marker": {
             "colorbar": {
              "outlinewidth": 0,
              "ticks": ""
             }
            },
            "type": "scatterpolargl"
           }
          ],
          "scatterternary": [
           {
            "marker": {
             "colorbar": {
              "outlinewidth": 0,
              "ticks": ""
             }
            },
            "type": "scatterternary"
           }
          ],
          "surface": [
           {
            "colorbar": {
             "outlinewidth": 0,
             "ticks": ""
            },
            "colorscale": [
             [
              0,
              "#0d0887"
             ],
             [
              0.1111111111111111,
              "#46039f"
             ],
             [
              0.2222222222222222,
              "#7201a8"
             ],
             [
              0.3333333333333333,
              "#9c179e"
             ],
             [
              0.4444444444444444,
              "#bd3786"
             ],
             [
              0.5555555555555556,
              "#d8576b"
             ],
             [
              0.6666666666666666,
              "#ed7953"
             ],
             [
              0.7777777777777778,
              "#fb9f3a"
             ],
             [
              0.8888888888888888,
              "#fdca26"
             ],
             [
              1,
              "#f0f921"
             ]
            ],
            "type": "surface"
           }
          ],
          "table": [
           {
            "cells": {
             "fill": {
              "color": "#EBF0F8"
             },
             "line": {
              "color": "white"
             }
            },
            "header": {
             "fill": {
              "color": "#C8D4E3"
             },
             "line": {
              "color": "white"
             }
            },
            "type": "table"
           }
          ]
         },
         "layout": {
          "annotationdefaults": {
           "arrowcolor": "#2a3f5f",
           "arrowhead": 0,
           "arrowwidth": 1
          },
          "autotypenumbers": "strict",
          "coloraxis": {
           "colorbar": {
            "outlinewidth": 0,
            "ticks": ""
           }
          },
          "colorscale": {
           "diverging": [
            [
             0,
             "#8e0152"
            ],
            [
             0.1,
             "#c51b7d"
            ],
            [
             0.2,
             "#de77ae"
            ],
            [
             0.3,
             "#f1b6da"
            ],
            [
             0.4,
             "#fde0ef"
            ],
            [
             0.5,
             "#f7f7f7"
            ],
            [
             0.6,
             "#e6f5d0"
            ],
            [
             0.7,
             "#b8e186"
            ],
            [
             0.8,
             "#7fbc41"
            ],
            [
             0.9,
             "#4d9221"
            ],
            [
             1,
             "#276419"
            ]
           ],
           "sequential": [
            [
             0,
             "#0d0887"
            ],
            [
             0.1111111111111111,
             "#46039f"
            ],
            [
             0.2222222222222222,
             "#7201a8"
            ],
            [
             0.3333333333333333,
             "#9c179e"
            ],
            [
             0.4444444444444444,
             "#bd3786"
            ],
            [
             0.5555555555555556,
             "#d8576b"
            ],
            [
             0.6666666666666666,
             "#ed7953"
            ],
            [
             0.7777777777777778,
             "#fb9f3a"
            ],
            [
             0.8888888888888888,
             "#fdca26"
            ],
            [
             1,
             "#f0f921"
            ]
           ],
           "sequentialminus": [
            [
             0,
             "#0d0887"
            ],
            [
             0.1111111111111111,
             "#46039f"
            ],
            [
             0.2222222222222222,
             "#7201a8"
            ],
            [
             0.3333333333333333,
             "#9c179e"
            ],
            [
             0.4444444444444444,
             "#bd3786"
            ],
            [
             0.5555555555555556,
             "#d8576b"
            ],
            [
             0.6666666666666666,
             "#ed7953"
            ],
            [
             0.7777777777777778,
             "#fb9f3a"
            ],
            [
             0.8888888888888888,
             "#fdca26"
            ],
            [
             1,
             "#f0f921"
            ]
           ]
          },
          "colorway": [
           "#636efa",
           "#EF553B",
           "#00cc96",
           "#ab63fa",
           "#FFA15A",
           "#19d3f3",
           "#FF6692",
           "#B6E880",
           "#FF97FF",
           "#FECB52"
          ],
          "font": {
           "color": "#2a3f5f"
          },
          "geo": {
           "bgcolor": "white",
           "lakecolor": "white",
           "landcolor": "#E5ECF6",
           "showlakes": true,
           "showland": true,
           "subunitcolor": "white"
          },
          "hoverlabel": {
           "align": "left"
          },
          "hovermode": "closest",
          "mapbox": {
           "style": "light"
          },
          "paper_bgcolor": "white",
          "plot_bgcolor": "#E5ECF6",
          "polar": {
           "angularaxis": {
            "gridcolor": "white",
            "linecolor": "white",
            "ticks": ""
           },
           "bgcolor": "#E5ECF6",
           "radialaxis": {
            "gridcolor": "white",
            "linecolor": "white",
            "ticks": ""
           }
          },
          "scene": {
           "xaxis": {
            "backgroundcolor": "#E5ECF6",
            "gridcolor": "white",
            "gridwidth": 2,
            "linecolor": "white",
            "showbackground": true,
            "ticks": "",
            "zerolinecolor": "white"
           },
           "yaxis": {
            "backgroundcolor": "#E5ECF6",
            "gridcolor": "white",
            "gridwidth": 2,
            "linecolor": "white",
            "showbackground": true,
            "ticks": "",
            "zerolinecolor": "white"
           },
           "zaxis": {
            "backgroundcolor": "#E5ECF6",
            "gridcolor": "white",
            "gridwidth": 2,
            "linecolor": "white",
            "showbackground": true,
            "ticks": "",
            "zerolinecolor": "white"
           }
          },
          "shapedefaults": {
           "line": {
            "color": "#2a3f5f"
           }
          },
          "ternary": {
           "aaxis": {
            "gridcolor": "white",
            "linecolor": "white",
            "ticks": ""
           },
           "baxis": {
            "gridcolor": "white",
            "linecolor": "white",
            "ticks": ""
           },
           "bgcolor": "#E5ECF6",
           "caxis": {
            "gridcolor": "white",
            "linecolor": "white",
            "ticks": ""
           }
          },
          "title": {
           "x": 0.05
          },
          "xaxis": {
           "automargin": true,
           "gridcolor": "white",
           "linecolor": "white",
           "ticks": "",
           "title": {
            "standoff": 15
           },
           "zerolinecolor": "white",
           "zerolinewidth": 2
          },
          "yaxis": {
           "automargin": true,
           "gridcolor": "white",
           "linecolor": "white",
           "ticks": "",
           "title": {
            "standoff": 15
           },
           "zerolinecolor": "white",
           "zerolinewidth": 2
          }
         }
        },
        "title": {
         "text": "Stores"
        }
       }
      },
      "text/html": [
       "<div>                            <div id=\"1d8fb772-7ecd-40af-a106-0b030d6fc731\" class=\"plotly-graph-div\" style=\"height:525px; width:100%;\"></div>            <script type=\"text/javascript\">                require([\"plotly\"], function(Plotly) {                    window.PLOTLYENV=window.PLOTLYENV || {};                                    if (document.getElementById(\"1d8fb772-7ecd-40af-a106-0b030d6fc731\")) {                    Plotly.newPlot(                        \"1d8fb772-7ecd-40af-a106-0b030d6fc731\",                        [{\"customdata\":[[\"Afimoll\",55.748963,37.539035,854527959.016515,283909539.07535833,62070,21363,40000.37,2.91],[\"Aviapark\",55.790491,37.531373,2284590080.039699,767806356.9607726,166293,58167,39276.4,2.86],[\"Evropeisky\",55.744263,37.565527,2219121209.3169103,742376440.6792929,160906,55142,40243.76,2.92],[\"Evropolis\",59.987513,30.353777,1556378090.4694166,521272536.1065269,113152,39988,38921.13,2.83],[\"Galereia\",59.927848,30.360482,1295730295.0384326,432313743.3705747,94519,33325,38881.63,2.84],[\"Grinvich\",56.829106,60.599493,3832031180.3958335,1278029689.4350903,277872,98438,38928.37,2.82],[\"Kapitoliy Vernadskogo\",55.692065,37.527865,894611098.0632719,299657953.5297949,65293,22916,39038.71,2.85],[\"Kapitoly Belyaevo\",55.641048,37.530496,2486037517.63935,833689092.869226,180468,63742,39001.56,2.83],[\"Koltso\",55.786574,49.124078,2113696320.0094664,710335280.9364574,153657,54706,38637.38,2.81],[\"Muravei\",56.287358,43.928319,151048993.58587623,50915092.78236892,11062,3656,41315.37,3.03],[\"Rio Leninsky\",55.663782,37.511308,2564036871.0413656,858010265.0736176,186208,64216,39928.32,2.9],[\"Sedmoe Nebo\",56.339241,43.956672,1142992243.6602714,380140963.06640315,83414,29191,39155.64,2.86],[\"Tsvetnoy\",55.771158,37.62065,637914314.1329894,210700532.37354723,46670,16467,38738.95,2.83]],\"hovertemplate\":\"orders_count=%{marker.color:,}\\u003cbr\\u003estore_name=%{customdata[0]}\\u003cbr\\u003etotal_price=%{customdata[3]:,.2f}\\u003cbr\\u003etotal_revenue=%{customdata[4]:,.2f}\\u003cbr\\u003eproducts_count=%{customdata[5]:,}\\u003cbr\\u003eavg_price=%{customdata[7]:,.2f}\\u003cbr\\u003eavg_products_count=%{customdata[8]:,.2f}\\u003cextra\\u003e\\u003c\\u002fextra\\u003e\",\"lat\":[55.748963,55.790491,55.744263,59.987513,59.927848,56.829106,55.692065,55.641048,55.786574,56.287358,55.663782,56.339241,55.771158],\"legendgroup\":\"\",\"lon\":[37.539035,37.531373,37.565527,30.353777,30.360482,60.599493,37.527865,37.530496,49.124078,43.928319,37.511308,43.956672,37.62065],\"marker\":{\"color\":[21363,58167,55142,39988,33325,98438,22916,63742,54706,3656,64216,29191,16467],\"coloraxis\":\"coloraxis\",\"opacity\":0.9,\"size\":[21363,58167,55142,39988,33325,98438,22916,63742,54706,3656,64216,29191,16467],\"sizemode\":\"area\",\"sizeref\":246.095},\"mode\":\"markers\",\"name\":\"\",\"showlegend\":false,\"subplot\":\"mapbox\",\"type\":\"scattermapbox\"}],                        {\"template\":{\"data\":{\"histogram2dcontour\":[{\"type\":\"histogram2dcontour\",\"colorbar\":{\"outlinewidth\":0,\"ticks\":\"\"},\"colorscale\":[[0.0,\"#0d0887\"],[0.1111111111111111,\"#46039f\"],[0.2222222222222222,\"#7201a8\"],[0.3333333333333333,\"#9c179e\"],[0.4444444444444444,\"#bd3786\"],[0.5555555555555556,\"#d8576b\"],[0.6666666666666666,\"#ed7953\"],[0.7777777777777778,\"#fb9f3a\"],[0.8888888888888888,\"#fdca26\"],[1.0,\"#f0f921\"]]}],\"choropleth\":[{\"type\":\"choropleth\",\"colorbar\":{\"outlinewidth\":0,\"ticks\":\"\"}}],\"histogram2d\":[{\"type\":\"histogram2d\",\"colorbar\":{\"outlinewidth\":0,\"ticks\":\"\"},\"colorscale\":[[0.0,\"#0d0887\"],[0.1111111111111111,\"#46039f\"],[0.2222222222222222,\"#7201a8\"],[0.3333333333333333,\"#9c179e\"],[0.4444444444444444,\"#bd3786\"],[0.5555555555555556,\"#d8576b\"],[0.6666666666666666,\"#ed7953\"],[0.7777777777777778,\"#fb9f3a\"],[0.8888888888888888,\"#fdca26\"],[1.0,\"#f0f921\"]]}],\"heatmap\":[{\"type\":\"heatmap\",\"colorbar\":{\"outlinewidth\":0,\"ticks\":\"\"},\"colorscale\":[[0.0,\"#0d0887\"],[0.1111111111111111,\"#46039f\"],[0.2222222222222222,\"#7201a8\"],[0.3333333333333333,\"#9c179e\"],[0.4444444444444444,\"#bd3786\"],[0.5555555555555556,\"#d8576b\"],[0.6666666666666666,\"#ed7953\"],[0.7777777777777778,\"#fb9f3a\"],[0.8888888888888888,\"#fdca26\"],[1.0,\"#f0f921\"]]}],\"heatmapgl\":[{\"type\":\"heatmapgl\",\"colorbar\":{\"outlinewidth\":0,\"ticks\":\"\"},\"colorscale\":[[0.0,\"#0d0887\"],[0.1111111111111111,\"#46039f\"],[0.2222222222222222,\"#7201a8\"],[0.3333333333333333,\"#9c179e\"],[0.4444444444444444,\"#bd3786\"],[0.5555555555555556,\"#d8576b\"],[0.6666666666666666,\"#ed7953\"],[0.7777777777777778,\"#fb9f3a\"],[0.8888888888888888,\"#fdca26\"],[1.0,\"#f0f921\"]]}],\"contourcarpet\":[{\"type\":\"contourcarpet\",\"colorbar\":{\"outlinewidth\":0,\"ticks\":\"\"}}],\"contour\":[{\"type\":\"contour\",\"colorbar\":{\"outlinewidth\":0,\"ticks\":\"\"},\"colorscale\":[[0.0,\"#0d0887\"],[0.1111111111111111,\"#46039f\"],[0.2222222222222222,\"#7201a8\"],[0.3333333333333333,\"#9c179e\"],[0.4444444444444444,\"#bd3786\"],[0.5555555555555556,\"#d8576b\"],[0.6666666666666666,\"#ed7953\"],[0.7777777777777778,\"#fb9f3a\"],[0.8888888888888888,\"#fdca26\"],[1.0,\"#f0f921\"]]}],\"surface\":[{\"type\":\"surface\",\"colorbar\":{\"outlinewidth\":0,\"ticks\":\"\"},\"colorscale\":[[0.0,\"#0d0887\"],[0.1111111111111111,\"#46039f\"],[0.2222222222222222,\"#7201a8\"],[0.3333333333333333,\"#9c179e\"],[0.4444444444444444,\"#bd3786\"],[0.5555555555555556,\"#d8576b\"],[0.6666666666666666,\"#ed7953\"],[0.7777777777777778,\"#fb9f3a\"],[0.8888888888888888,\"#fdca26\"],[1.0,\"#f0f921\"]]}],\"mesh3d\":[{\"type\":\"mesh3d\",\"colorbar\":{\"outlinewidth\":0,\"ticks\":\"\"}}],\"scatter\":[{\"fillpattern\":{\"fillmode\":\"overlay\",\"size\":10,\"solidity\":0.2},\"type\":\"scatter\"}],\"parcoords\":[{\"type\":\"parcoords\",\"line\":{\"colorbar\":{\"outlinewidth\":0,\"ticks\":\"\"}}}],\"scatterpolargl\":[{\"type\":\"scatterpolargl\",\"marker\":{\"colorbar\":{\"outlinewidth\":0,\"ticks\":\"\"}}}],\"bar\":[{\"error_x\":{\"color\":\"#2a3f5f\"},\"error_y\":{\"color\":\"#2a3f5f\"},\"marker\":{\"line\":{\"color\":\"#E5ECF6\",\"width\":0.5},\"pattern\":{\"fillmode\":\"overlay\",\"size\":10,\"solidity\":0.2}},\"type\":\"bar\"}],\"scattergeo\":[{\"type\":\"scattergeo\",\"marker\":{\"colorbar\":{\"outlinewidth\":0,\"ticks\":\"\"}}}],\"scatterpolar\":[{\"type\":\"scatterpolar\",\"marker\":{\"colorbar\":{\"outlinewidth\":0,\"ticks\":\"\"}}}],\"histogram\":[{\"marker\":{\"pattern\":{\"fillmode\":\"overlay\",\"size\":10,\"solidity\":0.2}},\"type\":\"histogram\"}],\"scattergl\":[{\"type\":\"scattergl\",\"marker\":{\"colorbar\":{\"outlinewidth\":0,\"ticks\":\"\"}}}],\"scatter3d\":[{\"type\":\"scatter3d\",\"line\":{\"colorbar\":{\"outlinewidth\":0,\"ticks\":\"\"}},\"marker\":{\"colorbar\":{\"outlinewidth\":0,\"ticks\":\"\"}}}],\"scattermapbox\":[{\"type\":\"scattermapbox\",\"marker\":{\"colorbar\":{\"outlinewidth\":0,\"ticks\":\"\"}}}],\"scatterternary\":[{\"type\":\"scatterternary\",\"marker\":{\"colorbar\":{\"outlinewidth\":0,\"ticks\":\"\"}}}],\"scattercarpet\":[{\"type\":\"scattercarpet\",\"marker\":{\"colorbar\":{\"outlinewidth\":0,\"ticks\":\"\"}}}],\"carpet\":[{\"aaxis\":{\"endlinecolor\":\"#2a3f5f\",\"gridcolor\":\"white\",\"linecolor\":\"white\",\"minorgridcolor\":\"white\",\"startlinecolor\":\"#2a3f5f\"},\"baxis\":{\"endlinecolor\":\"#2a3f5f\",\"gridcolor\":\"white\",\"linecolor\":\"white\",\"minorgridcolor\":\"white\",\"startlinecolor\":\"#2a3f5f\"},\"type\":\"carpet\"}],\"table\":[{\"cells\":{\"fill\":{\"color\":\"#EBF0F8\"},\"line\":{\"color\":\"white\"}},\"header\":{\"fill\":{\"color\":\"#C8D4E3\"},\"line\":{\"color\":\"white\"}},\"type\":\"table\"}],\"barpolar\":[{\"marker\":{\"line\":{\"color\":\"#E5ECF6\",\"width\":0.5},\"pattern\":{\"fillmode\":\"overlay\",\"size\":10,\"solidity\":0.2}},\"type\":\"barpolar\"}],\"pie\":[{\"automargin\":true,\"type\":\"pie\"}]},\"layout\":{\"autotypenumbers\":\"strict\",\"colorway\":[\"#636efa\",\"#EF553B\",\"#00cc96\",\"#ab63fa\",\"#FFA15A\",\"#19d3f3\",\"#FF6692\",\"#B6E880\",\"#FF97FF\",\"#FECB52\"],\"font\":{\"color\":\"#2a3f5f\"},\"hovermode\":\"closest\",\"hoverlabel\":{\"align\":\"left\"},\"paper_bgcolor\":\"white\",\"plot_bgcolor\":\"#E5ECF6\",\"polar\":{\"bgcolor\":\"#E5ECF6\",\"angularaxis\":{\"gridcolor\":\"white\",\"linecolor\":\"white\",\"ticks\":\"\"},\"radialaxis\":{\"gridcolor\":\"white\",\"linecolor\":\"white\",\"ticks\":\"\"}},\"ternary\":{\"bgcolor\":\"#E5ECF6\",\"aaxis\":{\"gridcolor\":\"white\",\"linecolor\":\"white\",\"ticks\":\"\"},\"baxis\":{\"gridcolor\":\"white\",\"linecolor\":\"white\",\"ticks\":\"\"},\"caxis\":{\"gridcolor\":\"white\",\"linecolor\":\"white\",\"ticks\":\"\"}},\"coloraxis\":{\"colorbar\":{\"outlinewidth\":0,\"ticks\":\"\"}},\"colorscale\":{\"sequential\":[[0.0,\"#0d0887\"],[0.1111111111111111,\"#46039f\"],[0.2222222222222222,\"#7201a8\"],[0.3333333333333333,\"#9c179e\"],[0.4444444444444444,\"#bd3786\"],[0.5555555555555556,\"#d8576b\"],[0.6666666666666666,\"#ed7953\"],[0.7777777777777778,\"#fb9f3a\"],[0.8888888888888888,\"#fdca26\"],[1.0,\"#f0f921\"]],\"sequentialminus\":[[0.0,\"#0d0887\"],[0.1111111111111111,\"#46039f\"],[0.2222222222222222,\"#7201a8\"],[0.3333333333333333,\"#9c179e\"],[0.4444444444444444,\"#bd3786\"],[0.5555555555555556,\"#d8576b\"],[0.6666666666666666,\"#ed7953\"],[0.7777777777777778,\"#fb9f3a\"],[0.8888888888888888,\"#fdca26\"],[1.0,\"#f0f921\"]],\"diverging\":[[0,\"#8e0152\"],[0.1,\"#c51b7d\"],[0.2,\"#de77ae\"],[0.3,\"#f1b6da\"],[0.4,\"#fde0ef\"],[0.5,\"#f7f7f7\"],[0.6,\"#e6f5d0\"],[0.7,\"#b8e186\"],[0.8,\"#7fbc41\"],[0.9,\"#4d9221\"],[1,\"#276419\"]]},\"xaxis\":{\"gridcolor\":\"white\",\"linecolor\":\"white\",\"ticks\":\"\",\"title\":{\"standoff\":15},\"zerolinecolor\":\"white\",\"automargin\":true,\"zerolinewidth\":2},\"yaxis\":{\"gridcolor\":\"white\",\"linecolor\":\"white\",\"ticks\":\"\",\"title\":{\"standoff\":15},\"zerolinecolor\":\"white\",\"automargin\":true,\"zerolinewidth\":2},\"scene\":{\"xaxis\":{\"backgroundcolor\":\"#E5ECF6\",\"gridcolor\":\"white\",\"linecolor\":\"white\",\"showbackground\":true,\"ticks\":\"\",\"zerolinecolor\":\"white\",\"gridwidth\":2},\"yaxis\":{\"backgroundcolor\":\"#E5ECF6\",\"gridcolor\":\"white\",\"linecolor\":\"white\",\"showbackground\":true,\"ticks\":\"\",\"zerolinecolor\":\"white\",\"gridwidth\":2},\"zaxis\":{\"backgroundcolor\":\"#E5ECF6\",\"gridcolor\":\"white\",\"linecolor\":\"white\",\"showbackground\":true,\"ticks\":\"\",\"zerolinecolor\":\"white\",\"gridwidth\":2}},\"shapedefaults\":{\"line\":{\"color\":\"#2a3f5f\"}},\"annotationdefaults\":{\"arrowcolor\":\"#2a3f5f\",\"arrowhead\":0,\"arrowwidth\":1},\"geo\":{\"bgcolor\":\"white\",\"landcolor\":\"#E5ECF6\",\"subunitcolor\":\"white\",\"showland\":true,\"showlakes\":true,\"lakecolor\":\"white\"},\"title\":{\"x\":0.05},\"mapbox\":{\"style\":\"light\"}}},\"mapbox\":{\"domain\":{\"x\":[0.0,1.0],\"y\":[0.0,1.0]},\"center\":{\"lat\":56.554570000000005,\"lon\":40.08839038461538},\"zoom\":3.5,\"style\":\"carto-positron\"},\"coloraxis\":{\"colorbar\":{\"title\":{\"text\":\"orders_count\"}},\"colorscale\":[[0.0,\"rgb(211, 242, 163)\"],[0.16666666666666666,\"rgb(151, 225, 150)\"],[0.3333333333333333,\"rgb(108, 192, 139)\"],[0.5,\"rgb(76, 155, 130)\"],[0.6666666666666666,\"rgb(33, 122, 121)\"],[0.8333333333333334,\"rgb(16, 89, 101)\"],[1.0,\"rgb(7, 64, 80)\"]]},\"legend\":{\"tracegroupgap\":0,\"itemsizing\":\"constant\"},\"title\":{\"text\":\"Stores\"}},                        {\"responsive\": true}                    ).then(function(){\n",
       "                            \n",
       "var gd = document.getElementById('1d8fb772-7ecd-40af-a106-0b030d6fc731');\n",
       "var x = new MutationObserver(function (mutations, observer) {{\n",
       "        var display = window.getComputedStyle(gd).display;\n",
       "        if (!display || display === 'none') {{\n",
       "            console.log([gd, 'removed!']);\n",
       "            Plotly.purge(gd);\n",
       "            observer.disconnect();\n",
       "        }}\n",
       "}});\n",
       "\n",
       "// Listen for the removal of the full notebook cells\n",
       "var notebookContainer = gd.closest('#notebook-container');\n",
       "if (notebookContainer) {{\n",
       "    x.observe(notebookContainer, {childList: true});\n",
       "}}\n",
       "\n",
       "// Listen for the clearing of the current output cell\n",
       "var outputEl = gd.closest('.output');\n",
       "if (outputEl) {{\n",
       "    x.observe(outputEl, {childList: true});\n",
       "}}\n",
       "\n",
       "                        })                };                });            </script>        </div>"
      ]
     },
     "metadata": {},
     "output_type": "display_data"
    }
   ],
   "source": [
    "fig = px.scatter_mapbox(\n",
    "    by_store,\n",
    "    lat=\"longtitude\",\n",
    "    lon=\"latitude\",\n",
    "    color=\"orders_count\",\n",
    "    opacity=.9,\n",
    "    size=\"orders_count\",\n",
    "    zoom=3.5,\n",
    "    mapbox_style=\"carto-positron\",\n",
    "    title='Stores',\n",
    "    color_continuous_scale=px.colors.sequential.Emrld,\n",
    "    hover_data={\n",
    "        'store_name': True,\n",
    "        'longtitude': False,\n",
    "        'latitude': False,\n",
    "        'total_price': ':,.2f',\n",
    "        'total_revenue': ':,.2f',\n",
    "        'total_revenue': ':,.2f',\n",
    "        'products_count': ':,',\n",
    "        'orders_count': ':,',\n",
    "        'avg_price': ':,.2f',\n",
    "        'avg_products_count': ':,.2f',\n",
    "    }\n",
    ")\n",
    "fig.show()"
   ]
  },
  {
   "cell_type": "markdown",
   "id": "c7ec79b0",
   "metadata": {},
   "source": [
    "## Cколько единиц каждого товара необходимо поставить в каждый из магазинов в следующем месяце?"
   ]
  },
  {
   "cell_type": "markdown",
   "id": "aa00dbcf",
   "metadata": {},
   "source": [
    "Уберем из датасета декабрь 2023 года т.к. мы имеем данные не за весь месяц"
   ]
  },
  {
   "cell_type": "code",
   "execution_count": 240,
   "id": "379bd51f",
   "metadata": {},
   "outputs": [
    {
     "data": {
      "text/html": [
       "<div>\n",
       "<style scoped>\n",
       "    .dataframe tbody tr th:only-of-type {\n",
       "        vertical-align: middle;\n",
       "    }\n",
       "\n",
       "    .dataframe tbody tr th {\n",
       "        vertical-align: top;\n",
       "    }\n",
       "\n",
       "    .dataframe thead th {\n",
       "        text-align: right;\n",
       "    }\n",
       "</style>\n",
       "<table border=\"1\" class=\"dataframe\">\n",
       "  <thead>\n",
       "    <tr style=\"text-align: right;\">\n",
       "      <th></th>\n",
       "      <th>store_name</th>\n",
       "      <th>month</th>\n",
       "      <th>product_name</th>\n",
       "      <th>product_count</th>\n",
       "      <th>product_margin</th>\n",
       "    </tr>\n",
       "  </thead>\n",
       "  <tbody>\n",
       "    <tr>\n",
       "      <th>3</th>\n",
       "      <td>Afimoll</td>\n",
       "      <td>10</td>\n",
       "      <td>Blossom Breeze Romper</td>\n",
       "      <td>256</td>\n",
       "      <td>1.364649e+06</td>\n",
       "    </tr>\n",
       "    <tr>\n",
       "      <th>19</th>\n",
       "      <td>Afimoll</td>\n",
       "      <td>10</td>\n",
       "      <td>Mars Mist Military Jacket</td>\n",
       "      <td>234</td>\n",
       "      <td>1.770430e+06</td>\n",
       "    </tr>\n",
       "    <tr>\n",
       "      <th>10</th>\n",
       "      <td>Afimoll</td>\n",
       "      <td>10</td>\n",
       "      <td>Dewdrop Dream Camisole</td>\n",
       "      <td>229</td>\n",
       "      <td>1.040765e+06</td>\n",
       "    </tr>\n",
       "    <tr>\n",
       "      <th>13</th>\n",
       "      <td>Afimoll</td>\n",
       "      <td>10</td>\n",
       "      <td>Emberstone Expedition Epaulettes</td>\n",
       "      <td>222</td>\n",
       "      <td>1.666579e+06</td>\n",
       "    </tr>\n",
       "    <tr>\n",
       "      <th>16</th>\n",
       "      <td>Afimoll</td>\n",
       "      <td>10</td>\n",
       "      <td>Gravity Guardian Gloves</td>\n",
       "      <td>212</td>\n",
       "      <td>9.025687e+05</td>\n",
       "    </tr>\n",
       "    <tr>\n",
       "      <th>...</th>\n",
       "      <td>...</td>\n",
       "      <td>...</td>\n",
       "      <td>...</td>\n",
       "      <td>...</td>\n",
       "      <td>...</td>\n",
       "    </tr>\n",
       "    <tr>\n",
       "      <th>9816</th>\n",
       "      <td>Tsvetnoy</td>\n",
       "      <td>11</td>\n",
       "      <td>Midnight Gala Dress</td>\n",
       "      <td>549</td>\n",
       "      <td>1.446459e+06</td>\n",
       "    </tr>\n",
       "    <tr>\n",
       "      <th>9817</th>\n",
       "      <td>Tsvetnoy</td>\n",
       "      <td>11</td>\n",
       "      <td>Midnight Momentum T-shirt</td>\n",
       "      <td>547</td>\n",
       "      <td>2.783963e+06</td>\n",
       "    </tr>\n",
       "    <tr>\n",
       "      <th>9821</th>\n",
       "      <td>Tsvetnoy</td>\n",
       "      <td>11</td>\n",
       "      <td>Nebula Navigator Jacket</td>\n",
       "      <td>544</td>\n",
       "      <td>1.016894e+06</td>\n",
       "    </tr>\n",
       "    <tr>\n",
       "      <th>9818</th>\n",
       "      <td>Tsvetnoy</td>\n",
       "      <td>11</td>\n",
       "      <td>Monsoon Mirage Chinos</td>\n",
       "      <td>540</td>\n",
       "      <td>2.282388e+06</td>\n",
       "    </tr>\n",
       "    <tr>\n",
       "      <th>9813</th>\n",
       "      <td>Tsvetnoy</td>\n",
       "      <td>11</td>\n",
       "      <td>Harmony Hues Cardigan</td>\n",
       "      <td>536</td>\n",
       "      <td>1.956681e+06</td>\n",
       "    </tr>\n",
       "  </tbody>\n",
       "</table>\n",
       "<p>8990 rows × 5 columns</p>\n",
       "</div>"
      ],
      "text/plain": [
       "     store_name  month                      product_name  product_count  \\\n",
       "3       Afimoll     10             Blossom Breeze Romper            256   \n",
       "19      Afimoll     10         Mars Mist Military Jacket            234   \n",
       "10      Afimoll     10            Dewdrop Dream Camisole            229   \n",
       "13      Afimoll     10  Emberstone Expedition Epaulettes            222   \n",
       "16      Afimoll     10           Gravity Guardian Gloves            212   \n",
       "...         ...    ...                               ...            ...   \n",
       "9816   Tsvetnoy     11               Midnight Gala Dress            549   \n",
       "9817   Tsvetnoy     11         Midnight Momentum T-shirt            547   \n",
       "9821   Tsvetnoy     11           Nebula Navigator Jacket            544   \n",
       "9818   Tsvetnoy     11             Monsoon Mirage Chinos            540   \n",
       "9813   Tsvetnoy     11             Harmony Hues Cardigan            536   \n",
       "\n",
       "      product_margin  \n",
       "3       1.364649e+06  \n",
       "19      1.770430e+06  \n",
       "10      1.040765e+06  \n",
       "13      1.666579e+06  \n",
       "16      9.025687e+05  \n",
       "...              ...  \n",
       "9816    1.446459e+06  \n",
       "9817    2.783963e+06  \n",
       "9821    1.016894e+06  \n",
       "9818    2.282388e+06  \n",
       "9813    1.956681e+06  \n",
       "\n",
       "[8990 rows x 5 columns]"
      ]
     },
     "execution_count": 240,
     "metadata": {},
     "output_type": "execute_result"
    }
   ],
   "source": [
    "top_products = full_df.query(\n",
    "    'is_accepted == True').groupby([\n",
    "    'store_name', 'month', 'product_name'], as_index=False).agg(\n",
    "    product_count=('count', np.sum),\n",
    "    product_margin=('full_revenue', np.sum),\n",
    ")\n",
    "top_products = top_products[top_products['month'] != \"2023-12\"].sort_values(\n",
    "    by=['store_name', 'month', 'product_count'],\n",
    "    ascending=[True, True, False]\n",
    ")\n",
    "top_products['month'] = top_products['month'].dt.month\n",
    "top_products"
   ]
  },
  {
   "cell_type": "markdown",
   "id": "110cc26f",
   "metadata": {},
   "source": [
    "Многие товары имеют сезонность, поэтому при выборе едениц товара для следующего месяца будем опираться на те же месяца прошлых лет"
   ]
  },
  {
   "cell_type": "code",
   "execution_count": 242,
   "id": "a66eeb11",
   "metadata": {},
   "outputs": [
    {
     "data": {
      "text/html": [
       "<div>\n",
       "<style scoped>\n",
       "    .dataframe tbody tr th:only-of-type {\n",
       "        vertical-align: middle;\n",
       "    }\n",
       "\n",
       "    .dataframe tbody tr th {\n",
       "        vertical-align: top;\n",
       "    }\n",
       "\n",
       "    .dataframe thead th {\n",
       "        text-align: right;\n",
       "    }\n",
       "</style>\n",
       "<table border=\"1\" class=\"dataframe\">\n",
       "  <thead>\n",
       "    <tr style=\"text-align: right;\">\n",
       "      <th></th>\n",
       "      <th>store_name</th>\n",
       "      <th>month</th>\n",
       "      <th>product_name</th>\n",
       "      <th>product_count</th>\n",
       "    </tr>\n",
       "  </thead>\n",
       "  <tbody>\n",
       "    <tr>\n",
       "      <th>0</th>\n",
       "      <td>Afimoll</td>\n",
       "      <td>1</td>\n",
       "      <td>Astral Ascent Anorak</td>\n",
       "      <td>364.0</td>\n",
       "    </tr>\n",
       "    <tr>\n",
       "      <th>1</th>\n",
       "      <td>Afimoll</td>\n",
       "      <td>1</td>\n",
       "      <td>Aurora Borealis Jacket</td>\n",
       "      <td>386.0</td>\n",
       "    </tr>\n",
       "    <tr>\n",
       "      <th>2</th>\n",
       "      <td>Afimoll</td>\n",
       "      <td>1</td>\n",
       "      <td>Azure Bliss Jeans</td>\n",
       "      <td>291.0</td>\n",
       "    </tr>\n",
       "    <tr>\n",
       "      <th>3</th>\n",
       "      <td>Afimoll</td>\n",
       "      <td>1</td>\n",
       "      <td>Blossom Breeze Romper</td>\n",
       "      <td>328.0</td>\n",
       "    </tr>\n",
       "    <tr>\n",
       "      <th>4</th>\n",
       "      <td>Afimoll</td>\n",
       "      <td>1</td>\n",
       "      <td>Celestial Silk Blouse</td>\n",
       "      <td>294.0</td>\n",
       "    </tr>\n",
       "    <tr>\n",
       "      <th>...</th>\n",
       "      <td>...</td>\n",
       "      <td>...</td>\n",
       "      <td>...</td>\n",
       "      <td>...</td>\n",
       "    </tr>\n",
       "    <tr>\n",
       "      <th>7063</th>\n",
       "      <td>Tsvetnoy</td>\n",
       "      <td>11</td>\n",
       "      <td>Velvet Vortex Blazer</td>\n",
       "      <td>555.0</td>\n",
       "    </tr>\n",
       "    <tr>\n",
       "      <th>7064</th>\n",
       "      <td>Tsvetnoy</td>\n",
       "      <td>11</td>\n",
       "      <td>Whispering Willow Palazzo Pants</td>\n",
       "      <td>603.0</td>\n",
       "    </tr>\n",
       "    <tr>\n",
       "      <th>7065</th>\n",
       "      <td>Tsvetnoy</td>\n",
       "      <td>11</td>\n",
       "      <td>Wilderness Voyager Waistcoat</td>\n",
       "      <td>566.0</td>\n",
       "    </tr>\n",
       "    <tr>\n",
       "      <th>7066</th>\n",
       "      <td>Tsvetnoy</td>\n",
       "      <td>11</td>\n",
       "      <td>Wilderness Voyager Windbreaker</td>\n",
       "      <td>612.0</td>\n",
       "    </tr>\n",
       "    <tr>\n",
       "      <th>7067</th>\n",
       "      <td>Tsvetnoy</td>\n",
       "      <td>11</td>\n",
       "      <td>Zenith Zephyr Zip-Up</td>\n",
       "      <td>738.0</td>\n",
       "    </tr>\n",
       "  </tbody>\n",
       "</table>\n",
       "<p>7068 rows × 4 columns</p>\n",
       "</div>"
      ],
      "text/plain": [
       "     store_name  month                     product_name  product_count\n",
       "0       Afimoll      1             Astral Ascent Anorak          364.0\n",
       "1       Afimoll      1           Aurora Borealis Jacket          386.0\n",
       "2       Afimoll      1                Azure Bliss Jeans          291.0\n",
       "3       Afimoll      1            Blossom Breeze Romper          328.0\n",
       "4       Afimoll      1            Celestial Silk Blouse          294.0\n",
       "...         ...    ...                              ...            ...\n",
       "7063   Tsvetnoy     11             Velvet Vortex Blazer          555.0\n",
       "7064   Tsvetnoy     11  Whispering Willow Palazzo Pants          603.0\n",
       "7065   Tsvetnoy     11     Wilderness Voyager Waistcoat          566.0\n",
       "7066   Tsvetnoy     11   Wilderness Voyager Windbreaker          612.0\n",
       "7067   Tsvetnoy     11             Zenith Zephyr Zip-Up          738.0\n",
       "\n",
       "[7068 rows x 4 columns]"
      ]
     },
     "execution_count": 242,
     "metadata": {},
     "output_type": "execute_result"
    }
   ],
   "source": [
    "top_products.groupby([\n",
    "    'store_name', 'month', 'product_name'], as_index=False).agg(\n",
    "    product_count=('product_count', np.mean)\n",
    ")"
   ]
  },
  {
   "cell_type": "markdown",
   "id": "cd4b7486",
   "metadata": {},
   "source": [
    "### Топ 10 самых популярных товаров"
   ]
  },
  {
   "cell_type": "code",
   "execution_count": 246,
   "id": "d9cfaaee",
   "metadata": {},
   "outputs": [
    {
     "data": {
      "text/html": [
       "<div>\n",
       "<style scoped>\n",
       "    .dataframe tbody tr th:only-of-type {\n",
       "        vertical-align: middle;\n",
       "    }\n",
       "\n",
       "    .dataframe tbody tr th {\n",
       "        vertical-align: top;\n",
       "    }\n",
       "\n",
       "    .dataframe thead th {\n",
       "        text-align: right;\n",
       "    }\n",
       "</style>\n",
       "<table border=\"1\" class=\"dataframe\">\n",
       "  <thead>\n",
       "    <tr style=\"text-align: right;\">\n",
       "      <th></th>\n",
       "      <th>product_name</th>\n",
       "      <th>product_count</th>\n",
       "    </tr>\n",
       "  </thead>\n",
       "  <tbody>\n",
       "    <tr>\n",
       "      <th>8</th>\n",
       "      <td>Crimson Cascade Crewneck</td>\n",
       "      <td>48072</td>\n",
       "    </tr>\n",
       "    <tr>\n",
       "      <th>56</th>\n",
       "      <td>Velvet Elegance Trousers</td>\n",
       "      <td>48002</td>\n",
       "    </tr>\n",
       "    <tr>\n",
       "      <th>45</th>\n",
       "      <td>Slate Solace Sweater</td>\n",
       "      <td>47983</td>\n",
       "    </tr>\n",
       "    <tr>\n",
       "      <th>2</th>\n",
       "      <td>Azure Bliss Jeans</td>\n",
       "      <td>47895</td>\n",
       "    </tr>\n",
       "    <tr>\n",
       "      <th>42</th>\n",
       "      <td>Savvy Summit Ski Jacket</td>\n",
       "      <td>47854</td>\n",
       "    </tr>\n",
       "    <tr>\n",
       "      <th>38</th>\n",
       "      <td>Radiant Raven Rugby Polo</td>\n",
       "      <td>47838</td>\n",
       "    </tr>\n",
       "    <tr>\n",
       "      <th>4</th>\n",
       "      <td>Celestial Silk Blouse</td>\n",
       "      <td>47790</td>\n",
       "    </tr>\n",
       "    <tr>\n",
       "      <th>39</th>\n",
       "      <td>Rogue Rendezvous Raincoat</td>\n",
       "      <td>47722</td>\n",
       "    </tr>\n",
       "    <tr>\n",
       "      <th>32</th>\n",
       "      <td>Onyx Overdrive Overcoat</td>\n",
       "      <td>47668</td>\n",
       "    </tr>\n",
       "    <tr>\n",
       "      <th>27</th>\n",
       "      <td>Nomad Nebula Henley</td>\n",
       "      <td>47656</td>\n",
       "    </tr>\n",
       "  </tbody>\n",
       "</table>\n",
       "</div>"
      ],
      "text/plain": [
       "                 product_name  product_count\n",
       "8    Crimson Cascade Crewneck          48072\n",
       "56   Velvet Elegance Trousers          48002\n",
       "45       Slate Solace Sweater          47983\n",
       "2           Azure Bliss Jeans          47895\n",
       "42    Savvy Summit Ski Jacket          47854\n",
       "38   Radiant Raven Rugby Polo          47838\n",
       "4       Celestial Silk Blouse          47790\n",
       "39  Rogue Rendezvous Raincoat          47722\n",
       "32    Onyx Overdrive Overcoat          47668\n",
       "27        Nomad Nebula Henley          47656"
      ]
     },
     "execution_count": 246,
     "metadata": {},
     "output_type": "execute_result"
    }
   ],
   "source": [
    "top_products.groupby(['product_name'], as_index=False).product_count.sum().sort_values(\n",
    "    by='product_count',\n",
    "    ascending=False\n",
    ")[:10]"
   ]
  },
  {
   "cell_type": "code",
   "execution_count": null,
   "id": "1428e689",
   "metadata": {},
   "outputs": [],
   "source": []
  }
 ],
 "metadata": {
  "kernelspec": {
   "display_name": "Python 3 (ipykernel)",
   "language": "python",
   "name": "python3"
  },
  "language_info": {
   "codemirror_mode": {
    "name": "ipython",
    "version": 3
   },
   "file_extension": ".py",
   "mimetype": "text/x-python",
   "name": "python",
   "nbconvert_exporter": "python",
   "pygments_lexer": "ipython3",
   "version": "3.10.9"
  }
 },
 "nbformat": 4,
 "nbformat_minor": 5
}
