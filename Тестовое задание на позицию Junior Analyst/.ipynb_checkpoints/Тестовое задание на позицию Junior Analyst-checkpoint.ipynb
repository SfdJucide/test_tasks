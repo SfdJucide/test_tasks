{
 "cells": [
  {
   "cell_type": "markdown",
   "id": "685c2ee3",
   "metadata": {},
   "source": [
    "# Тестовое задание на позицию Junior Analyst"
   ]
  },
  {
   "cell_type": "markdown",
   "id": "7fa5d7c7",
   "metadata": {},
   "source": [
    "## Содержание\n",
    "- [Вопросы](#1.-Вопросы)\n",
    "- [Задачи на логику](#2.-Задачи-на-логику)\n",
    "- [Техническое задание](#3.-Техническое-задание)"
   ]
  },
  {
   "cell_type": "markdown",
   "id": "33753561",
   "metadata": {},
   "source": [
    "### 1. Вопросы"
   ]
  },
  {
   "cell_type": "markdown",
   "id": "dab61494",
   "metadata": {},
   "source": [
    "**1) Как хорошо Вы владеете Python? Оцените свой уровень по шкале от 0 до 10,\n",
    "где 0 - совсем не знаю, 10 - владею в совершенстве.\n",
    "Объясните, почему Вы выбрали такой балл.**"
   ]
  },
  {
   "cell_type": "markdown",
   "id": "bcb4a294",
   "metadata": {},
   "source": [
    "**Уровень владения - (9 - 10)**\n",
    "\n",
    "Язык Python можно смело сказать знаю практически в совершенстве (но нет пределу совершенству): пишу на нем уже 3 года, владею различными его фишками и ООП, понимаю как он устроен изнутри, использовал большое количество библиотек как для анализа данных (NumPy, Pandas, plotly, scipy), так и для написания backend'а для сайтов - (Django), веб скраппинга - (beautifulsoup4, requests), телеграмм ботов - (aiogram) и машинного обучения (Scikit-learn)."
   ]
  },
  {
   "cell_type": "markdown",
   "id": "68256efc",
   "metadata": {},
   "source": [
    "**2) Насколько хорошо Вы знакомы с Google Sheets? Оцените свой уровень по\n",
    "шкале от 0 до 10, где 0 - совсем не знаю, 10 - владею в совершенстве.\n",
    "Объясните, почему Вы выбрали такой балл.**"
   ]
  },
  {
   "cell_type": "markdown",
   "id": "c2f39573",
   "metadata": {},
   "source": [
    "**Уровень владения - (6 - 7)**\n",
    "\n",
    "Проходил курс от Яндекс Практикума по работе с Excel/Google Sheets, работал на нем с многими агрегатными и логическими функциями, строил сводные таблицы и диаграммы, а так же оформлял интерактивные отчеты."
   ]
  },
  {
   "cell_type": "markdown",
   "id": "f6fdeca7",
   "metadata": {},
   "source": [
    "### 2. Задачи на логику"
   ]
  },
  {
   "cell_type": "markdown",
   "id": "cf83fb42",
   "metadata": {},
   "source": [
    "**1) Рекламная кампания стартовала вчера с дневным бюджетом 40 $. Половина\n",
    "бюджета была израсходована к полудню, а 80% оставшегося бюджета было\n",
    "потрачено между полуднем и временем закрытия. Сколько долларов не было\n",
    "потрачено?**"
   ]
  },
  {
   "cell_type": "markdown",
   "id": "1546675b",
   "metadata": {},
   "source": [
    "Начали с 40, к полудню осталась лишь половина - 20, так как 80% от 20 компания потратила то осталось - 20 * 0.2 = 4\n",
    "\n",
    "**Таким образом, не было потрачено 4 $**"
   ]
  },
  {
   "cell_type": "markdown",
   "id": "7b474527",
   "metadata": {},
   "source": [
    "**2) 5 идентичных рекламных кампаний работали 24 дня по 6 часов в день,\n",
    "потрачено было 120 долларов. Сколько дней они работали бы на 216 долларов,\n",
    "если бы 9 одинаковых кампаний работали бы по 8 часов в день?**"
   ]
  },
  {
   "cell_type": "markdown",
   "id": "a4150e0e",
   "metadata": {},
   "source": [
    "Если компании идентичны то и скорость их работы тоже, посмотрим сколько суммарно они проработали часов: \n",
    "\n",
    "24 * 6 * 5 = 720ч\n",
    "\n",
    "Найдем \"скорость траты средств\": 120 / 720 = 1/6\n",
    "\n",
    "Теперь подставим и найдем сколько дней им нужно с учетом нового графика: \n",
    "\n",
    "X * 8 * 9 * 1/6 = 216\n",
    "\n",
    "12x = 216\n",
    "\n",
    "x = 216/12 = 18\n",
    "\n",
    "**Получаем, что компании работали бы 18 дней**"
   ]
  },
  {
   "cell_type": "markdown",
   "id": "3cf10510",
   "metadata": {},
   "source": [
    "**3) Дизайнеры создали 200 рекламных баннеров для двух рекламных кампаний. 80\n",
    "из них не использовались ни в кампании No1, ни в кампании No2, 60\n",
    "использовались только в кампании No1. И для каждого рекламного баннера,\n",
    "который использовался в обеих кампаниях, приходится 3 баннера, которые\n",
    "использовались только в кампании No2. Сколько баннеров было использовано в\n",
    "обеих рекламных кампаниях?**"
   ]
  },
  {
   "cell_type": "markdown",
   "id": "142c8493",
   "metadata": {},
   "source": [
    "Всего 200 баннеров, среди них использовали лишь 120, половина из них использовалось только в первой компании. Получается, что остальные 60 баннеров были в использовании либо обеими, либо только второй компанией, возьмем их за 2 множества. При этом, второе множество больше первого в 3 раза.\n",
    "Возьмем первое множество за х:\n",
    "\n",
    "x + 3x = 60\n",
    "\n",
    "x = 60/4 = 15\n",
    "\n",
    "**В итоге, в обеих кампаниях ипользовалось 15 баннеров.**"
   ]
  },
  {
   "cell_type": "markdown",
   "id": "7a0614d9",
   "metadata": {},
   "source": [
    "**4) Энн использует Instagram, но не Facebook, а Джон использует Youtube и\n",
    "Facebook. Кейт использует Youtube, но не Instagram, а Том использует Facebook,\n",
    "но не Youtube. Если каждый человек использует две из трех социальных сетей,\n",
    "у кого предпочтения совпадают?**"
   ]
  },
  {
   "cell_type": "markdown",
   "id": "18d946e8",
   "metadata": {},
   "source": [
    "Так как каждый человек использует две из трех социальных сетей, то можно составить таблицу:\n",
    "\n",
    "|               |     Энн    |   Джон    |     Кейт    |    Том    |\n",
    "|---------------|------------|-----------|-------------|-----------|\n",
    "|   Использует  |  Instagram |  Youtube  |   Youtube   |  Facebook |\n",
    "|   Использует  |   Youtube  |  Facebook |   Facebook  | Instagram |\n",
    "| Не Использует |  Facebook  | Instagram |  Instagram  |  Youtube  |\n",
    "\n",
    "**Глядя на таблицу понятно, что у Джона и Кейт предпочтения полностью совпадают!**"
   ]
  },
  {
   "cell_type": "markdown",
   "id": "4af26af0",
   "metadata": {},
   "source": [
    "**5) Средний итоговый балл стажера по 4 модулям составляет 78 баллов. Сколько\n",
    "баллов должен получить стажер за 5-й модуль, чтобы средний балл по всему\n",
    "заданию составил 80?**"
   ]
  },
  {
   "cell_type": "markdown",
   "id": "af9ba9bc",
   "metadata": {},
   "source": [
    "Средний итоговый балл считается как\n",
    "\n",
    "$\\dfrac{\\text{сумма баллов}}{\\text{кол-во модулей}}$\n",
    "\n",
    "Тогда сумма баллов за 4 модуля = 78 * 4 = 312\n",
    "\n",
    "Возьмем за х - баллы за 5 модуль, тогда:\n",
    "\n",
    "$\\dfrac{312 + x}{5} = 80$\n",
    "\n",
    "x = 80 * 5 - 312 = 88\n",
    "\n",
    "**Стежер должен получить за 5-й модуль 88 баллов.**"
   ]
  },
  {
   "cell_type": "markdown",
   "id": "618ef948",
   "metadata": {},
   "source": [
    "**6) Заказанные в приложении товары доставляются на автомобиле. Автомобиль\n",
    "проезжает 260 км со средней скоростью 80 км / ч. На обратном пути машина\n",
    "движется со средней скоростью 100 км / ч. Насколько быстрее был обратный\n",
    "путь? Ответ указать в минутах.**"
   ]
  },
  {
   "cell_type": "markdown",
   "id": "795b4de2",
   "metadata": {},
   "source": [
    "На путь туда автомобиль потратил: 260 / 80 = 3,25ч * 60 = 195 минут\n",
    "\n",
    "На путь обратно: 260 / 100 = 2,6ч * 60 = 156 минут\n",
    "\n",
    "Разница: 195 - 156 = 39 минут (на 20% быстрее)\n",
    "\n",
    "**На обратный путь автомобиль потратил на 39 минут меньше чем на путь до заказа**"
   ]
  },
  {
   "cell_type": "markdown",
   "id": "134f3d8a",
   "metadata": {},
   "source": [
    "### 3. Техническое задание"
   ]
  },
  {
   "cell_type": "markdown",
   "id": "afbca180",
   "metadata": {},
   "source": [
    "Поля:\n",
    "- client_id - ID клиента;\n",
    "- sum – сумма денежных средств;\n",
    "- status – статус оплаты;\n",
    "- sale – менеджер, заключивший сделку;\n",
    "- new/current – статус сделки;\n",
    "- document – наличие оригинала подписанного договора с клиентом;\n",
    "- receiving_date – дата получения оригинала договора."
   ]
  },
  {
   "cell_type": "markdown",
   "id": "be706db8",
   "metadata": {},
   "source": [
    "#### Очистка данных"
   ]
  },
  {
   "cell_type": "code",
   "execution_count": 248,
   "id": "32a4dc0c",
   "metadata": {},
   "outputs": [
    {
     "data": {
      "text/plain": [
       "'Russian_Russia.1251'"
      ]
     },
     "execution_count": 248,
     "metadata": {},
     "output_type": "execute_result"
    }
   ],
   "source": [
    "import pandas as pd\n",
    "import numpy as np\n",
    "import seaborn as sns\n",
    "import matplotlib.pyplot as plt\n",
    "import locale\n",
    "\n",
    "sns.set_style('darkgrid')\n",
    "\n",
    "locale.setlocale(locale.LC_ALL, '') # для работы с русским языков в дате"
   ]
  },
  {
   "cell_type": "code",
   "execution_count": 249,
   "id": "6857fa37",
   "metadata": {},
   "outputs": [],
   "source": [
    "data = pd.read_excel('data.xlsx')"
   ]
  },
  {
   "cell_type": "code",
   "execution_count": 250,
   "id": "6505139a",
   "metadata": {},
   "outputs": [
    {
     "data": {
      "text/html": [
       "<div>\n",
       "<style scoped>\n",
       "    .dataframe tbody tr th:only-of-type {\n",
       "        vertical-align: middle;\n",
       "    }\n",
       "\n",
       "    .dataframe tbody tr th {\n",
       "        vertical-align: top;\n",
       "    }\n",
       "\n",
       "    .dataframe thead th {\n",
       "        text-align: right;\n",
       "    }\n",
       "</style>\n",
       "<table border=\"1\" class=\"dataframe\">\n",
       "  <thead>\n",
       "    <tr style=\"text-align: right;\">\n",
       "      <th></th>\n",
       "      <th>client_id</th>\n",
       "      <th>sum</th>\n",
       "      <th>status</th>\n",
       "      <th>sale</th>\n",
       "      <th>new/current</th>\n",
       "      <th>Unnamed: 5</th>\n",
       "      <th>document</th>\n",
       "      <th>receiving_date</th>\n",
       "    </tr>\n",
       "  </thead>\n",
       "  <tbody>\n",
       "    <tr>\n",
       "      <th>0</th>\n",
       "      <td>NaN</td>\n",
       "      <td>NaN</td>\n",
       "      <td>Май 2021</td>\n",
       "      <td>NaN</td>\n",
       "      <td>NaN</td>\n",
       "      <td>NaN</td>\n",
       "      <td>NaN</td>\n",
       "      <td>NaN</td>\n",
       "    </tr>\n",
       "    <tr>\n",
       "      <th>1</th>\n",
       "      <td>6.0</td>\n",
       "      <td>11693.7</td>\n",
       "      <td>ВНУТРЕННИЙ</td>\n",
       "      <td>-</td>\n",
       "      <td>-</td>\n",
       "      <td>NaN</td>\n",
       "      <td>-</td>\n",
       "      <td>-</td>\n",
       "    </tr>\n",
       "    <tr>\n",
       "      <th>2</th>\n",
       "      <td>14.0</td>\n",
       "      <td>5452.7</td>\n",
       "      <td>ОПЛАЧЕНО</td>\n",
       "      <td>Петрова</td>\n",
       "      <td>новая</td>\n",
       "      <td>NaN</td>\n",
       "      <td>оригинал</td>\n",
       "      <td>2021-07-26 00:00:00</td>\n",
       "    </tr>\n",
       "    <tr>\n",
       "      <th>3</th>\n",
       "      <td>15.0</td>\n",
       "      <td>13991.7</td>\n",
       "      <td>ОПЛАЧЕНО</td>\n",
       "      <td>Иванов</td>\n",
       "      <td>текущая</td>\n",
       "      <td>NaN</td>\n",
       "      <td>оригинал</td>\n",
       "      <td>2021-06-08 00:00:00</td>\n",
       "    </tr>\n",
       "    <tr>\n",
       "      <th>4</th>\n",
       "      <td>16.0</td>\n",
       "      <td>719.7</td>\n",
       "      <td>ОПЛАЧЕНО</td>\n",
       "      <td>Иванов</td>\n",
       "      <td>текущая</td>\n",
       "      <td>NaN</td>\n",
       "      <td>оригинал</td>\n",
       "      <td>2021-06-08 00:00:00</td>\n",
       "    </tr>\n",
       "  </tbody>\n",
       "</table>\n",
       "</div>"
      ],
      "text/plain": [
       "   client_id      sum      status     sale new/current  Unnamed: 5  document  \\\n",
       "0        NaN      NaN    Май 2021      NaN         NaN         NaN       NaN   \n",
       "1        6.0  11693.7  ВНУТРЕННИЙ        -           -         NaN         -   \n",
       "2       14.0   5452.7    ОПЛАЧЕНО  Петрова       новая         NaN  оригинал   \n",
       "3       15.0  13991.7    ОПЛАЧЕНО   Иванов     текущая         NaN  оригинал   \n",
       "4       16.0    719.7    ОПЛАЧЕНО   Иванов     текущая         NaN  оригинал   \n",
       "\n",
       "        receiving_date  \n",
       "0                  NaN  \n",
       "1                    -  \n",
       "2  2021-07-26 00:00:00  \n",
       "3  2021-06-08 00:00:00  \n",
       "4  2021-06-08 00:00:00  "
      ]
     },
     "execution_count": 250,
     "metadata": {},
     "output_type": "execute_result"
    }
   ],
   "source": [
    "data.head()"
   ]
  },
  {
   "cell_type": "markdown",
   "id": "3c25a661",
   "metadata": {},
   "source": [
    "Стрктура данных нарушена из-за указания месяцов посреди данных, необходимо исправить это и проставить месяца с годом отдельной колонкой"
   ]
  },
  {
   "cell_type": "code",
   "execution_count": 251,
   "id": "8234c49b",
   "metadata": {},
   "outputs": [
    {
     "data": {
      "text/plain": [
       "ОПЛАЧЕНО         622\n",
       "ПРОСРОЧЕНО        52\n",
       "В РАБОТЕ          44\n",
       "НА ПОДПИСАНИИ      5\n",
       "Май 2021           1\n",
       "ВНУТРЕННИЙ         1\n",
       "Июнь 2021          1\n",
       "Июль 2021          1\n",
       "Август 2021        1\n",
       "Сентябрь 2021      1\n",
       "Октябрь 2021       1\n",
       "Name: status, dtype: int64"
      ]
     },
     "execution_count": 251,
     "metadata": {},
     "output_type": "execute_result"
    }
   ],
   "source": [
    "data.status.value_counts()"
   ]
  },
  {
   "cell_type": "markdown",
   "id": "4cf603b4",
   "metadata": {},
   "source": [
    "Будем искать год в колонке статуса и на основании этого заполнять новый столбец"
   ]
  },
  {
   "cell_type": "code",
   "execution_count": 252,
   "id": "93427f33",
   "metadata": {},
   "outputs": [],
   "source": [
    "def has_numbers(input_str):\n",
    "    return pd.to_datetime(input_str, format='%B %Y').to_period('M') if any(char.isdigit() for char in input_str) else None"
   ]
  },
  {
   "cell_type": "code",
   "execution_count": 253,
   "id": "3740f6ef",
   "metadata": {},
   "outputs": [],
   "source": [
    "data['created_month'] = data['status'].apply(lambda x: has_numbers(x))\n",
    "data['created_month'] = data['created_month'].fillna(method='ffill')"
   ]
  },
  {
   "cell_type": "code",
   "execution_count": 254,
   "id": "ef3180f3",
   "metadata": {},
   "outputs": [
    {
     "data": {
      "text/html": [
       "<div>\n",
       "<style scoped>\n",
       "    .dataframe tbody tr th:only-of-type {\n",
       "        vertical-align: middle;\n",
       "    }\n",
       "\n",
       "    .dataframe tbody tr th {\n",
       "        vertical-align: top;\n",
       "    }\n",
       "\n",
       "    .dataframe thead th {\n",
       "        text-align: right;\n",
       "    }\n",
       "</style>\n",
       "<table border=\"1\" class=\"dataframe\">\n",
       "  <thead>\n",
       "    <tr style=\"text-align: right;\">\n",
       "      <th></th>\n",
       "      <th>client_id</th>\n",
       "      <th>sum</th>\n",
       "      <th>status</th>\n",
       "      <th>sale</th>\n",
       "      <th>new/current</th>\n",
       "      <th>Unnamed: 5</th>\n",
       "      <th>document</th>\n",
       "      <th>receiving_date</th>\n",
       "      <th>created_month</th>\n",
       "    </tr>\n",
       "  </thead>\n",
       "  <tbody>\n",
       "    <tr>\n",
       "      <th>0</th>\n",
       "      <td>NaN</td>\n",
       "      <td>NaN</td>\n",
       "      <td>Май 2021</td>\n",
       "      <td>NaN</td>\n",
       "      <td>NaN</td>\n",
       "      <td>NaN</td>\n",
       "      <td>NaN</td>\n",
       "      <td>NaN</td>\n",
       "      <td>2021-05</td>\n",
       "    </tr>\n",
       "    <tr>\n",
       "      <th>1</th>\n",
       "      <td>6.0</td>\n",
       "      <td>11693.7</td>\n",
       "      <td>ВНУТРЕННИЙ</td>\n",
       "      <td>-</td>\n",
       "      <td>-</td>\n",
       "      <td>NaN</td>\n",
       "      <td>-</td>\n",
       "      <td>-</td>\n",
       "      <td>2021-05</td>\n",
       "    </tr>\n",
       "    <tr>\n",
       "      <th>2</th>\n",
       "      <td>14.0</td>\n",
       "      <td>5452.7</td>\n",
       "      <td>ОПЛАЧЕНО</td>\n",
       "      <td>Петрова</td>\n",
       "      <td>новая</td>\n",
       "      <td>NaN</td>\n",
       "      <td>оригинал</td>\n",
       "      <td>2021-07-26 00:00:00</td>\n",
       "      <td>2021-05</td>\n",
       "    </tr>\n",
       "    <tr>\n",
       "      <th>3</th>\n",
       "      <td>15.0</td>\n",
       "      <td>13991.7</td>\n",
       "      <td>ОПЛАЧЕНО</td>\n",
       "      <td>Иванов</td>\n",
       "      <td>текущая</td>\n",
       "      <td>NaN</td>\n",
       "      <td>оригинал</td>\n",
       "      <td>2021-06-08 00:00:00</td>\n",
       "      <td>2021-05</td>\n",
       "    </tr>\n",
       "    <tr>\n",
       "      <th>4</th>\n",
       "      <td>16.0</td>\n",
       "      <td>719.7</td>\n",
       "      <td>ОПЛАЧЕНО</td>\n",
       "      <td>Иванов</td>\n",
       "      <td>текущая</td>\n",
       "      <td>NaN</td>\n",
       "      <td>оригинал</td>\n",
       "      <td>2021-06-08 00:00:00</td>\n",
       "      <td>2021-05</td>\n",
       "    </tr>\n",
       "  </tbody>\n",
       "</table>\n",
       "</div>"
      ],
      "text/plain": [
       "   client_id      sum      status     sale new/current  Unnamed: 5  document  \\\n",
       "0        NaN      NaN    Май 2021      NaN         NaN         NaN       NaN   \n",
       "1        6.0  11693.7  ВНУТРЕННИЙ        -           -         NaN         -   \n",
       "2       14.0   5452.7    ОПЛАЧЕНО  Петрова       новая         NaN  оригинал   \n",
       "3       15.0  13991.7    ОПЛАЧЕНО   Иванов     текущая         NaN  оригинал   \n",
       "4       16.0    719.7    ОПЛАЧЕНО   Иванов     текущая         NaN  оригинал   \n",
       "\n",
       "        receiving_date created_month  \n",
       "0                  NaN       2021-05  \n",
       "1                    -       2021-05  \n",
       "2  2021-07-26 00:00:00       2021-05  \n",
       "3  2021-06-08 00:00:00       2021-05  \n",
       "4  2021-06-08 00:00:00       2021-05  "
      ]
     },
     "execution_count": 254,
     "metadata": {},
     "output_type": "execute_result"
    }
   ],
   "source": [
    "data.head()"
   ]
  },
  {
   "cell_type": "markdown",
   "id": "d4e83d24",
   "metadata": {},
   "source": [
    "Теперь стоит удалить строки с указанием месяца в колонке статуса (эти строки не имеют client_id), а так же удалить лишний столбец"
   ]
  },
  {
   "cell_type": "code",
   "execution_count": 255,
   "id": "8dbbe74c",
   "metadata": {},
   "outputs": [],
   "source": [
    "data.drop(columns=['Unnamed: 5'], inplace=True)\n",
    "data.drop(index=data.query('client_id.isnull()', engine='python').index, inplace=True)\n",
    "data.replace('-', np.nan, inplace=True)"
   ]
  },
  {
   "cell_type": "markdown",
   "id": "ede2e894",
   "metadata": {},
   "source": [
    "Осталось привести все к нужным типам данных"
   ]
  },
  {
   "cell_type": "code",
   "execution_count": 256,
   "id": "b335c05a",
   "metadata": {},
   "outputs": [
    {
     "name": "stdout",
     "output_type": "stream",
     "text": [
      "<class 'pandas.core.frame.DataFrame'>\n",
      "Int64Index: 724 entries, 1 to 729\n",
      "Data columns (total 8 columns):\n",
      " #   Column          Non-Null Count  Dtype         \n",
      "---  ------          --------------  -----         \n",
      " 0   client_id       724 non-null    float64       \n",
      " 1   sum             724 non-null    float64       \n",
      " 2   status          724 non-null    object        \n",
      " 3   sale            723 non-null    object        \n",
      " 4   new/current     723 non-null    object        \n",
      " 5   document        708 non-null    object        \n",
      " 6   receiving_date  606 non-null    datetime64[ns]\n",
      " 7   created_month   724 non-null    period[M]     \n",
      "dtypes: datetime64[ns](1), float64(2), object(4), period[M](1)\n",
      "memory usage: 50.9+ KB\n"
     ]
    }
   ],
   "source": [
    "data.info()"
   ]
  },
  {
   "cell_type": "code",
   "execution_count": 257,
   "id": "f87cf7b5",
   "metadata": {},
   "outputs": [],
   "source": [
    "data.client_id = data.client_id.astype(int)"
   ]
  },
  {
   "cell_type": "code",
   "execution_count": 258,
   "id": "aeeb1336",
   "metadata": {},
   "outputs": [
    {
     "data": {
      "text/html": [
       "<div>\n",
       "<style scoped>\n",
       "    .dataframe tbody tr th:only-of-type {\n",
       "        vertical-align: middle;\n",
       "    }\n",
       "\n",
       "    .dataframe tbody tr th {\n",
       "        vertical-align: top;\n",
       "    }\n",
       "\n",
       "    .dataframe thead th {\n",
       "        text-align: right;\n",
       "    }\n",
       "</style>\n",
       "<table border=\"1\" class=\"dataframe\">\n",
       "  <thead>\n",
       "    <tr style=\"text-align: right;\">\n",
       "      <th></th>\n",
       "      <th>client_id</th>\n",
       "      <th>sum</th>\n",
       "      <th>status</th>\n",
       "      <th>sale</th>\n",
       "      <th>new/current</th>\n",
       "      <th>document</th>\n",
       "      <th>receiving_date</th>\n",
       "      <th>created_month</th>\n",
       "    </tr>\n",
       "  </thead>\n",
       "  <tbody>\n",
       "    <tr>\n",
       "      <th>1</th>\n",
       "      <td>6</td>\n",
       "      <td>11693.7</td>\n",
       "      <td>ВНУТРЕННИЙ</td>\n",
       "      <td>NaN</td>\n",
       "      <td>NaN</td>\n",
       "      <td>NaN</td>\n",
       "      <td>NaT</td>\n",
       "      <td>2021-05</td>\n",
       "    </tr>\n",
       "    <tr>\n",
       "      <th>2</th>\n",
       "      <td>14</td>\n",
       "      <td>5452.7</td>\n",
       "      <td>ОПЛАЧЕНО</td>\n",
       "      <td>Петрова</td>\n",
       "      <td>новая</td>\n",
       "      <td>оригинал</td>\n",
       "      <td>2021-07-26</td>\n",
       "      <td>2021-05</td>\n",
       "    </tr>\n",
       "    <tr>\n",
       "      <th>3</th>\n",
       "      <td>15</td>\n",
       "      <td>13991.7</td>\n",
       "      <td>ОПЛАЧЕНО</td>\n",
       "      <td>Иванов</td>\n",
       "      <td>текущая</td>\n",
       "      <td>оригинал</td>\n",
       "      <td>2021-06-08</td>\n",
       "      <td>2021-05</td>\n",
       "    </tr>\n",
       "    <tr>\n",
       "      <th>4</th>\n",
       "      <td>16</td>\n",
       "      <td>719.7</td>\n",
       "      <td>ОПЛАЧЕНО</td>\n",
       "      <td>Иванов</td>\n",
       "      <td>текущая</td>\n",
       "      <td>оригинал</td>\n",
       "      <td>2021-06-08</td>\n",
       "      <td>2021-05</td>\n",
       "    </tr>\n",
       "    <tr>\n",
       "      <th>5</th>\n",
       "      <td>18</td>\n",
       "      <td>4253.7</td>\n",
       "      <td>ОПЛАЧЕНО</td>\n",
       "      <td>Иванов</td>\n",
       "      <td>текущая</td>\n",
       "      <td>оригинал</td>\n",
       "      <td>2021-07-07</td>\n",
       "      <td>2021-05</td>\n",
       "    </tr>\n",
       "    <tr>\n",
       "      <th>...</th>\n",
       "      <td>...</td>\n",
       "      <td>...</td>\n",
       "      <td>...</td>\n",
       "      <td>...</td>\n",
       "      <td>...</td>\n",
       "      <td>...</td>\n",
       "      <td>...</td>\n",
       "      <td>...</td>\n",
       "    </tr>\n",
       "    <tr>\n",
       "      <th>725</th>\n",
       "      <td>285</td>\n",
       "      <td>4328.7</td>\n",
       "      <td>ОПЛАЧЕНО</td>\n",
       "      <td>Васильев</td>\n",
       "      <td>текущая</td>\n",
       "      <td>оригинал</td>\n",
       "      <td>2021-11-15</td>\n",
       "      <td>2021-10</td>\n",
       "    </tr>\n",
       "    <tr>\n",
       "      <th>726</th>\n",
       "      <td>360</td>\n",
       "      <td>3096.2</td>\n",
       "      <td>ОПЛАЧЕНО</td>\n",
       "      <td>Васильев</td>\n",
       "      <td>новая</td>\n",
       "      <td>НЕТ</td>\n",
       "      <td>NaT</td>\n",
       "      <td>2021-10</td>\n",
       "    </tr>\n",
       "    <tr>\n",
       "      <th>727</th>\n",
       "      <td>360</td>\n",
       "      <td>3096.2</td>\n",
       "      <td>ПРОСРОЧЕНО</td>\n",
       "      <td>Васильев</td>\n",
       "      <td>новая</td>\n",
       "      <td>НЕТ</td>\n",
       "      <td>NaT</td>\n",
       "      <td>2021-10</td>\n",
       "    </tr>\n",
       "    <tr>\n",
       "      <th>728</th>\n",
       "      <td>373</td>\n",
       "      <td>4403.7</td>\n",
       "      <td>ОПЛАЧЕНО</td>\n",
       "      <td>Михайлов</td>\n",
       "      <td>новая</td>\n",
       "      <td>оригинал</td>\n",
       "      <td>2021-11-08</td>\n",
       "      <td>2021-10</td>\n",
       "    </tr>\n",
       "    <tr>\n",
       "      <th>729</th>\n",
       "      <td>286</td>\n",
       "      <td>3978.7</td>\n",
       "      <td>ОПЛАЧЕНО</td>\n",
       "      <td>Филимонова</td>\n",
       "      <td>текущая</td>\n",
       "      <td>оригинал</td>\n",
       "      <td>2021-11-15</td>\n",
       "      <td>2021-10</td>\n",
       "    </tr>\n",
       "  </tbody>\n",
       "</table>\n",
       "<p>724 rows × 8 columns</p>\n",
       "</div>"
      ],
      "text/plain": [
       "     client_id      sum      status        sale new/current  document  \\\n",
       "1            6  11693.7  ВНУТРЕННИЙ         NaN         NaN       NaN   \n",
       "2           14   5452.7    ОПЛАЧЕНО     Петрова       новая  оригинал   \n",
       "3           15  13991.7    ОПЛАЧЕНО      Иванов     текущая  оригинал   \n",
       "4           16    719.7    ОПЛАЧЕНО      Иванов     текущая  оригинал   \n",
       "5           18   4253.7    ОПЛАЧЕНО      Иванов     текущая  оригинал   \n",
       "..         ...      ...         ...         ...         ...       ...   \n",
       "725        285   4328.7    ОПЛАЧЕНО    Васильев     текущая  оригинал   \n",
       "726        360   3096.2    ОПЛАЧЕНО    Васильев       новая       НЕТ   \n",
       "727        360   3096.2  ПРОСРОЧЕНО    Васильев       новая       НЕТ   \n",
       "728        373   4403.7    ОПЛАЧЕНО    Михайлов       новая  оригинал   \n",
       "729        286   3978.7    ОПЛАЧЕНО  Филимонова     текущая  оригинал   \n",
       "\n",
       "    receiving_date created_month  \n",
       "1              NaT       2021-05  \n",
       "2       2021-07-26       2021-05  \n",
       "3       2021-06-08       2021-05  \n",
       "4       2021-06-08       2021-05  \n",
       "5       2021-07-07       2021-05  \n",
       "..             ...           ...  \n",
       "725     2021-11-15       2021-10  \n",
       "726            NaT       2021-10  \n",
       "727            NaT       2021-10  \n",
       "728     2021-11-08       2021-10  \n",
       "729     2021-11-15       2021-10  \n",
       "\n",
       "[724 rows x 8 columns]"
      ]
     },
     "execution_count": 258,
     "metadata": {},
     "output_type": "execute_result"
    }
   ],
   "source": [
    "data"
   ]
  },
  {
   "cell_type": "markdown",
   "id": "ba1292ab",
   "metadata": {},
   "source": [
    "С полученным, очищенным датафреймом будет намного легче работать"
   ]
  },
  {
   "cell_type": "markdown",
   "id": "f9e07586",
   "metadata": {},
   "source": [
    "#### Ответы на вопросы"
   ]
  },
  {
   "cell_type": "markdown",
   "id": "b76f4f06",
   "metadata": {},
   "source": [
    "**1) Вычислите общую выручку за июль 2021 по тем сделкам, приход денежных\n",
    "средств которых не просрочен.**"
   ]
  },
  {
   "cell_type": "code",
   "execution_count": 259,
   "id": "1addd50c",
   "metadata": {},
   "outputs": [
    {
     "data": {
      "text/plain": [
       "859896.5"
      ]
     },
     "execution_count": 259,
     "metadata": {},
     "output_type": "execute_result"
    }
   ],
   "source": [
    "np.round(data[(data['created_month'] == '2021-07') & (data['status'] != 'ПРОСРОЧЕНО')]['sum'].sum(), 1)"
   ]
  },
  {
   "cell_type": "markdown",
   "id": "d43be549",
   "metadata": {},
   "source": [
    "Общая выручка за июль 2021 по непросроченным сделкам составила **859 896.5**"
   ]
  },
  {
   "cell_type": "markdown",
   "id": "96b777fd",
   "metadata": {},
   "source": [
    "**2) Как изменялась выручка компании за рассматриваемый период?\n",
    "Проиллюстрируйте графиком.**"
   ]
  },
  {
   "cell_type": "markdown",
   "id": "3d20f3f9",
   "metadata": {},
   "source": [
    "Посмотрим на изменение месячной выручки"
   ]
  },
  {
   "cell_type": "code",
   "execution_count": 260,
   "id": "b9726df8",
   "metadata": {},
   "outputs": [
    {
     "data": {
      "text/html": [
       "<style type=\"text/css\">\n",
       "</style>\n",
       "<table id=\"T_2682f\">\n",
       "  <thead>\n",
       "    <tr>\n",
       "      <th class=\"blank level0\" >&nbsp;</th>\n",
       "      <th id=\"T_2682f_level0_col0\" class=\"col_heading level0 col0\" >created_month</th>\n",
       "      <th id=\"T_2682f_level0_col1\" class=\"col_heading level0 col1\" >total_revenue</th>\n",
       "      <th id=\"T_2682f_level0_col2\" class=\"col_heading level0 col2\" >mean_revenue</th>\n",
       "    </tr>\n",
       "  </thead>\n",
       "  <tbody>\n",
       "    <tr>\n",
       "      <th id=\"T_2682f_level0_row0\" class=\"row_heading level0 row0\" >0</th>\n",
       "      <td id=\"T_2682f_row0_col0\" class=\"data row0 col0\" >2021-05</td>\n",
       "      <td id=\"T_2682f_row0_col1\" class=\"data row0 col1\" >809 572.19</td>\n",
       "      <td id=\"T_2682f_row0_col2\" class=\"data row0 col2\" >6 324.78</td>\n",
       "    </tr>\n",
       "    <tr>\n",
       "      <th id=\"T_2682f_level0_row1\" class=\"row_heading level0 row1\" >1</th>\n",
       "      <td id=\"T_2682f_row1_col0\" class=\"data row1 col0\" >2021-06</td>\n",
       "      <td id=\"T_2682f_row1_col1\" class=\"data row1 col1\" >810 266.11</td>\n",
       "      <td id=\"T_2682f_row1_col2\" class=\"data row1 col2\" >6 330.20</td>\n",
       "    </tr>\n",
       "    <tr>\n",
       "      <th id=\"T_2682f_level0_row2\" class=\"row_heading level0 row2\" >2</th>\n",
       "      <td id=\"T_2682f_row2_col0\" class=\"data row2 col0\" >2021-07</td>\n",
       "      <td id=\"T_2682f_row2_col1\" class=\"data row2 col1\" >861 874.17</td>\n",
       "      <td id=\"T_2682f_row2_col2\" class=\"data row2 col2\" >7 835.22</td>\n",
       "    </tr>\n",
       "    <tr>\n",
       "      <th id=\"T_2682f_level0_row3\" class=\"row_heading level0 row3\" >3</th>\n",
       "      <td id=\"T_2682f_row3_col0\" class=\"data row3 col0\" >2021-08</td>\n",
       "      <td id=\"T_2682f_row3_col1\" class=\"data row3 col1\" >850 435.79</td>\n",
       "      <td id=\"T_2682f_row3_col2\" class=\"data row3 col2\" >7 459.96</td>\n",
       "    </tr>\n",
       "    <tr>\n",
       "      <th id=\"T_2682f_level0_row4\" class=\"row_heading level0 row4\" >4</th>\n",
       "      <td id=\"T_2682f_row4_col0\" class=\"data row4 col0\" >2021-09</td>\n",
       "      <td id=\"T_2682f_row4_col1\" class=\"data row4 col1\" >820 383.78</td>\n",
       "      <td id=\"T_2682f_row4_col2\" class=\"data row4 col2\" >7 526.46</td>\n",
       "    </tr>\n",
       "    <tr>\n",
       "      <th id=\"T_2682f_level0_row5\" class=\"row_heading level0 row5\" >5</th>\n",
       "      <td id=\"T_2682f_row5_col0\" class=\"data row5 col0\" >2021-10</td>\n",
       "      <td id=\"T_2682f_row5_col1\" class=\"data row5 col1\" >1 033 148.39</td>\n",
       "      <td id=\"T_2682f_row5_col2\" class=\"data row5 col2\" >7 652.95</td>\n",
       "    </tr>\n",
       "  </tbody>\n",
       "</table>\n"
      ],
      "text/plain": [
       "<pandas.io.formats.style.Styler at 0x1ab14c07b80>"
      ]
     },
     "execution_count": 260,
     "metadata": {},
     "output_type": "execute_result"
    }
   ],
   "source": [
    "revenue_info_by_month = data.groupby('created_month', as_index=False)['sum'].agg({\n",
    "    'total_revenue': np.sum,\n",
    "    'mean_revenue': np.mean\n",
    "})\n",
    "revenue_info_by_month.style \\\n",
    ".format(precision=2, thousands=\" \", decimal=\".\")"
   ]
  },
  {
   "cell_type": "code",
   "execution_count": 261,
   "id": "f5590eee",
   "metadata": {},
   "outputs": [
    {
     "data": {
      "image/png": "[encoded data removed]",
      "text/plain": [
       "<Figure size 900x1000 with 2 Axes>"
      ]
     },
     "metadata": {},
     "output_type": "display_data"
    }
   ],
   "source": [
    "fig, axes = plt.subplots(2, 1, figsize=(9,10))\n",
    "sns.lineplot(\n",
    "    data=revenue_info_by_month,\n",
    "    x=revenue_info_by_month['created_month'].astype(str),\n",
    "    y='total_revenue',\n",
    "    ax=axes[0],\n",
    ").set_title(\"Суммарная выручка за месяц\")\n",
    "\n",
    "sns.lineplot(\n",
    "    data=revenue_info_by_month,\n",
    "    x=revenue_info_by_month['created_month'].astype(str),\n",
    "    y='mean_revenue',\n",
    "    ax=axes[1]\n",
    ").set_title(\"Средняя выручка за месяц\")\n",
    "fig.tight_layout()"
   ]
  },
  {
   "cell_type": "markdown",
   "id": "0217ccea",
   "metadata": {},
   "source": [
    "Судя по графикам, такой скачок суммарной выручки в октябре связан именно с увеличением количества сделок, а вот в июле увеличилась как средняя, так и суммарная выручка"
   ]
  },
  {
   "cell_type": "markdown",
   "id": "a291109c",
   "metadata": {},
   "source": [
    "**3) Кто из менеджеров привлек для компании больше всего денежных средств в\n",
    "сентябре 2021?**"
   ]
  },
  {
   "cell_type": "code",
   "execution_count": 262,
   "id": "c81e1c06",
   "metadata": {},
   "outputs": [
    {
     "data": {
      "text/html": [
       "<div>\n",
       "<style scoped>\n",
       "    .dataframe tbody tr th:only-of-type {\n",
       "        vertical-align: middle;\n",
       "    }\n",
       "\n",
       "    .dataframe tbody tr th {\n",
       "        vertical-align: top;\n",
       "    }\n",
       "\n",
       "    .dataframe thead th {\n",
       "        text-align: right;\n",
       "    }\n",
       "</style>\n",
       "<table border=\"1\" class=\"dataframe\">\n",
       "  <thead>\n",
       "    <tr style=\"text-align: right;\">\n",
       "      <th></th>\n",
       "      <th>client_id</th>\n",
       "      <th>sum</th>\n",
       "      <th>status</th>\n",
       "      <th>sale</th>\n",
       "      <th>new/current</th>\n",
       "      <th>document</th>\n",
       "      <th>receiving_date</th>\n",
       "      <th>created_month</th>\n",
       "    </tr>\n",
       "  </thead>\n",
       "  <tbody>\n",
       "    <tr>\n",
       "      <th>485</th>\n",
       "      <td>15</td>\n",
       "      <td>14288.7</td>\n",
       "      <td>ОПЛАЧЕНО</td>\n",
       "      <td>Иванов</td>\n",
       "      <td>текущая</td>\n",
       "      <td>оригинал</td>\n",
       "      <td>2021-10-08</td>\n",
       "      <td>2021-09</td>\n",
       "    </tr>\n",
       "    <tr>\n",
       "      <th>486</th>\n",
       "      <td>16</td>\n",
       "      <td>1494.0</td>\n",
       "      <td>ОПЛАЧЕНО</td>\n",
       "      <td>Иванов</td>\n",
       "      <td>текущая</td>\n",
       "      <td>оригинал</td>\n",
       "      <td>2021-10-08</td>\n",
       "      <td>2021-09</td>\n",
       "    </tr>\n",
       "    <tr>\n",
       "      <th>487</th>\n",
       "      <td>21</td>\n",
       "      <td>893.7</td>\n",
       "      <td>ОПЛАЧЕНО</td>\n",
       "      <td>Кузнецова</td>\n",
       "      <td>текущая</td>\n",
       "      <td>оригинал</td>\n",
       "      <td>2021-10-20</td>\n",
       "      <td>2021-09</td>\n",
       "    </tr>\n",
       "    <tr>\n",
       "      <th>488</th>\n",
       "      <td>24</td>\n",
       "      <td>18142.7</td>\n",
       "      <td>ОПЛАЧЕНО</td>\n",
       "      <td>Андреев</td>\n",
       "      <td>текущая</td>\n",
       "      <td>NaN</td>\n",
       "      <td>2021-10-15</td>\n",
       "      <td>2021-09</td>\n",
       "    </tr>\n",
       "    <tr>\n",
       "      <th>489</th>\n",
       "      <td>30</td>\n",
       "      <td>3833.7</td>\n",
       "      <td>В РАБОТЕ</td>\n",
       "      <td>Филимонова</td>\n",
       "      <td>текущая</td>\n",
       "      <td>NaN</td>\n",
       "      <td>NaT</td>\n",
       "      <td>2021-09</td>\n",
       "    </tr>\n",
       "  </tbody>\n",
       "</table>\n",
       "</div>"
      ],
      "text/plain": [
       "     client_id      sum    status        sale new/current  document  \\\n",
       "485         15  14288.7  ОПЛАЧЕНО      Иванов     текущая  оригинал   \n",
       "486         16   1494.0  ОПЛАЧЕНО      Иванов     текущая  оригинал   \n",
       "487         21    893.7  ОПЛАЧЕНО   Кузнецова     текущая  оригинал   \n",
       "488         24  18142.7  ОПЛАЧЕНО     Андреев     текущая       NaN   \n",
       "489         30   3833.7  В РАБОТЕ  Филимонова     текущая       NaN   \n",
       "\n",
       "    receiving_date created_month  \n",
       "485     2021-10-08       2021-09  \n",
       "486     2021-10-08       2021-09  \n",
       "487     2021-10-20       2021-09  \n",
       "488     2021-10-15       2021-09  \n",
       "489            NaT       2021-09  "
      ]
     },
     "execution_count": 262,
     "metadata": {},
     "output_type": "execute_result"
    }
   ],
   "source": [
    "september_data = data[(data['created_month'] == '2021-09')]\n",
    "september_data.head()"
   ]
  },
  {
   "cell_type": "code",
   "execution_count": 263,
   "id": "909aa523",
   "metadata": {},
   "outputs": [
    {
     "data": {
      "text/html": [
       "<style type=\"text/css\">\n",
       "</style>\n",
       "<table id=\"T_233c5\">\n",
       "  <thead>\n",
       "    <tr>\n",
       "      <th class=\"blank level0\" >&nbsp;</th>\n",
       "      <th id=\"T_233c5_level0_col0\" class=\"col_heading level0 col0\" >sale</th>\n",
       "      <th id=\"T_233c5_level0_col1\" class=\"col_heading level0 col1\" >total_revenue</th>\n",
       "    </tr>\n",
       "  </thead>\n",
       "  <tbody>\n",
       "    <tr>\n",
       "      <th id=\"T_233c5_level0_row0\" class=\"row_heading level0 row0\" >6</th>\n",
       "      <td id=\"T_233c5_row0_col0\" class=\"data row0 col0\" >Смирнов</td>\n",
       "      <td id=\"T_233c5_row0_col1\" class=\"data row0 col1\" >221 525.70</td>\n",
       "    </tr>\n",
       "    <tr>\n",
       "      <th id=\"T_233c5_level0_row1\" class=\"row_heading level0 row1\" >5</th>\n",
       "      <td id=\"T_233c5_row1_col0\" class=\"data row1 col0\" >Петрова</td>\n",
       "      <td id=\"T_233c5_row1_col1\" class=\"data row1 col1\" >149 344.46</td>\n",
       "    </tr>\n",
       "    <tr>\n",
       "      <th id=\"T_233c5_level0_row2\" class=\"row_heading level0 row2\" >0</th>\n",
       "      <td id=\"T_233c5_row2_col0\" class=\"data row2 col0\" >Андреев</td>\n",
       "      <td id=\"T_233c5_row2_col1\" class=\"data row2 col1\" >133 652.50</td>\n",
       "    </tr>\n",
       "    <tr>\n",
       "      <th id=\"T_233c5_level0_row3\" class=\"row_heading level0 row3\" >2</th>\n",
       "      <td id=\"T_233c5_row3_col0\" class=\"data row3 col0\" >Иванов</td>\n",
       "      <td id=\"T_233c5_row3_col1\" class=\"data row3 col1\" >94 770.60</td>\n",
       "    </tr>\n",
       "    <tr>\n",
       "      <th id=\"T_233c5_level0_row4\" class=\"row_heading level0 row4\" >3</th>\n",
       "      <td id=\"T_233c5_row4_col0\" class=\"data row4 col0\" >Кузнецова</td>\n",
       "      <td id=\"T_233c5_row4_col1\" class=\"data row4 col1\" >72 228.40</td>\n",
       "    </tr>\n",
       "    <tr>\n",
       "      <th id=\"T_233c5_level0_row5\" class=\"row_heading level0 row5\" >8</th>\n",
       "      <td id=\"T_233c5_row5_col0\" class=\"data row5 col0\" >Филимонова</td>\n",
       "      <td id=\"T_233c5_row5_col1\" class=\"data row5 col1\" >59 514.47</td>\n",
       "    </tr>\n",
       "    <tr>\n",
       "      <th id=\"T_233c5_level0_row6\" class=\"row_heading level0 row6\" >1</th>\n",
       "      <td id=\"T_233c5_row6_col0\" class=\"data row6 col0\" >Васильев</td>\n",
       "      <td id=\"T_233c5_row6_col1\" class=\"data row6 col1\" >49 895.45</td>\n",
       "    </tr>\n",
       "    <tr>\n",
       "      <th id=\"T_233c5_level0_row7\" class=\"row_heading level0 row7\" >7</th>\n",
       "      <td id=\"T_233c5_row7_col0\" class=\"data row7 col0\" >Соколов</td>\n",
       "      <td id=\"T_233c5_row7_col1\" class=\"data row7 col1\" >35 183.50</td>\n",
       "    </tr>\n",
       "    <tr>\n",
       "      <th id=\"T_233c5_level0_row8\" class=\"row_heading level0 row8\" >4</th>\n",
       "      <td id=\"T_233c5_row8_col0\" class=\"data row8 col0\" >Михайлов</td>\n",
       "      <td id=\"T_233c5_row8_col1\" class=\"data row8 col1\" >4 268.70</td>\n",
       "    </tr>\n",
       "  </tbody>\n",
       "</table>\n"
      ],
      "text/plain": [
       "<pandas.io.formats.style.Styler at 0x1ab13ddd2d0>"
      ]
     },
     "execution_count": 263,
     "metadata": {},
     "output_type": "execute_result"
    }
   ],
   "source": [
    "september_data.groupby('sale', as_index=False)['sum'].agg({\n",
    "    'total_revenue': np.sum\n",
    "}).sort_values(by='total_revenue', ascending=False).style \\\n",
    ".format(precision=2, thousands=\" \", decimal=\".\")"
   ]
  },
  {
   "cell_type": "markdown",
   "id": "3e684d97",
   "metadata": {},
   "source": [
    "В сентябре 2021 больше всего денежных средств привлек **Смирнов - 221 525.7**"
   ]
  },
  {
   "cell_type": "markdown",
   "id": "dc7d9217",
   "metadata": {},
   "source": [
    "**4) Какой тип сделок (новая/текущая) был преобладающим в октябре 2021?**"
   ]
  },
  {
   "cell_type": "code",
   "execution_count": 264,
   "id": "0c12f9fe",
   "metadata": {},
   "outputs": [
    {
     "data": {
      "text/html": [
       "<div>\n",
       "<style scoped>\n",
       "    .dataframe tbody tr th:only-of-type {\n",
       "        vertical-align: middle;\n",
       "    }\n",
       "\n",
       "    .dataframe tbody tr th {\n",
       "        vertical-align: top;\n",
       "    }\n",
       "\n",
       "    .dataframe thead th {\n",
       "        text-align: right;\n",
       "    }\n",
       "</style>\n",
       "<table border=\"1\" class=\"dataframe\">\n",
       "  <thead>\n",
       "    <tr style=\"text-align: right;\">\n",
       "      <th></th>\n",
       "      <th>client_id</th>\n",
       "      <th>sum</th>\n",
       "      <th>status</th>\n",
       "      <th>sale</th>\n",
       "      <th>new/current</th>\n",
       "      <th>document</th>\n",
       "      <th>receiving_date</th>\n",
       "      <th>created_month</th>\n",
       "    </tr>\n",
       "  </thead>\n",
       "  <tbody>\n",
       "    <tr>\n",
       "      <th>595</th>\n",
       "      <td>15</td>\n",
       "      <td>14591.7</td>\n",
       "      <td>В РАБОТЕ</td>\n",
       "      <td>Иванов</td>\n",
       "      <td>текущая</td>\n",
       "      <td>оригинал</td>\n",
       "      <td>2021-11-11</td>\n",
       "      <td>2021-10</td>\n",
       "    </tr>\n",
       "    <tr>\n",
       "      <th>596</th>\n",
       "      <td>16</td>\n",
       "      <td>1291.7</td>\n",
       "      <td>В РАБОТЕ</td>\n",
       "      <td>Иванов</td>\n",
       "      <td>текущая</td>\n",
       "      <td>оригинал</td>\n",
       "      <td>2021-11-11</td>\n",
       "      <td>2021-10</td>\n",
       "    </tr>\n",
       "    <tr>\n",
       "      <th>597</th>\n",
       "      <td>379</td>\n",
       "      <td>6063.7</td>\n",
       "      <td>В РАБОТЕ</td>\n",
       "      <td>Иванов</td>\n",
       "      <td>новая</td>\n",
       "      <td>оригинал</td>\n",
       "      <td>2021-11-11</td>\n",
       "      <td>2021-10</td>\n",
       "    </tr>\n",
       "    <tr>\n",
       "      <th>598</th>\n",
       "      <td>24</td>\n",
       "      <td>18592.7</td>\n",
       "      <td>ОПЛАЧЕНО</td>\n",
       "      <td>Андреев</td>\n",
       "      <td>текущая</td>\n",
       "      <td>оригинал</td>\n",
       "      <td>2021-11-12</td>\n",
       "      <td>2021-10</td>\n",
       "    </tr>\n",
       "    <tr>\n",
       "      <th>599</th>\n",
       "      <td>24</td>\n",
       "      <td>1453.7</td>\n",
       "      <td>ОПЛАЧЕНО</td>\n",
       "      <td>Андреев</td>\n",
       "      <td>текущая</td>\n",
       "      <td>оригинал</td>\n",
       "      <td>2021-11-12</td>\n",
       "      <td>2021-10</td>\n",
       "    </tr>\n",
       "  </tbody>\n",
       "</table>\n",
       "</div>"
      ],
      "text/plain": [
       "     client_id      sum    status     sale new/current  document  \\\n",
       "595         15  14591.7  В РАБОТЕ   Иванов     текущая  оригинал   \n",
       "596         16   1291.7  В РАБОТЕ   Иванов     текущая  оригинал   \n",
       "597        379   6063.7  В РАБОТЕ   Иванов       новая  оригинал   \n",
       "598         24  18592.7  ОПЛАЧЕНО  Андреев     текущая  оригинал   \n",
       "599         24   1453.7  ОПЛАЧЕНО  Андреев     текущая  оригинал   \n",
       "\n",
       "    receiving_date created_month  \n",
       "595     2021-11-11       2021-10  \n",
       "596     2021-11-11       2021-10  \n",
       "597     2021-11-11       2021-10  \n",
       "598     2021-11-12       2021-10  \n",
       "599     2021-11-12       2021-10  "
      ]
     },
     "execution_count": 264,
     "metadata": {},
     "output_type": "execute_result"
    }
   ],
   "source": [
    "october_data = data[(data['created_month'] == '2021-10')]\n",
    "october_data.head()"
   ]
  },
  {
   "cell_type": "code",
   "execution_count": 265,
   "id": "51419d2b",
   "metadata": {},
   "outputs": [
    {
     "data": {
      "text/plain": [
       "текущая    99\n",
       "новая      36\n",
       "Name: new/current, dtype: int64"
      ]
     },
     "execution_count": 265,
     "metadata": {},
     "output_type": "execute_result"
    }
   ],
   "source": [
    "october_data['new/current'].value_counts()"
   ]
  },
  {
   "cell_type": "markdown",
   "id": "ea6837aa",
   "metadata": {},
   "source": [
    "В октябре 2021 преобладающим был тип сделок - **текущая** (~73% от всех сделок)"
   ]
  },
  {
   "cell_type": "markdown",
   "id": "20aae7f0",
   "metadata": {},
   "source": [
    "**5) Сколько оригиналов договора по майским сделкам было получено в июне 2021?**"
   ]
  },
  {
   "cell_type": "code",
   "execution_count": 266,
   "id": "398a3169",
   "metadata": {},
   "outputs": [
    {
     "data": {
      "text/html": [
       "<div>\n",
       "<style scoped>\n",
       "    .dataframe tbody tr th:only-of-type {\n",
       "        vertical-align: middle;\n",
       "    }\n",
       "\n",
       "    .dataframe tbody tr th {\n",
       "        vertical-align: top;\n",
       "    }\n",
       "\n",
       "    .dataframe thead th {\n",
       "        text-align: right;\n",
       "    }\n",
       "</style>\n",
       "<table border=\"1\" class=\"dataframe\">\n",
       "  <thead>\n",
       "    <tr style=\"text-align: right;\">\n",
       "      <th></th>\n",
       "      <th>client_id</th>\n",
       "      <th>sum</th>\n",
       "      <th>status</th>\n",
       "      <th>sale</th>\n",
       "      <th>new/current</th>\n",
       "      <th>document</th>\n",
       "      <th>receiving_date</th>\n",
       "      <th>created_month</th>\n",
       "    </tr>\n",
       "  </thead>\n",
       "  <tbody>\n",
       "    <tr>\n",
       "      <th>1</th>\n",
       "      <td>6</td>\n",
       "      <td>11693.7</td>\n",
       "      <td>ВНУТРЕННИЙ</td>\n",
       "      <td>NaN</td>\n",
       "      <td>NaN</td>\n",
       "      <td>NaN</td>\n",
       "      <td>NaT</td>\n",
       "      <td>2021-05</td>\n",
       "    </tr>\n",
       "    <tr>\n",
       "      <th>2</th>\n",
       "      <td>14</td>\n",
       "      <td>5452.7</td>\n",
       "      <td>ОПЛАЧЕНО</td>\n",
       "      <td>Петрова</td>\n",
       "      <td>новая</td>\n",
       "      <td>оригинал</td>\n",
       "      <td>2021-07-26</td>\n",
       "      <td>2021-05</td>\n",
       "    </tr>\n",
       "    <tr>\n",
       "      <th>3</th>\n",
       "      <td>15</td>\n",
       "      <td>13991.7</td>\n",
       "      <td>ОПЛАЧЕНО</td>\n",
       "      <td>Иванов</td>\n",
       "      <td>текущая</td>\n",
       "      <td>оригинал</td>\n",
       "      <td>2021-06-08</td>\n",
       "      <td>2021-05</td>\n",
       "    </tr>\n",
       "    <tr>\n",
       "      <th>4</th>\n",
       "      <td>16</td>\n",
       "      <td>719.7</td>\n",
       "      <td>ОПЛАЧЕНО</td>\n",
       "      <td>Иванов</td>\n",
       "      <td>текущая</td>\n",
       "      <td>оригинал</td>\n",
       "      <td>2021-06-08</td>\n",
       "      <td>2021-05</td>\n",
       "    </tr>\n",
       "    <tr>\n",
       "      <th>5</th>\n",
       "      <td>18</td>\n",
       "      <td>4253.7</td>\n",
       "      <td>ОПЛАЧЕНО</td>\n",
       "      <td>Иванов</td>\n",
       "      <td>текущая</td>\n",
       "      <td>оригинал</td>\n",
       "      <td>2021-07-07</td>\n",
       "      <td>2021-05</td>\n",
       "    </tr>\n",
       "  </tbody>\n",
       "</table>\n",
       "</div>"
      ],
      "text/plain": [
       "   client_id      sum      status     sale new/current  document  \\\n",
       "1          6  11693.7  ВНУТРЕННИЙ      NaN         NaN       NaN   \n",
       "2         14   5452.7    ОПЛАЧЕНО  Петрова       новая  оригинал   \n",
       "3         15  13991.7    ОПЛАЧЕНО   Иванов     текущая  оригинал   \n",
       "4         16    719.7    ОПЛАЧЕНО   Иванов     текущая  оригинал   \n",
       "5         18   4253.7    ОПЛАЧЕНО   Иванов     текущая  оригинал   \n",
       "\n",
       "  receiving_date created_month  \n",
       "1            NaT       2021-05  \n",
       "2     2021-07-26       2021-05  \n",
       "3     2021-06-08       2021-05  \n",
       "4     2021-06-08       2021-05  \n",
       "5     2021-07-07       2021-05  "
      ]
     },
     "execution_count": 266,
     "metadata": {},
     "output_type": "execute_result"
    }
   ],
   "source": [
    "may_data = data[(data['created_month'] == '2021-05')]\n",
    "may_data.head()"
   ]
  },
  {
   "cell_type": "code",
   "execution_count": 267,
   "id": "174358bf",
   "metadata": {},
   "outputs": [
    {
     "data": {
      "text/plain": [
       "76"
      ]
     },
     "execution_count": 267,
     "metadata": {},
     "output_type": "execute_result"
    }
   ],
   "source": [
    "may_data[(may_data.receiving_date.dt.month == 6) & (may_data.document == \"оригинал\")].count()[0]"
   ]
  },
  {
   "cell_type": "markdown",
   "id": "623a4d71",
   "metadata": {},
   "source": [
    "В июне 2021 было получено **76** оригиналов договора по майским сделкам"
   ]
  },
  {
   "cell_type": "markdown",
   "id": "0b8ee50b",
   "metadata": {},
   "source": [
    "#### Задание: расчет бонусов и остатков для менеджеров"
   ]
  },
  {
   "cell_type": "markdown",
   "id": "40c4a587",
   "metadata": {},
   "source": [
    "За каждую заключенную сделку менеджер получает бонус, который рассчитывается\n",
    "следующим образом.\n",
    "1) За новые сделки менеджер получает 7 % от суммы, при условии, что статус\n",
    "оплаты «ОПЛАЧЕНО», а также имеется оригинал подписанного договора с\n",
    "клиентом (в рассматриваемом месяце).\n",
    "2) За текущие сделки менеджер получает 5 % от суммы, если она больше 10 тыс.,\n",
    "и 3 % от суммы, если меньше. При этом статус оплаты может быть любым,\n",
    "кроме «ПРОСРОЧЕНО», а также необходимо наличие оригинала подписанного\n",
    "договора с клиентом (в рассматриваемом месяце).\n",
    "\n",
    "Бонусы по сделкам, оригиналы для которых приходят позже рассматриваемого\n",
    "месяца, считаются остатком на следующий период, который выплачивается по мере\n",
    "прихода оригиналов. Вычислите остаток каждого из менеджеров на 01.07.2021."
   ]
  },
  {
   "cell_type": "markdown",
   "id": "ecccde42",
   "metadata": {},
   "source": [
    "Рассчитаем размер бонуса для каждой подходящей сделки"
   ]
  },
  {
   "cell_type": "code",
   "execution_count": 268,
   "id": "80cce5ee",
   "metadata": {},
   "outputs": [],
   "source": [
    "def calc_bonus(row):\n",
    "    bonus = 0\n",
    "    if (row['new/current'] == \"новая\"\n",
    "        and row['status'] == \"ОПЛАЧЕНО\"\n",
    "        and row['document'] == \"оригинал\"):\n",
    "        bonus = 0.07 * row['sum']\n",
    "    elif (row['new/current'] == \"текущая\" \n",
    "          and row['sum'] > 10_000\n",
    "          and row['status'] != \"ПРОСРОЧЕНО\" \n",
    "          and row['document'] == \"оригинал\"):\n",
    "        bonus = 0.05 * row['sum']\n",
    "    elif (row['new/current'] == \"текущая\" \n",
    "          and row['sum'] <= 10_000\n",
    "          and row['status'] != \"ПРОСРОЧЕНО\" \n",
    "          and row['document'] == \"оригинал\"):\n",
    "        bonus = 0.03 * row['sum']\n",
    "    \n",
    "    return bonus"
   ]
  },
  {
   "cell_type": "code",
   "execution_count": 269,
   "id": "a6c59e93",
   "metadata": {},
   "outputs": [
    {
     "data": {
      "text/html": [
       "<div>\n",
       "<style scoped>\n",
       "    .dataframe tbody tr th:only-of-type {\n",
       "        vertical-align: middle;\n",
       "    }\n",
       "\n",
       "    .dataframe tbody tr th {\n",
       "        vertical-align: top;\n",
       "    }\n",
       "\n",
       "    .dataframe thead th {\n",
       "        text-align: right;\n",
       "    }\n",
       "</style>\n",
       "<table border=\"1\" class=\"dataframe\">\n",
       "  <thead>\n",
       "    <tr style=\"text-align: right;\">\n",
       "      <th></th>\n",
       "      <th>client_id</th>\n",
       "      <th>sum</th>\n",
       "      <th>status</th>\n",
       "      <th>sale</th>\n",
       "      <th>new/current</th>\n",
       "      <th>document</th>\n",
       "      <th>receiving_date</th>\n",
       "      <th>created_month</th>\n",
       "      <th>bonus</th>\n",
       "    </tr>\n",
       "  </thead>\n",
       "  <tbody>\n",
       "    <tr>\n",
       "      <th>1</th>\n",
       "      <td>6</td>\n",
       "      <td>11693.7</td>\n",
       "      <td>ВНУТРЕННИЙ</td>\n",
       "      <td>NaN</td>\n",
       "      <td>NaN</td>\n",
       "      <td>NaN</td>\n",
       "      <td>NaT</td>\n",
       "      <td>2021-05</td>\n",
       "      <td>0.000</td>\n",
       "    </tr>\n",
       "    <tr>\n",
       "      <th>2</th>\n",
       "      <td>14</td>\n",
       "      <td>5452.7</td>\n",
       "      <td>ОПЛАЧЕНО</td>\n",
       "      <td>Петрова</td>\n",
       "      <td>новая</td>\n",
       "      <td>оригинал</td>\n",
       "      <td>2021-07-26</td>\n",
       "      <td>2021-05</td>\n",
       "      <td>381.689</td>\n",
       "    </tr>\n",
       "    <tr>\n",
       "      <th>3</th>\n",
       "      <td>15</td>\n",
       "      <td>13991.7</td>\n",
       "      <td>ОПЛАЧЕНО</td>\n",
       "      <td>Иванов</td>\n",
       "      <td>текущая</td>\n",
       "      <td>оригинал</td>\n",
       "      <td>2021-06-08</td>\n",
       "      <td>2021-05</td>\n",
       "      <td>699.585</td>\n",
       "    </tr>\n",
       "    <tr>\n",
       "      <th>4</th>\n",
       "      <td>16</td>\n",
       "      <td>719.7</td>\n",
       "      <td>ОПЛАЧЕНО</td>\n",
       "      <td>Иванов</td>\n",
       "      <td>текущая</td>\n",
       "      <td>оригинал</td>\n",
       "      <td>2021-06-08</td>\n",
       "      <td>2021-05</td>\n",
       "      <td>21.591</td>\n",
       "    </tr>\n",
       "    <tr>\n",
       "      <th>5</th>\n",
       "      <td>18</td>\n",
       "      <td>4253.7</td>\n",
       "      <td>ОПЛАЧЕНО</td>\n",
       "      <td>Иванов</td>\n",
       "      <td>текущая</td>\n",
       "      <td>оригинал</td>\n",
       "      <td>2021-07-07</td>\n",
       "      <td>2021-05</td>\n",
       "      <td>127.611</td>\n",
       "    </tr>\n",
       "    <tr>\n",
       "      <th>...</th>\n",
       "      <td>...</td>\n",
       "      <td>...</td>\n",
       "      <td>...</td>\n",
       "      <td>...</td>\n",
       "      <td>...</td>\n",
       "      <td>...</td>\n",
       "      <td>...</td>\n",
       "      <td>...</td>\n",
       "      <td>...</td>\n",
       "    </tr>\n",
       "    <tr>\n",
       "      <th>725</th>\n",
       "      <td>285</td>\n",
       "      <td>4328.7</td>\n",
       "      <td>ОПЛАЧЕНО</td>\n",
       "      <td>Васильев</td>\n",
       "      <td>текущая</td>\n",
       "      <td>оригинал</td>\n",
       "      <td>2021-11-15</td>\n",
       "      <td>2021-10</td>\n",
       "      <td>129.861</td>\n",
       "    </tr>\n",
       "    <tr>\n",
       "      <th>726</th>\n",
       "      <td>360</td>\n",
       "      <td>3096.2</td>\n",
       "      <td>ОПЛАЧЕНО</td>\n",
       "      <td>Васильев</td>\n",
       "      <td>новая</td>\n",
       "      <td>НЕТ</td>\n",
       "      <td>NaT</td>\n",
       "      <td>2021-10</td>\n",
       "      <td>0.000</td>\n",
       "    </tr>\n",
       "    <tr>\n",
       "      <th>727</th>\n",
       "      <td>360</td>\n",
       "      <td>3096.2</td>\n",
       "      <td>ПРОСРОЧЕНО</td>\n",
       "      <td>Васильев</td>\n",
       "      <td>новая</td>\n",
       "      <td>НЕТ</td>\n",
       "      <td>NaT</td>\n",
       "      <td>2021-10</td>\n",
       "      <td>0.000</td>\n",
       "    </tr>\n",
       "    <tr>\n",
       "      <th>728</th>\n",
       "      <td>373</td>\n",
       "      <td>4403.7</td>\n",
       "      <td>ОПЛАЧЕНО</td>\n",
       "      <td>Михайлов</td>\n",
       "      <td>новая</td>\n",
       "      <td>оригинал</td>\n",
       "      <td>2021-11-08</td>\n",
       "      <td>2021-10</td>\n",
       "      <td>308.259</td>\n",
       "    </tr>\n",
       "    <tr>\n",
       "      <th>729</th>\n",
       "      <td>286</td>\n",
       "      <td>3978.7</td>\n",
       "      <td>ОПЛАЧЕНО</td>\n",
       "      <td>Филимонова</td>\n",
       "      <td>текущая</td>\n",
       "      <td>оригинал</td>\n",
       "      <td>2021-11-15</td>\n",
       "      <td>2021-10</td>\n",
       "      <td>119.361</td>\n",
       "    </tr>\n",
       "  </tbody>\n",
       "</table>\n",
       "<p>724 rows × 9 columns</p>\n",
       "</div>"
      ],
      "text/plain": [
       "     client_id      sum      status        sale new/current  document  \\\n",
       "1            6  11693.7  ВНУТРЕННИЙ         NaN         NaN       NaN   \n",
       "2           14   5452.7    ОПЛАЧЕНО     Петрова       новая  оригинал   \n",
       "3           15  13991.7    ОПЛАЧЕНО      Иванов     текущая  оригинал   \n",
       "4           16    719.7    ОПЛАЧЕНО      Иванов     текущая  оригинал   \n",
       "5           18   4253.7    ОПЛАЧЕНО      Иванов     текущая  оригинал   \n",
       "..         ...      ...         ...         ...         ...       ...   \n",
       "725        285   4328.7    ОПЛАЧЕНО    Васильев     текущая  оригинал   \n",
       "726        360   3096.2    ОПЛАЧЕНО    Васильев       новая       НЕТ   \n",
       "727        360   3096.2  ПРОСРОЧЕНО    Васильев       новая       НЕТ   \n",
       "728        373   4403.7    ОПЛАЧЕНО    Михайлов       новая  оригинал   \n",
       "729        286   3978.7    ОПЛАЧЕНО  Филимонова     текущая  оригинал   \n",
       "\n",
       "    receiving_date created_month    bonus  \n",
       "1              NaT       2021-05    0.000  \n",
       "2       2021-07-26       2021-05  381.689  \n",
       "3       2021-06-08       2021-05  699.585  \n",
       "4       2021-06-08       2021-05   21.591  \n",
       "5       2021-07-07       2021-05  127.611  \n",
       "..             ...           ...      ...  \n",
       "725     2021-11-15       2021-10  129.861  \n",
       "726            NaT       2021-10    0.000  \n",
       "727            NaT       2021-10    0.000  \n",
       "728     2021-11-08       2021-10  308.259  \n",
       "729     2021-11-15       2021-10  119.361  \n",
       "\n",
       "[724 rows x 9 columns]"
      ]
     },
     "execution_count": 269,
     "metadata": {},
     "output_type": "execute_result"
    }
   ],
   "source": [
    "data['bonus'] = data.apply(lambda x: calc_bonus(x), axis=1)\n",
    "data"
   ]
  },
  {
   "cell_type": "markdown",
   "id": "de967c86",
   "metadata": {},
   "source": [
    "Остаток на 2021-07-01 значит, что сделка была начата до июля, но оригиналы по ней еще не пришли, то есть дата получения позже 2021-07-01"
   ]
  },
  {
   "cell_type": "code",
   "execution_count": 270,
   "id": "04b27441",
   "metadata": {},
   "outputs": [
    {
     "data": {
      "text/html": [
       "<div>\n",
       "<style scoped>\n",
       "    .dataframe tbody tr th:only-of-type {\n",
       "        vertical-align: middle;\n",
       "    }\n",
       "\n",
       "    .dataframe tbody tr th {\n",
       "        vertical-align: top;\n",
       "    }\n",
       "\n",
       "    .dataframe thead th {\n",
       "        text-align: right;\n",
       "    }\n",
       "</style>\n",
       "<table border=\"1\" class=\"dataframe\">\n",
       "  <thead>\n",
       "    <tr style=\"text-align: right;\">\n",
       "      <th></th>\n",
       "      <th>client_id</th>\n",
       "      <th>sum</th>\n",
       "      <th>status</th>\n",
       "      <th>sale</th>\n",
       "      <th>new/current</th>\n",
       "      <th>document</th>\n",
       "      <th>receiving_date</th>\n",
       "      <th>created_month</th>\n",
       "      <th>bonus</th>\n",
       "    </tr>\n",
       "  </thead>\n",
       "  <tbody>\n",
       "    <tr>\n",
       "      <th>2</th>\n",
       "      <td>14</td>\n",
       "      <td>5452.7</td>\n",
       "      <td>ОПЛАЧЕНО</td>\n",
       "      <td>Петрова</td>\n",
       "      <td>новая</td>\n",
       "      <td>оригинал</td>\n",
       "      <td>2021-07-26</td>\n",
       "      <td>2021-05</td>\n",
       "      <td>381.689</td>\n",
       "    </tr>\n",
       "    <tr>\n",
       "      <th>5</th>\n",
       "      <td>18</td>\n",
       "      <td>4253.7</td>\n",
       "      <td>ОПЛАЧЕНО</td>\n",
       "      <td>Иванов</td>\n",
       "      <td>текущая</td>\n",
       "      <td>оригинал</td>\n",
       "      <td>2021-07-07</td>\n",
       "      <td>2021-05</td>\n",
       "      <td>127.611</td>\n",
       "    </tr>\n",
       "    <tr>\n",
       "      <th>6</th>\n",
       "      <td>20</td>\n",
       "      <td>5796.7</td>\n",
       "      <td>ОПЛАЧЕНО</td>\n",
       "      <td>Кузнецова</td>\n",
       "      <td>текущая</td>\n",
       "      <td>оригинал</td>\n",
       "      <td>2021-07-15</td>\n",
       "      <td>2021-05</td>\n",
       "      <td>173.901</td>\n",
       "    </tr>\n",
       "    <tr>\n",
       "      <th>7</th>\n",
       "      <td>21</td>\n",
       "      <td>3613.7</td>\n",
       "      <td>ОПЛАЧЕНО</td>\n",
       "      <td>Кузнецова</td>\n",
       "      <td>текущая</td>\n",
       "      <td>оригинал</td>\n",
       "      <td>2021-10-13</td>\n",
       "      <td>2021-05</td>\n",
       "      <td>108.411</td>\n",
       "    </tr>\n",
       "    <tr>\n",
       "      <th>12</th>\n",
       "      <td>32</td>\n",
       "      <td>7353.9</td>\n",
       "      <td>ОПЛАЧЕНО</td>\n",
       "      <td>Филимонова</td>\n",
       "      <td>текущая</td>\n",
       "      <td>оригинал</td>\n",
       "      <td>2021-07-09</td>\n",
       "      <td>2021-05</td>\n",
       "      <td>220.617</td>\n",
       "    </tr>\n",
       "    <tr>\n",
       "      <th>...</th>\n",
       "      <td>...</td>\n",
       "      <td>...</td>\n",
       "      <td>...</td>\n",
       "      <td>...</td>\n",
       "      <td>...</td>\n",
       "      <td>...</td>\n",
       "      <td>...</td>\n",
       "      <td>...</td>\n",
       "      <td>...</td>\n",
       "    </tr>\n",
       "    <tr>\n",
       "      <th>253</th>\n",
       "      <td>281</td>\n",
       "      <td>5733.7</td>\n",
       "      <td>ОПЛАЧЕНО</td>\n",
       "      <td>Селиванов</td>\n",
       "      <td>текущая</td>\n",
       "      <td>оригинал</td>\n",
       "      <td>2021-07-22</td>\n",
       "      <td>2021-06</td>\n",
       "      <td>172.011</td>\n",
       "    </tr>\n",
       "    <tr>\n",
       "      <th>254</th>\n",
       "      <td>282</td>\n",
       "      <td>953.7</td>\n",
       "      <td>ОПЛАЧЕНО</td>\n",
       "      <td>Селиванов</td>\n",
       "      <td>новая</td>\n",
       "      <td>оригинал</td>\n",
       "      <td>2021-07-16</td>\n",
       "      <td>2021-06</td>\n",
       "      <td>66.759</td>\n",
       "    </tr>\n",
       "    <tr>\n",
       "      <th>255</th>\n",
       "      <td>284</td>\n",
       "      <td>8823.7</td>\n",
       "      <td>ПРОСРОЧЕНО</td>\n",
       "      <td>Филимонова</td>\n",
       "      <td>текущая</td>\n",
       "      <td>оригинал</td>\n",
       "      <td>2021-09-08</td>\n",
       "      <td>2021-06</td>\n",
       "      <td>0.000</td>\n",
       "    </tr>\n",
       "    <tr>\n",
       "      <th>256</th>\n",
       "      <td>286</td>\n",
       "      <td>3453.7</td>\n",
       "      <td>ОПЛАЧЕНО</td>\n",
       "      <td>Филимонова</td>\n",
       "      <td>текущая</td>\n",
       "      <td>оригинал</td>\n",
       "      <td>2021-07-22</td>\n",
       "      <td>2021-06</td>\n",
       "      <td>103.611</td>\n",
       "    </tr>\n",
       "    <tr>\n",
       "      <th>257</th>\n",
       "      <td>287</td>\n",
       "      <td>6543.7</td>\n",
       "      <td>ОПЛАЧЕНО</td>\n",
       "      <td>Филимонова</td>\n",
       "      <td>текущая</td>\n",
       "      <td>оригинал</td>\n",
       "      <td>2021-08-12</td>\n",
       "      <td>2021-06</td>\n",
       "      <td>196.311</td>\n",
       "    </tr>\n",
       "  </tbody>\n",
       "</table>\n",
       "<p>168 rows × 9 columns</p>\n",
       "</div>"
      ],
      "text/plain": [
       "     client_id     sum      status        sale new/current  document  \\\n",
       "2           14  5452.7    ОПЛАЧЕНО     Петрова       новая  оригинал   \n",
       "5           18  4253.7    ОПЛАЧЕНО      Иванов     текущая  оригинал   \n",
       "6           20  5796.7    ОПЛАЧЕНО   Кузнецова     текущая  оригинал   \n",
       "7           21  3613.7    ОПЛАЧЕНО   Кузнецова     текущая  оригинал   \n",
       "12          32  7353.9    ОПЛАЧЕНО  Филимонова     текущая  оригинал   \n",
       "..         ...     ...         ...         ...         ...       ...   \n",
       "253        281  5733.7    ОПЛАЧЕНО   Селиванов     текущая  оригинал   \n",
       "254        282   953.7    ОПЛАЧЕНО   Селиванов       новая  оригинал   \n",
       "255        284  8823.7  ПРОСРОЧЕНО  Филимонова     текущая  оригинал   \n",
       "256        286  3453.7    ОПЛАЧЕНО  Филимонова     текущая  оригинал   \n",
       "257        287  6543.7    ОПЛАЧЕНО  Филимонова     текущая  оригинал   \n",
       "\n",
       "    receiving_date created_month    bonus  \n",
       "2       2021-07-26       2021-05  381.689  \n",
       "5       2021-07-07       2021-05  127.611  \n",
       "6       2021-07-15       2021-05  173.901  \n",
       "7       2021-10-13       2021-05  108.411  \n",
       "12      2021-07-09       2021-05  220.617  \n",
       "..             ...           ...      ...  \n",
       "253     2021-07-22       2021-06  172.011  \n",
       "254     2021-07-16       2021-06   66.759  \n",
       "255     2021-09-08       2021-06    0.000  \n",
       "256     2021-07-22       2021-06  103.611  \n",
       "257     2021-08-12       2021-06  196.311  \n",
       "\n",
       "[168 rows x 9 columns]"
      ]
     },
     "execution_count": 270,
     "metadata": {},
     "output_type": "execute_result"
    }
   ],
   "source": [
    "july_rest_data = data[(data.receiving_date > '2021-07-01') & (data.created_month < '2021-07')]\n",
    "july_rest_data"
   ]
  },
  {
   "cell_type": "markdown",
   "id": "51cf44e6",
   "metadata": {},
   "source": [
    "Теперь посмотрим на остаток каждого из менеджеров на 2021-07-01"
   ]
  },
  {
   "cell_type": "code",
   "execution_count": 271,
   "id": "fc1b58dc",
   "metadata": {},
   "outputs": [
    {
     "data": {
      "text/html": [
       "<style type=\"text/css\">\n",
       "</style>\n",
       "<table id=\"T_1090c\">\n",
       "  <thead>\n",
       "    <tr>\n",
       "      <th class=\"blank level0\" >&nbsp;</th>\n",
       "      <th id=\"T_1090c_level0_col0\" class=\"col_heading level0 col0\" >sale</th>\n",
       "      <th id=\"T_1090c_level0_col1\" class=\"col_heading level0 col1\" >bonus</th>\n",
       "    </tr>\n",
       "  </thead>\n",
       "  <tbody>\n",
       "    <tr>\n",
       "      <th id=\"T_1090c_level0_row0\" class=\"row_heading level0 row0\" >0</th>\n",
       "      <td id=\"T_1090c_row0_col0\" class=\"data row0 col0\" >Андреев</td>\n",
       "      <td id=\"T_1090c_row0_col1\" class=\"data row0 col1\" >3 857.41</td>\n",
       "    </tr>\n",
       "    <tr>\n",
       "      <th id=\"T_1090c_level0_row1\" class=\"row_heading level0 row1\" >1</th>\n",
       "      <td id=\"T_1090c_row1_col0\" class=\"data row1 col0\" >Васильев</td>\n",
       "      <td id=\"T_1090c_row1_col1\" class=\"data row1 col1\" >1 037.05</td>\n",
       "    </tr>\n",
       "    <tr>\n",
       "      <th id=\"T_1090c_level0_row2\" class=\"row_heading level0 row2\" >2</th>\n",
       "      <td id=\"T_1090c_row2_col0\" class=\"data row2 col0\" >Иванов</td>\n",
       "      <td id=\"T_1090c_row2_col1\" class=\"data row2 col1\" >5 778.79</td>\n",
       "    </tr>\n",
       "    <tr>\n",
       "      <th id=\"T_1090c_level0_row3\" class=\"row_heading level0 row3\" >3</th>\n",
       "      <td id=\"T_1090c_row3_col0\" class=\"data row3 col0\" >Кузнецова</td>\n",
       "      <td id=\"T_1090c_row3_col1\" class=\"data row3 col1\" >4 496.95</td>\n",
       "    </tr>\n",
       "    <tr>\n",
       "      <th id=\"T_1090c_level0_row4\" class=\"row_heading level0 row4\" >4</th>\n",
       "      <td id=\"T_1090c_row4_col0\" class=\"data row4 col0\" >Петрова</td>\n",
       "      <td id=\"T_1090c_row4_col1\" class=\"data row4 col1\" >10 770.75</td>\n",
       "    </tr>\n",
       "    <tr>\n",
       "      <th id=\"T_1090c_level0_row5\" class=\"row_heading level0 row5\" >5</th>\n",
       "      <td id=\"T_1090c_row5_col0\" class=\"data row5 col0\" >Селиванов</td>\n",
       "      <td id=\"T_1090c_row5_col1\" class=\"data row5 col1\" >5 297.69</td>\n",
       "    </tr>\n",
       "    <tr>\n",
       "      <th id=\"T_1090c_level0_row6\" class=\"row_heading level0 row6\" >6</th>\n",
       "      <td id=\"T_1090c_row6_col0\" class=\"data row6 col0\" >Смирнов</td>\n",
       "      <td id=\"T_1090c_row6_col1\" class=\"data row6 col1\" >6 289.47</td>\n",
       "    </tr>\n",
       "    <tr>\n",
       "      <th id=\"T_1090c_level0_row7\" class=\"row_heading level0 row7\" >7</th>\n",
       "      <td id=\"T_1090c_row7_col0\" class=\"data row7 col0\" >Соколов</td>\n",
       "      <td id=\"T_1090c_row7_col1\" class=\"data row7 col1\" >269.21</td>\n",
       "    </tr>\n",
       "    <tr>\n",
       "      <th id=\"T_1090c_level0_row8\" class=\"row_heading level0 row8\" >8</th>\n",
       "      <td id=\"T_1090c_row8_col0\" class=\"data row8 col0\" >Филимонова</td>\n",
       "      <td id=\"T_1090c_row8_col1\" class=\"data row8 col1\" >2 317.96</td>\n",
       "    </tr>\n",
       "  </tbody>\n",
       "</table>\n"
      ],
      "text/plain": [
       "<pandas.io.formats.style.Styler at 0x1ab148e57e0>"
      ]
     },
     "execution_count": 271,
     "metadata": {},
     "output_type": "execute_result"
    }
   ],
   "source": [
    "july_rest_data.groupby('sale', as_index=False).bonus.sum().style \\\n",
    ".format(precision=2, thousands=\" \", decimal=\".\")"
   ]
  },
  {
   "cell_type": "code",
   "execution_count": null,
   "id": "06cf0501",
   "metadata": {},
   "outputs": [],
   "source": []
  }
 ],
 "metadata": {
  "kernelspec": {
   "display_name": "Python 3 (ipykernel)",
   "language": "python",
   "name": "python3"
  },
  "language_info": {
   "codemirror_mode": {
    "name": "ipython",
    "version": 3
   },
   "file_extension": ".py",
   "mimetype": "text/x-python",
   "name": "python",
   "nbconvert_exporter": "python",
   "pygments_lexer": "ipython3",
   "version": "3.10.9"
  }
 },
 "nbformat": 4,
 "nbformat_minor": 5
}
